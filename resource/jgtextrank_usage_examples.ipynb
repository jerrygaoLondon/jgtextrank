{
 "cells": [
  {
   "cell_type": "code",
   "execution_count": 1,
   "metadata": {},
   "outputs": [],
   "source": [
    "import os\n",
    "\n",
    "import time\n",
    "import multiprocessing\n",
    "from nltk.corpus.reader.wordlist import WordListCorpusReader\n",
    "\n",
    "from jgtextrank import keywords_extraction, keywords_extraction_from_corpus_directory\n",
    "# load custom stop list\n",
    "# The SMART stop-word list built by Chris Buckley and Gerard Salton, \n",
    "#   which can be obtained from http://www.lextek.com/manuals/onix/stopwords2.html\n",
    "reader = WordListCorpusReader('../resource', 'smart-stop-list.txt')\n",
    "stop_list = reader.words()"
   ]
  },
  {
   "cell_type": "markdown",
   "metadata": {},
   "source": [
    "# Keywords extraction from text"
   ]
  },
  {
   "cell_type": "code",
   "execution_count": 2,
   "metadata": {},
   "outputs": [
    {
     "name": "stdout",
     "output_type": "stream",
     "text": [
      "Keywords: \n",
      "\n",
      "[('system', 0.09082), ('type system', 0.09082), ('minimal set', 0.07823), ('set', 0.07823), ('minimal supporting set', 0.07823), ('linear constraint', 0.07614), ('linear diophantine equation', 0.07614), ('corresponding algorithm', 0.06401), ('algorithm', 0.06401), ('minimal', 0.05851), ('strict inequations', 0.05081), ('nonstrict inequations', 0.05081)]\n",
      "\n",
      "Top T vertices: \n",
      "\n",
      "[('system', 0.09082372985445038), ('set', 0.07823263636937204), ('linear', 0.0761400518605425), ('algorithm', 0.06401465435982252), ('equation', 0.059672075249721034), ('minimal', 0.05851242690778921), ('inequations', 0.050806044291552124)]\n"
     ]
    }
   ],
   "source": [
    "example_abstract = \"Compatibility of systems of linear constraints over the set of natural numbers. \" \\\n",
    "                           \"Criteria of compatibility of a system of linear Diophantine equations, strict inequations, \" \\\n",
    "                           \"and nonstrict inequations are considered. Upper bounds for components of a minimal set of \" \\\n",
    "                           \"solutions and algorithms of construction of minimal generating sets of solutions for all \" \\\n",
    "                           \"types of systems are given. These criteria and the corresponding algorithms for \" \\\n",
    "                           \"constructing a minimal supporting set of solutions can be used in solving all the \" \\\n",
    "                           \"considered types systems and systems of mixed types.\"\n",
    "example_abstract_results, example_abstract_top_vertices = keywords_extraction(example_abstract, top_p = 0.3, lemma=True)\n",
    "print(\"Keywords: \\n\")\n",
    "print(example_abstract_results)        \n",
    "print(\"\\nTop T vertices: \\n\")\n",
    "print(example_abstract_top_vertices)"
   ]
  },
  {
   "cell_type": "code",
   "execution_count": 3,
   "metadata": {},
   "outputs": [
    {
     "name": "stdout",
     "output_type": "stream",
     "text": [
      "Keywords: \n",
      "\n",
      "[('several end-to-end tasks', 0.06839), ('conditional random fields', 0.06839), ('information extraction', 0.06779), ('unstructured text', 0.06779), ('conll-2003 ner corpus', 0.06606), ('ner', 0.06606), ('entity recognition', 0.04956), ('question answering', 0.04662)]\n",
      "\n",
      "Top T vertices: \n",
      "\n",
      "[('fields', 0.06838889207498833), ('several', 0.06838889207498831), ('information', 0.06779131093059416), ('unstructured', 0.06779131093059416), ('ner', 0.06606231198616362), ('recognition', 0.04955562821923208), ('question', 0.04662004662004661)]\n"
     ]
    }
   ],
   "source": [
    "example_text_2 = \"Information extraction is the process of extracting structured data from unstructured text, \" \\\n",
    "                     \"which is relevant for several end-to-end tasks, including question answering. \" \\\n",
    "                     \"This paper addresses the tasks of named entity recognition (NER), \" \\\n",
    "                     \"a subtask of information extraction, using conditional random fields (CRF). \" \\\n",
    "                     \"Our method is evaluated on the ConLL-2003 NER corpus.\"\n",
    "\n",
    "example_text_2_results, example_text_2_top_vertices = keywords_extraction(example_text_2, top_p = 0.3)\n",
    "print(\"Keywords: \\n\")\n",
    "print(example_text_2_results)        \n",
    "print(\"\\nTop T vertices: \\n\")\n",
    "print(example_text_2_top_vertices)"
   ]
  },
  {
   "cell_type": "markdown",
   "metadata": {},
   "source": [
    "# Custom context window size\n",
    "\n",
    "Co-occurrence graph is build with default context windows size 2. A different window size can be set."
   ]
  },
  {
   "cell_type": "code",
   "execution_count": 4,
   "metadata": {},
   "outputs": [
    {
     "name": "stdout",
     "output_type": "stream",
     "text": [
      "Keywords with context window size(=5) : [('minimal set', 0.09395), ('set', 0.09395), ('minimal supporting set', 0.09395), ('system', 0.08126), ('type system', 0.08126), ('linear constraint', 0.06484), ('linear diophantine equation', 0.06484), ('minimal', 0.06142), ('corresponding algorithm', 0.05936), ('algorithm', 0.05936), ('solution', 0.05828), ('strict inequations', 0.05165), ('nonstrict inequations', 0.05165)]\n"
     ]
    }
   ],
   "source": [
    "# set to a larger context window size\n",
    "example_results_with_custom_ctx_size, example_abstract_top_vertices = keywords_extraction(example_abstract, window=5, \n",
    "                                                                                          top_p = 0.3, lemma=True)\n",
    "print(\"Keywords with context window size(=5) :\", example_results_with_custom_ctx_size)"
   ]
  },
  {
   "cell_type": "markdown",
   "metadata": {},
   "source": [
    "# Custom syntactic filters"
   ]
  },
  {
   "cell_type": "code",
   "execution_count": 5,
   "metadata": {},
   "outputs": [
    {
     "name": "stdout",
     "output_type": "stream",
     "text": [
      "Keywords result with custom filters:  [('system', 0.08862), ('type system', 0.08862), ('linear diophantine equation', 0.08538), ('linear constraint', 0.08538), ('upper bound', 0.07337), ('construction', 0.06491), ('algorithm', 0.06491), ('strict inequations', 0.05443), ('nonstrict inequations', 0.05443), ('compatibility', 0.0512), ('natural number', 0.05), ('component', 0.03832), ('minimal', 0.03509), ('solution', 0.03509), ('criterion', 0.02926), ('type', 0.02633)]\n"
     ]
    }
   ],
   "source": [
    "# custom syntactic filters to include verbs\n",
    "custom_categories = {'NNS', 'NNP', 'NN', 'JJ', 'VBZ'}\n",
    "\n",
    "# custom stop words filters\n",
    "stop_words={'set', 'mixed', 'corresponding', 'supporting'}\n",
    "\n",
    "# extract keywords from all vertices connections\n",
    "results_with_custom_filters, example_top_vertices = keywords_extraction(example_abstract, top_p = 1, \n",
    "                                                                        syntactic_categories = custom_categories, \n",
    "                                                                        stop_words = stop_words,\n",
    "                                                                        lemma=True)\n",
    "print(\"Keywords result with custom filters: \", results_with_custom_filters)"
   ]
  },
  {
   "cell_type": "markdown",
   "metadata": {},
   "source": [
    "# Custom co-occurrence context\n",
    "\n",
    "'jgTextRank' build word co-occurrences from sentential context by default. Depending on specific corpus and hypothesis, the word co-occurrence context can also be within a paragraph, section, adjacent sentences, current document or any specific semantic frames from text.\n",
    "\n",
    "Co-occurrence context can be customised in 'jgTextRank'. Following simple example shows how to extract keywords from pre-segmented corpus context."
   ]
  },
  {
   "cell_type": "code",
   "execution_count": 6,
   "metadata": {},
   "outputs": [
    {
     "name": "stdout",
     "output_type": "stream",
     "text": [
      "keywords from custom corpus context: [('systems', 0.07958), ('minimal', 0.06362), ('set', 0.06361), ('algorithms', 0.05406), ('solutions', 0.04964), ('linear constraints', 0.04358), ('types systems', 0.03979), ('criteria', 0.03779), ('compatibility', 0.03606), ('construction', 0.0352), ('types', 0.03472), ('sets', 0.03405), ('minimal set', 0.03181), ('linear diophantine equations', 0.02905), ('corresponding algorithms', 0.02703), ('strict inequations', 0.02328), ('nonstrict inequations', 0.02328), ('system', 0.02125), ('minimal supporting set', 0.02121), ('natural numbers', 0.01893), ('mixed types', 0.01736), ('components', 0.00644), ('upper', 0.00644)]\n",
      "\n",
      "top vertices from custom corpus context:  [('linear', 0.08716454033846273), ('systems', 0.07958065089858095), ('minimal', 0.06361651491412551), ('set', 0.06360874993054699), ('equations', 0.05463841353047285), ('algorithms', 0.05405771103092074), ('solutions', 0.04963714471144737), ('inequations', 0.046554085569416453), ('strict', 0.04149971651900877), ('numbers', 0.03785215263626042), ('criteria', 0.037792343519033614), ('diophantine', 0.036681154466556065), ('compatibility', 0.0360595296121594), ('natural', 0.03598303884533699), ('construction', 0.03520362318853901), ('mixed', 0.034717174829926686), ('types', 0.03471717482992668), ('sets', 0.034054740728528016), ('supporting', 0.03344294282061079), ('nonstrict', 0.026069641980295835), ('corresponding', 0.02169125876347117), ('system', 0.021251079927843135), ('constraints', 0.021251079927843135), ('components', 0.0064377682403433485), ('upper', 0.0064377682403433485)]\n"
     ]
    }
   ],
   "source": [
    "from jgtextrank.core import keywords_extraction_from_segmented_corpus\n",
    "# the \"example context\" is segmented into a list of 3 separate context\n",
    "# see also 'keywords_extraction_from_tagged_corpus' for pre-segmented and pre-tagged corpus as input\n",
    "example_user_defined_context_corpus = [[\"Compatibility\", \"of\", \"systems\", \"of\", \"linear\", \"constraints\",\n",
    "                                             \"over\", \"the\", \"set\", \"of\", \"natural\", \"numbers\",\".\",\n",
    "                                             \"Criteria\", \"of\", \"compatibility\", \"of\", \"a\", \"system\", \"of\",\n",
    "                                             \"linear\", \"Diophantine\", \"equations\", \",\", \"strict\", \"inequations\", \",\",\n",
    "                                             \"and\", \"nonstrict\", \"inequations\", \"are\", \"considered\", \".\"],\n",
    "                                            [\"Upper\", \"bounds\", \"for\", \"components\", \"of\", \"a\", \"minimal\", \"set\",\n",
    "                                             \"of\", \"solutions\", \"and\",\"algorithms\",\"of\", \"construction\", \"of\",\n",
    "                                             \"minimal\", \"generating\", \"sets\", \"of\", \"solutions\", \"for\", \"all\",\n",
    "                                             \"types\", \"of\", \"systems\", \"are\", \"given\", \".\"],\n",
    "                                            [\"These\", \"criteria\", \"and\", \"the\", \"corresponding\", \"algorithms\",\n",
    "                                             \"for\", \"constructing\", \"a\", \"minimal\", \"supporting\", \"set\", \"of\",\n",
    "                                             \"solutions\", \"can\", \"be\", \"used\", \"in\", \"solving\", \"all\", \"the\",\n",
    "                                             \"considered\", \"types\", \"systems\", \"and\", \"systems\", \"of\", \"mixed\",\n",
    "                                             \"types\",\".\"]]\n",
    "results_with_custom_context, top_vertices = keywords_extraction_from_segmented_corpus(example_user_defined_context_corpus,\n",
    "                                                                                      top_p=1)\n",
    "print(\"keywords from custom corpus context:\", results_with_custom_context)\n",
    "print(\"\\ntop vertices from custom corpus context: \", top_vertices)"
   ]
  },
  {
   "cell_type": "markdown",
   "metadata": {},
   "source": [
    "# Visual Analytics of Co-occurrence Graph\n",
    "\n",
    "'jgTextRank' supports various different custom settings including syntactic filters, stopwords, top T vertices, context window size, building co-occurrence connections from either original context text or filtered context, pageRank solver, and so forth. It would be a good idea to gain insights from visual analysis of the corresponding co-occurrence graph with actual samples.\n",
    "\n",
    "Following code presents a simple example of how to visualise co-occurrence graph from your sample text."
   ]
  },
  {
   "cell_type": "code",
   "execution_count": 7,
   "metadata": {},
   "outputs": [
    {
     "data": {
      "image/png": "[encoded data removed]",
      "text/plain": [
       "<matplotlib.figure.Figure at 0x21d6b3cba90>"
      ]
     },
     "metadata": {},
     "output_type": "display_data"
    }
   ],
   "source": [
    "from jgtextrank.core import preprocessing, build_cooccurrence_graph\n",
    "import networkx as nx\n",
    "import matplotlib.pyplot as plt\n",
    "\n",
    "preprocessed_context = preprocessing(example_abstract, syntactic_categories = custom_categories, \n",
    "                                     stop_words = stop_words, lemma=True)\n",
    "\n",
    "cooccurrence_graph, original_tokenised_context = build_cooccurrence_graph(preprocessed_context)\n",
    "pos = nx.spring_layout(cooccurrence_graph,k=0.20,iterations=20)\n",
    "nx.draw_networkx(cooccurrence_graph, pos=pos, arrows=True, with_labels=True)\n",
    "plt.suptitle('Co-occurrences with context window 2', fontsize=16)\n",
    "plt.show()"
   ]
  },
  {
   "cell_type": "code",
   "execution_count": 8,
   "metadata": {},
   "outputs": [
    {
     "data": {
      "image/png": "[encoded data removed]",
      "text/plain": [
       "<matplotlib.figure.Figure at 0x21d6ad7fdd8>"
      ]
     },
     "metadata": {},
     "output_type": "display_data"
    }
   ],
   "source": [
    "# set to a larger context size\n",
    "preprocessed_context = preprocessing(example_abstract, syntactic_categories = custom_categories, \n",
    "                                     stop_words = stop_words, lemma=True)\n",
    "\n",
    "cooccurrence_graph, original_tokenised_context = build_cooccurrence_graph(preprocessed_context, window=3)\n",
    "pos = nx.spring_layout(cooccurrence_graph,k=0.20,iterations=20)\n",
    "nx.draw_networkx(cooccurrence_graph, pos=pos, arrows=True, with_labels=True)\n",
    "plt.suptitle('Co-occurrences with context window 3', fontsize=16)\n",
    "plt.show()"
   ]
  },
  {
   "cell_type": "markdown",
   "metadata": {},
   "source": [
    "# Multi-Word Term (MWT) Scoring\n"
   ]
  },
  {
   "cell_type": "markdown",
   "metadata": {},
   "source": [
    "Multi-Word Terms(MWTs) are commonly weighted based on the maximum value of vertix unit among all the vertices in TextRank. jgTextRank implemented 11 additional algorithms. See all the scoring options as below:\n",
    "\n",
    "* **'max'** : maximum value of vertices weights\n",
    "* **'avg'** : avarage vertices weight\n",
    "* **'sum'** : sum of vertices weights\n",
    "* **'norm_max'** : MWT unit size normalisation of 'max' weight\n",
    "* **'norm_avg'** : MWT unit size normalisation of 'avg' weight\n",
    "* **'norm_sum'** : MWT unit size normalisation of 'sum' weight\n",
    "* **'log_norm_max'** : logarithm based normalisation of 'max' weight\n",
    "* **'log_norm_avg'** : logarithm based normalisation of 'avg' weight\n",
    "* **'log_norm_sum'** : logarithm based normalisation of 'sum' weight\n",
    "* **'gaussian_norm_max'** : gaussian normalisation of 'max' weight\n",
    "* **'gaussian_norm_avg'** : gaussian normalisation of 'avg' weight\n",
    "* **'gaussian_norm_sum'** : gaussian normalisation of 'sum' weight \n",
    "\n",
    "**'max'** is the default weighting metric for short-text keyword extraction in _'jgTextRank'_, while **'norm_max'** is the default one used for corpus based term extraction methods. The purpose of normalisation methods intend to penalise longer candidate terms and rank terms with desired term size higher.\n",
    "\n",
    "Logarithm and Gaussian normalisations are two new experimental metrics implemented in _'jgTextRank'_. The following section briefly presents the intuition of two methods."
   ]
  },
  {
   "cell_type": "markdown",
   "metadata": {},
   "source": [
    "## Intuition of logarithm and Gaussian normalisation\n",
    "\n",
    "Following two figures illustrates the intuition of two normalisation methods: 'log\\_norm' and 'gaussian_norm'.\n",
    "\n",
    "Both two methods attempt to penalise long candidate terms based a _\"mean\" value_ of term size distribution.\n",
    "\n",
    "* **'log_norm'** intends to penalise candidate terms gradually that has longer size than the _\"mean\" value_, while rewarding the ones shorter than the point.\n",
    "\n",
    "* **'gaussian_norm'** intends to treat the candidates terms with the _\"mean\"_ size as a central point of distribution and gradually penalise the terms far from the point.\n",
    "\n",
    "The _\"mean\" size_ can be an actual mean of sizes of all candidate terms. The intuition is that we can set a \"mean\" value for our dataset and rank any candidate term higher with the observed term size. 'jgtextrank' allows to set the value manually and the default value is 5. This is based on last decades research that most of terminologies or key words concentrate on the size range from 1 to 6."
   ]
  },
  {
   "cell_type": "code",
   "execution_count": 9,
   "metadata": {},
   "outputs": [
    {
     "data": {
      "image/png": "[encoded data removed]",
      "text/plain": [
       "<matplotlib.figure.Figure at 0x21d6bb80ef0>"
      ]
     },
     "metadata": {},
     "output_type": "display_data"
    },
    {
     "data": {
      "image/png": "[encoded data removed]",
      "text/plain": [
       "<matplotlib.figure.Figure at 0x21d6bc14128>"
      ]
     },
     "metadata": {},
     "output_type": "display_data"
    }
   ],
   "source": [
    "import matplotlib.pyplot as plt\n",
    "import numpy as np\n",
    "import math\n",
    "\n",
    "# set mean of terms size distribution\n",
    "mu = 5\n",
    "\n",
    "# sample x dataset as term sizes from 1 - 10\n",
    "x = np.linspace(1,10)\n",
    "y = [math.log(x_i, mu) for x_i in x]\n",
    "\n",
    "fig, ax = plt.subplots(figsize=(10,3))\n",
    "\n",
    "ax.set_title(\"plot y on log (base=5) scale\")\n",
    "#ax.set_yscale(\"log\")\n",
    "ax.set_ylim([0, 2])\n",
    "ax.plot(x,y) \n",
    "\n",
    "plt.plot((0, 5), (1, 1), '--')\n",
    "plt.plot((5, 5), (0, 1), '--')\n",
    "\n",
    "plt.show()\n",
    "\n",
    "# try with norm distribution\n",
    "# mu = np.mean(x)\n",
    "mu = 5\n",
    "sigma = np.std(x)\n",
    "sum_x = sum(x)\n",
    "min_x = min(x)\n",
    "max_x = max(x)\n",
    "\n",
    "#print(np.sqrt(2))\n",
    "\n",
    "def probability_density(x_value, mu, sigma):\n",
    "    pd = (1/(sigma * np.sqrt(2 * math.pi))) * math.exp(- math.pow((x_value - mu),2) / (2 * math.pow(sigma, 2)))\n",
    "    return pd\n",
    "\n",
    "norm_value = 1 - probability_density(mu, mu, sigma)\n",
    "\n",
    "n_y = [probability_density(x_i, mu, sigma) + norm_value for x_i in x]\n",
    "\n",
    "# print(\"prob of 5: \", probability_density(5, mu, sigma))\n",
    "\n",
    "fig_2, ax_2 = plt.subplots(figsize=(10,3))\n",
    "\n",
    "ax_2.set_title(\"plot y on norm (mu=5) distribution \")\n",
    "#ax.set_yscale(\"log\")\n",
    "ax_2.set_ylim([0.85, 1.05])\n",
    "ax_2.plot(x,n_y) \n",
    "\n",
    "plt.plot((0, 5), (1, 1), '--')\n",
    "plt.plot((5, 5), (0, 1), '--')\n",
    "\n",
    "plt.show()"
   ]
  },
  {
   "cell_type": "markdown",
   "metadata": {},
   "source": [
    "## Simple examples of MWT ranking"
   ]
  },
  {
   "cell_type": "code",
   "execution_count": 10,
   "metadata": {},
   "outputs": [
    {
     "name": "stdout",
     "output_type": "stream",
     "text": [
      "Top 10 Keywords with 'avg':  [('system', 0.09082), ('set', 0.07823), ('minimal set', 0.06837), ('type system', 0.06496), ('algorithm', 0.06401), ('minimal supporting set', 0.05898), ('linear diophantine equation', 0.05864), ('minimal', 0.05851), ('linear constraint', 0.04968), ('strict inequations', 0.04809)]\n",
      "\n",
      "Top 10 Keywords with 'norm_avg':  [('system', 0.09082), ('set', 0.07823), ('algorithm', 0.06401), ('minimal', 0.05851), ('compatibility', 0.04457), ('solution', 0.04169), ('construction', 0.04165), ('type', 0.03909), ('minimal set', 0.03419), ('type system', 0.03248)]\n",
      "\n",
      "Top 10 Keywords with 'log_norm_avg'(mu=3):  [('minimal set', 0.10837), ('type system', 0.10296), ('system', 0.09082), ('linear constraint', 0.07875), ('set', 0.07823), ('strict inequations', 0.07622), ('corresponding algorithm', 0.07062), ('algorithm', 0.06401), ('nonstrict inequations', 0.06286), ('mixed type', 0.06196)]\n",
      "\n",
      "Top 10 Keywords with 'gaussian_norm_avg'(mu=3):  [('system', 0.09027), ('set', 0.07775), ('algorithm', 0.06362), ('minimal', 0.05815), ('minimal set', 0.05526), ('type system', 0.0525), ('compatibility', 0.04429), ('solution', 0.04143), ('construction', 0.04139), ('linear constraint', 0.04016)]\n",
      "\n",
      "Top 10 Keywords with 'sum':  [('minimal supporting set', 0.17694), ('linear diophantine equation', 0.17591), ('minimal set', 0.13675), ('type system', 0.12992), ('linear constraint', 0.09937), ('strict inequations', 0.09618), ('system', 0.09082), ('corresponding algorithm', 0.08911), ('nonstrict inequations', 0.07932), ('set', 0.07823)]\n",
      "\n",
      "Top 10 Keywords with 'norm_sum':  [('system', 0.09082), ('set', 0.07823), ('minimal set', 0.06837), ('type system', 0.06496), ('algorithm', 0.06401), ('minimal supporting set', 0.05898), ('linear diophantine equation', 0.05864), ('minimal', 0.05851), ('linear constraint', 0.04968), ('strict inequations', 0.04809)]\n",
      "\n",
      "Top 10 Keywords with 'log_norm_sum'(mu=3):  [('minimal set', 0.21674), ('type system', 0.20591), ('minimal supporting set', 0.17694), ('linear diophantine equation', 0.17591), ('linear constraint', 0.1575), ('strict inequations', 0.15245), ('corresponding algorithm', 0.14123), ('nonstrict inequations', 0.12572), ('mixed type', 0.12392), ('natural number', 0.11594)]\n",
      "\n",
      "Top 10 Keywords with 'gaussian_norm_sum'(mu=3):  [('minimal set', 0.11053), ('type system', 0.10501), ('system', 0.09027), ('linear constraint', 0.08032), ('set', 0.07775), ('strict inequations', 0.07774), ('corresponding algorithm', 0.07202), ('minimal supporting set', 0.06996), ('linear diophantine equation', 0.06955), ('nonstrict inequations', 0.06411)]\n",
      "\n",
      "Top 10 Keywords with 'max':  [('system', 0.09082), ('type system', 0.09082), ('minimal set', 0.07823), ('set', 0.07823), ('minimal supporting set', 0.07823), ('linear constraint', 0.07614), ('linear diophantine equation', 0.07614), ('corresponding algorithm', 0.06401), ('algorithm', 0.06401), ('minimal', 0.05851)]\n",
      "\n",
      "Top 10 Keywords with 'norm_max':  [('system', 0.09082), ('set', 0.07823), ('algorithm', 0.06401), ('minimal', 0.05851), ('type system', 0.04541), ('compatibility', 0.04457), ('solution', 0.04169), ('construction', 0.04165), ('minimal set', 0.03912), ('type', 0.03909)]\n",
      "\n",
      "Top 10 Keywords with 'log_norm_max'(mu=3):  [('type system', 0.14395), ('minimal set', 0.124), ('linear constraint', 0.12068), ('corresponding algorithm', 0.10146), ('system', 0.09082), ('strict inequations', 0.08053), ('nonstrict inequations', 0.08053), ('set', 0.07823), ('minimal supporting set', 0.07823), ('linear diophantine equation', 0.07614)]\n",
      "\n",
      "Top 10 Keywords with 'gaussian_norm_max'(mu=3):  [('system', 0.09027), ('set', 0.07775), ('type system', 0.07341), ('algorithm', 0.06362), ('minimal set', 0.06323), ('linear constraint', 0.06154), ('minimal', 0.05815), ('corresponding algorithm', 0.05174), ('compatibility', 0.04429), ('solution', 0.04143)]\n"
     ]
    }
   ],
   "source": [
    "example_abstract_results_wc1, example_abstract_top_vertices = keywords_extraction(example_abstract, weight_comb=\"avg\", top_p = 1, lemma=True)\n",
    "print(\"Top 10 Keywords with 'avg': \", example_abstract_results_wc1[:10])\n",
    "\n",
    "example_abstract_results_wc2, example_abstract_top_vertices = keywords_extraction(example_abstract, weight_comb=\"norm_avg\", top_p = 1, lemma=True)\n",
    "print(\"\\nTop 10 Keywords with 'norm_avg': \", example_abstract_results_wc2[:10])\n",
    "\n",
    "example_abstract_results_wc3, example_abstract_top_vertices = keywords_extraction(example_abstract, weight_comb=\"log_norm_avg\", top_p = 1, mu=3, lemma=True)\n",
    "print(\"\\nTop 10 Keywords with 'log_norm_avg'(mu=3): \", example_abstract_results_wc3[:10])\n",
    "\n",
    "example_abstract_results_wc4, example_abstract_top_vertices = keywords_extraction(example_abstract, weight_comb=\"gaussian_norm_avg\", top_p = 1, mu=3, lemma=True)\n",
    "print(\"\\nTop 10 Keywords with 'gaussian_norm_avg'(mu=3): \", example_abstract_results_wc4[:10])\n",
    "\n",
    "example_abstract_results_wc5, example_abstract_top_vertices = keywords_extraction(example_abstract, weight_comb=\"sum\", top_p = 1, lemma=True)\n",
    "print(\"\\nTop 10 Keywords with 'sum': \", example_abstract_results_wc5[:10])\n",
    "\n",
    "example_abstract_results_wc6, example_abstract_top_vertices = keywords_extraction(example_abstract, weight_comb=\"norm_sum\", top_p = 1, lemma=True)\n",
    "print(\"\\nTop 10 Keywords with 'norm_sum': \", example_abstract_results_wc6[:10])\n",
    "\n",
    "example_abstract_results_wc7, example_abstract_top_vertices = keywords_extraction(example_abstract, weight_comb=\"log_norm_sum\", top_p = 1, mu=3, lemma=True)\n",
    "print(\"\\nTop 10 Keywords with 'log_norm_sum'(mu=3): \", example_abstract_results_wc7[:10])\n",
    "\n",
    "example_abstract_results_wc8, example_abstract_top_vertices = keywords_extraction(example_abstract, weight_comb=\"gaussian_norm_sum\", top_p = 1, mu=3, lemma=True)\n",
    "print(\"\\nTop 10 Keywords with 'gaussian_norm_sum'(mu=3): \", example_abstract_results_wc8[:10])\n",
    "\n",
    "example_abstract_results_wc9, example_abstract_top_vertices = keywords_extraction(example_abstract, weight_comb=\"max\", top_p = 1, lemma=True)\n",
    "print(\"\\nTop 10 Keywords with 'max': \", example_abstract_results_wc9[:10])\n",
    "\n",
    "example_abstract_results_wc10, example_abstract_top_vertices = keywords_extraction(example_abstract, weight_comb=\"norm_max\", top_p = 1, mu=3, lemma=True)\n",
    "print(\"\\nTop 10 Keywords with 'norm_max': \", example_abstract_results_wc10[:10])\n",
    "\n",
    "example_abstract_results_wc11, example_abstract_top_vertices = keywords_extraction(example_abstract, weight_comb=\"log_norm_max\", top_p = 1, mu=3, lemma=True)\n",
    "print(\"\\nTop 10 Keywords with 'log_norm_max'(mu=3): \", example_abstract_results_wc11[:10])\n",
    "\n",
    "example_abstract_results_wc12, example_abstract_top_vertices = keywords_extraction(example_abstract, weight_comb=\"gaussian_norm_max\", top_p = 1, mu=3, lemma=True)\n",
    "print(\"\\nTop 10 Keywords with 'gaussian_norm_max'(mu=3): \", example_abstract_results_wc12[:10])"
   ]
  },
  {
   "cell_type": "markdown",
   "metadata": {},
   "source": [
    "# Term extraction from corpus\n",
    "\n",
    "'jgtextrank' can be applied to raw text corpus for corpus-level term extraction. Corpus-level term graph representation will be made and linearly expanded by merging individual vertex graph and their co-occurrences from all the context across the entire document set.\n",
    "\n",
    "The implementation is memory-efficient and can be applied to large corpus. You can set available workers (CPU cores) to speed up the co-occurrence computation."
   ]
  },
  {
   "cell_type": "code",
   "execution_count": 11,
   "metadata": {},
   "outputs": [],
   "source": [
    "import logging.config\n",
    "# log can be set up for corpus processing or for the debugging\n",
    "logging.config.fileConfig(os.path.join('..', 'logging.conf'))"
   ]
  },
  {
   "cell_type": "code",
   "execution_count": 12,
   "metadata": {},
   "outputs": [
    {
     "name": "stdout",
     "output_type": "stream",
     "text": [
      "term extraction from corpus [GENIAcorpus302\\text\\files] ...\n",
      "2017-12-31 10:13:52,701 [MainThread  ] - textrank - INFO - computing vertices representations...\n",
      "2017-12-31 10:15:52,338 [MainThread  ] - textrank - INFO - total size of vertices: 16121\n",
      "2017-12-31 10:15:56,630 [MainThread  ] - textrank - DEBUG - top T(t=100) vertices: [('cell', 0.023948110403464038), ('protein', 0.012219775994005803), ('gene', 0.010030478323416008), ('expression', 0.007286230213382803), ('human', 0.006524408401121062), ('factor', 0.00612207339814623), ('activity', 0.005721538282275166), ('site', 0.005637743567407802), ('activation', 0.005599643960173472), ('receptor', 0.005050309207558882)] ...\n",
      "2017-12-31 10:15:56,652 [MainThread  ] - textrank - INFO - collapse adjacent keywords ...\n",
      "2017-12-31 10:17:37,760 [MainThread  ] - textrank - INFO - exporting sorted keywords into [textrank_genia.json]\n",
      "2017-12-31 10:17:37,857 [MainThread  ] - textrank - INFO - complete result export.\n",
      "\n",
      "\n",
      "Complete. Wall-clock elapsed time:  344.077339887619 s\n",
      "\n",
      "\n",
      "top 50 keywords:  [('cell', 0.02395), ('protein', 0.01222), ('cvz-resistant cell', 0.01197), ('monocyte/macrophage cell', 0.01197), ('nef-expressing cell', 0.01197), ('cell antigen-receptor', 0.01197), ('e1a-immortalized cell', 0.01197), ('cd3+ cell', 0.01197), ('e1a-negative cell', 0.01197), ('cell important', 0.01197), ('primary cell', 0.01197), ('cell suicide', 0.01197), ('e1a-positive cell', 0.01197), ('endometrial cell', 0.01197), ('cell dysregulation', 0.01197), ('t-lineage cell', 0.01197), ('hit cell', 0.01197), ('polymorphonuclear cell', 0.01197), ('p-lps-treated cell', 0.01197), ('cell stimulus', 0.01197), ('rodent cell', 0.01197), ('cell pigmentation', 0.01197), ('rescue cell', 0.01197), ('cell differ', 0.01197), ('raji cell', 0.01197), ('monoblastoid cell', 0.01197), ('m-tat/gm-csf cell', 0.01197), ('cell require', 0.01197), ('cell cytoplasm', 0.01197), ('cell homeostasis', 0.01197), ('cell nhl', 0.01197), ('osteoclast-like cell', 0.01197), ('non-b cell', 0.01197), ('cell receptor-beta', 0.01197), ('cd45ra+ cell', 0.01197), ('ifn-alpha-treated cell', 0.01197), ('acyclovir-treated cell', 0.01197), ('p19 cell', 0.01197), ('cell fusion', 0.01197), ('apl cell', 0.01197), ('vascular cell', 0.01197), ('leukemic cell', 0.01197), ('t-lymphoid cell', 0.01197), ('fmol/million cell', 0.01197), ('cell nucleus', 0.01197), ('el4 cell', 0.01197), ('cell play', 0.01197), ('ht-2 cell', 0.01197), ('c81-66-45 cell', 0.01197), ('cell death', 0.01197)]\n",
      "\n",
      "\n",
      "top 50 vertices:  [('cell', 0.023948110403464038), ('protein', 0.012219775994005803), ('gene', 0.010030478323416008), ('expression', 0.007286230213382803), ('human', 0.006524408401121062), ('factor', 0.00612207339814623), ('activity', 0.005721538282275166), ('site', 0.005637743567407802), ('activation', 0.005599643960173472), ('receptor', 0.005050309207558882), ('transcription', 0.00466342383884157), ('line', 0.004502367026484186), ('element', 0.004364747020793061), ('complex', 0.004359716429817607), ('increase', 0.004201125356988595), ('promoter', 0.004171562557636693), ('sequence', 0.004144366441427001), ('region', 0.003983108481407991), ('effect', 0.0038716485733170007), ('patient', 0.003849079113224919), ('show', 0.003781599930700044), ('induce', 0.00338756844591417), ('pathway', 0.0029738665387900676), ('bind', 0.0029633895976955097), ('binding', 0.002959871957560184), ('inhibit', 0.0028199930067638267), ('suggest', 0.0027303306635928404), ('response', 0.0027012159774120223), ('antibody', 0.002613617392777367), ('kinase', 0.0025860774906247604), ('express', 0.002571906641957386), ('motif', 0.0025275915552990373), ('nuclear', 0.002497982778955198), ('signal', 0.0024719719028162557), ('domain', 0.002370383546332901), ('level', 0.0023661482287827256), ('activate', 0.0023556855632710315), ('assay', 0.002305024302339972), ('dna', 0.0022921516719942177), ('acid', 0.0022845732749808777), ('inhibitor', 0.002279454565298837), ('analysis', 0.002217637606666113), ('interaction', 0.0021952452187894407), ('lymphocyte', 0.0021905235794626057), ('induction', 0.002083793013794812), ('mouse', 0.00199745536954297), ('mrna', 0.0019577698425130015), ('study', 0.0018975477344433383), ('nf-kappa', 0.0018951878450749523), ('demonstrate', 0.0018884784638201605)]\n"
     ]
    }
   ],
   "source": [
    "\n",
    "corpus_directory = os.path.join('GENIAcorpus302', 'text', 'files')\n",
    "\n",
    "print(\"term extraction from corpus [%s] ...\" % corpus_directory)\n",
    "start = time.time()\n",
    "\n",
    "# \"T is set to a third of the number of vertices in the graph\"\n",
    "# 'workers' is set to use all the available cpu cores\n",
    "keywords, top_t_vertices = keywords_extraction_from_corpus_directory(corpus_directory,\n",
    "                                                         top_p=1, stop_words=stop_list,\n",
    "                                                         lemma=True, weight_comb=\"norm_max\",\n",
    "                                                         export=True, export_format=\"json\",\n",
    "                                                         export_path=\"textrank_genia.json\",\n",
    "                                                         workers=multiprocessing.cpu_count())\n",
    "\n",
    "end = time.time()\n",
    "\n",
    "print(\"\\n\")\n",
    "print(\"Complete. Wall-clock elapsed time: \", end - start, \"s\")\n",
    "print(\"\\n\")\n",
    "print(\"top 50 keywords: \", keywords[:50])\n",
    "print(\"\\n\")\n",
    "print(\"top 50 vertices: \", top_t_vertices[:50])"
   ]
  },
  {
   "cell_type": "markdown",
   "metadata": {},
   "source": [
    "Evaluation of the result with reference set:"
   ]
  },
  {
   "cell_type": "code",
   "execution_count": 13,
   "metadata": {},
   "outputs": [
    {
     "name": "stdout",
     "output_type": "stream",
     "text": [
      "load and normalise GENIA gs term list from [genia_gs_terms.txt]\n",
      "initially loaded gs terms size:  35800\n",
      "normalised gs terms loaded.\n"
     ]
    }
   ],
   "source": [
    "from example_utility import load_genia_gs_terms, normalise_term, term_precision, term_recall\n",
    "gs_terms = load_genia_gs_terms('genia_gs_terms.txt')"
   ]
  },
  {
   "cell_type": "code",
   "execution_count": 14,
   "metadata": {},
   "outputs": [
    {
     "name": "stdout",
     "output_type": "stream",
     "text": [
      "Evaluation Result of GENIA dataset: \n",
      "\n",
      "\n",
      "overall precision:  0.4051172707889126\n",
      "overall recall:  0.356\n",
      "top_200_precision:  0.6683417085427136\n",
      "top_500_precision:  0.6519114688128773\n",
      "top_1000_precision:  0.6092648539778449\n",
      "top_2000_precision:  0.5742325113236034\n",
      "top_3000_precision:  0.5535055350553506\n",
      "top_5000_precision:  0.5422875553765606\n"
     ]
    }
   ],
   "source": [
    "all_terms = [normalise_term(weighted_term[0]) for weighted_term in keywords]\n",
    "\n",
    "print(\"Evaluation Result of GENIA dataset: \")\n",
    "print(\"\\n\")\n",
    "overall_precision = term_precision(gs_terms, set(all_terms))\n",
    "print(\"overall precision: \", overall_precision)\n",
    "overall_recall = term_recall(gs_terms, set(all_terms))\n",
    "print(\"overall recall: \", overall_recall)\n",
    "top_200_precision = term_precision(gs_terms, set(all_terms[:200]))\n",
    "print(\"top_200_precision: \", top_200_precision)\n",
    "top_500_precision = term_precision(gs_terms, set(all_terms[:500]))\n",
    "print(\"top_500_precision: \", top_500_precision)\n",
    "top_1000_precision = term_precision(gs_terms, set(all_terms[:1000]))\n",
    "print(\"top_1000_precision: \", top_1000_precision)\n",
    "top_2000_precision = term_precision(gs_terms, set(all_terms[:2000]))\n",
    "print(\"top_2000_precision: \", top_2000_precision)\n",
    "top_3000_precision = term_precision(gs_terms, set(all_terms[:3000]))\n",
    "print(\"top_3000_precision: \", top_3000_precision)\n",
    "top_5000_precision = term_precision(gs_terms, set(all_terms[:5000]))\n",
    "print(\"top_5000_precision: \", top_5000_precision)"
   ]
  },
  {
   "cell_type": "markdown",
   "metadata": {},
   "source": [
    "## weight  MWTs with 'log_max_norm' :"
   ]
  },
  {
   "cell_type": "code",
   "execution_count": 15,
   "metadata": {},
   "outputs": [
    {
     "name": "stdout",
     "output_type": "stream",
     "text": [
      "\n",
      "\n",
      "start term extraction with 'log_norm_max' (mu=3) for MWT terms ...\n",
      "2017-12-31 10:19:34,671 [MainThread  ] - textrank - INFO - computing vertices representations...\n",
      "2017-12-31 10:21:36,056 [MainThread  ] - textrank - INFO - total size of vertices: 16121\n",
      "2017-12-31 10:21:40,482 [MainThread  ] - textrank - DEBUG - top T(t=100) vertices: [('cell', 0.023948110403464038), ('protein', 0.012219775994005803), ('gene', 0.010030478323416008), ('expression', 0.007286230213382803), ('human', 0.006524408401121062), ('factor', 0.00612207339814623), ('activity', 0.005721538282275166), ('site', 0.005637743567407802), ('activation', 0.005599643960173472), ('receptor', 0.005050309207558882)] ...\n",
      "2017-12-31 10:21:40,502 [MainThread  ] - textrank - INFO - collapse adjacent keywords ...\n",
      "2017-12-31 10:23:25,018 [MainThread  ] - textrank - INFO - exporting sorted keywords into [textrank_genia.json]\n",
      "2017-12-31 10:23:25,114 [MainThread  ] - textrank - INFO - complete result export.\n",
      "\n",
      "\n",
      "Complete. Wall-clock elapsed time:  274.8367209434509 s\n",
      "\n",
      "\n",
      "top 30 keywords:  [('cvz-resistant cell', 0.03796), ('monocyte/macrophage cell', 0.03796), ('nef-expressing cell', 0.03796), ('cell antigen-receptor', 0.03796), ('e1a-immortalized cell', 0.03796), ('cd3+ cell', 0.03796), ('e1a-negative cell', 0.03796), ('cell important', 0.03796), ('primary cell', 0.03796), ('cell suicide', 0.03796), ('e1a-positive cell', 0.03796), ('endometrial cell', 0.03796), ('cell dysregulation', 0.03796), ('t-lineage cell', 0.03796), ('hit cell', 0.03796), ('polymorphonuclear cell', 0.03796), ('p-lps-treated cell', 0.03796), ('cell stimulus', 0.03796), ('rodent cell', 0.03796), ('cell pigmentation', 0.03796), ('rescue cell', 0.03796), ('cell differ', 0.03796), ('raji cell', 0.03796), ('monoblastoid cell', 0.03796), ('m-tat/gm-csf cell', 0.03796), ('cell require', 0.03796), ('cell cytoplasm', 0.03796), ('cell homeostasis', 0.03796), ('cell nhl', 0.03796), ('osteoclast-like cell', 0.03796)]\n",
      "\n",
      "\n",
      "Evaluation Result of GENIA dataset with 'log_norm_max' (mu=3): \n",
      "overall precision:  0.4051172707889126\n",
      "overall recall:  0.356\n",
      "top_200_precision:  0.6683417085427136\n",
      "top_500_precision:  0.6498993963782697\n",
      "top_1000_precision:  0.608257804632427\n",
      "top_2000_precision:  0.5737292400603925\n",
      "top_3000_precision:  0.5528346192552834\n",
      "top_5000_precision:  0.5384460547504025\n"
     ]
    }
   ],
   "source": [
    "print(\"\\n\")\n",
    "print(\"start term extraction with 'log_norm_max' (mu=3) for MWT terms ...\")\n",
    "start = time.time()\n",
    "\n",
    "# \"T is set to a third of the number of vertices in the graph\"\n",
    "# 'workers' is set to use all the available cpu cores\n",
    "keywords_log_norm, top_t_vertices_log_norm = keywords_extraction_from_corpus_directory(corpus_directory,\n",
    "                                                         top_p=1, stop_words=stop_list,\n",
    "                                                         lemma=True, weight_comb=\"log_norm_max\", mu=3,\n",
    "                                                         export=True, export_format=\"json\",\n",
    "                                                         export_path=\"textrank_genia.json\",\n",
    "                                                         workers=multiprocessing.cpu_count())\n",
    "\n",
    "end = time.time()\n",
    "\n",
    "print(\"\\n\")\n",
    "print(\"Complete. Wall-clock elapsed time: \", end - start, \"s\")\n",
    "print(\"\\n\")\n",
    "print(\"top 30 keywords: \", keywords_log_norm[:30])\n",
    "# print(\"\\n\")\n",
    "# print(\"top 100 vertices: \", top_t_vertices[:100])\n",
    "all_terms_log_norm = [normalise_term(weighted_term[0]) for weighted_term in keywords_log_norm]\n",
    "\n",
    "print(\"\\n\")\n",
    "print(\"Evaluation Result of GENIA dataset with 'log_norm_max' (mu=3): \")\n",
    "\n",
    "overall_precision = term_precision(gs_terms, set(all_terms_log_norm))\n",
    "print(\"overall precision: \", overall_precision)\n",
    "overall_recall = term_recall(gs_terms, set(all_terms_log_norm))\n",
    "print(\"overall recall: \", overall_recall)\n",
    "top_200_precision = term_precision(gs_terms, set(all_terms_log_norm[:200]))\n",
    "print(\"top_200_precision: \", top_200_precision)\n",
    "top_500_precision = term_precision(gs_terms, set(all_terms_log_norm[:500]))\n",
    "print(\"top_500_precision: \", top_500_precision)\n",
    "top_1000_precision = term_precision(gs_terms, set(all_terms_log_norm[:1000]))\n",
    "print(\"top_1000_precision: \", top_1000_precision)\n",
    "top_2000_precision = term_precision(gs_terms, set(all_terms_log_norm[:2000]))\n",
    "print(\"top_2000_precision: \", top_2000_precision)\n",
    "top_3000_precision = term_precision(gs_terms, set(all_terms_log_norm[:3000]))\n",
    "print(\"top_3000_precision: \", top_3000_precision)\n",
    "top_5000_precision = term_precision(gs_terms, set(all_terms_log_norm[:5000]))\n",
    "print(\"top_5000_precision: \", top_5000_precision)"
   ]
  },
  {
   "cell_type": "markdown",
   "metadata": {},
   "source": [
    "## weight  MWTs with \"gaussian_norm_max\""
   ]
  },
  {
   "cell_type": "code",
   "execution_count": 16,
   "metadata": {},
   "outputs": [
    {
     "name": "stdout",
     "output_type": "stream",
     "text": [
      "\n",
      "\n",
      "start term extraction with 'gaussian_norm_max' (mu=5) for MWT terms ...\n",
      "2017-12-31 10:24:59,658 [MainThread  ] - textrank - INFO - computing vertices representations...\n",
      "2017-12-31 10:27:16,615 [MainThread  ] - textrank - INFO - total size of vertices: 16121\n",
      "2017-12-31 10:27:20,859 [MainThread  ] - textrank - DEBUG - top T(t=100) vertices: [('cell', 0.023948110403464038), ('protein', 0.012219775994005803), ('gene', 0.010030478323416008), ('expression', 0.007286230213382803), ('human', 0.006524408401121062), ('factor', 0.00612207339814623), ('activity', 0.005721538282275166), ('site', 0.005637743567407802), ('activation', 0.005599643960173472), ('receptor', 0.005050309207558882)] ...\n",
      "2017-12-31 10:27:20,886 [MainThread  ] - textrank - INFO - collapse adjacent keywords ...\n",
      "2017-12-31 10:28:57,199 [MainThread  ] - textrank - INFO - exporting sorted keywords into [textrank_genia.json]\n",
      "2017-12-31 10:28:57,303 [MainThread  ] - textrank - INFO - complete result export.\n",
      "\n",
      "\n",
      "Complete. Wall-clock elapsed time:  283.45583748817444 s\n",
      "\n",
      "\n",
      "top 30 keywords:  [('class ii transactivator-independent endothelial cell mhc class ii gene activation induce', 0.02395), ('olfactory neuronal cell reveal virtual complete amino acid sequence identity', 0.02395), ('multipotent eml cell harbor substantial nuclear hormone receptor coactivator activity', 0.02395), ('proteasome inhibitor mg-132 block tnf -and lps-stimulated u-937 cell adhesion', 0.02395), ('normal mouse bone marrow generate hematopoietic growth factor-dependent cell line', 0.02395), ('janus kinase-1-deficient cell line u4a express hla-dr alpha mrna', 0.02393), ('pparalpha activator inhibit cytokine-induced vascular cell adhesion molecule-1 expression', 0.02393), ('class ii major histocompatibility complex mutant cell line clone-13', 0.02393), ('transfected human colonic carcinoma cell line ht29 activate transcription', 0.02393), ('cell', 0.02393), ('bone marrow-derived mip-1 alpha/gos19 inhibits primitive hematopoietic stem cell', 0.02393), ('cvz-resistant cell', 0.02368), ('human t-cell leukemia virus type 1-transformed mt-2 cell', 0.02368), ('monocyte/macrophage cell', 0.02368), ('nef-expressing cell', 0.02368), ('cell antigen-receptor', 0.02368), ('e1a-immortalized cell', 0.02368), ('cd3+ cell', 0.02368), ('e1a-negative cell', 0.02368), ('cell important', 0.02368), ('primary cell', 0.02368), ('cell suicide', 0.02368), ('e1a-positive cell', 0.02368), ('endometrial cell', 0.02368), ('cell dysregulation', 0.02368), ('t-lineage cell', 0.02368), ('hit cell', 0.02368), ('polymorphonuclear cell', 0.02368), ('p-lps-treated cell', 0.02368), ('cell stimulus', 0.02368)]\n",
      "\n",
      "\n",
      "Evaluation Result of GENIA dataset with 'gaussian_norm_max' (mu=5): \n",
      "overall precision:  0.4051172707889126\n",
      "overall recall:  0.356\n",
      "top_200_precision:  0.6231155778894473\n",
      "top_500_precision:  0.6277665995975855\n",
      "top_1000_precision:  0.5981873111782477\n",
      "top_2000_precision:  0.5561147458480121\n",
      "top_3000_precision:  0.4986586183769282\n",
      "top_5000_precision:  0.5106768734891217\n"
     ]
    }
   ],
   "source": [
    "print(\"\\n\")\n",
    "print(\"start term extraction with 'gaussian_norm_max' (mu=5) for MWT terms ...\")\n",
    "start = time.time()\n",
    "\n",
    "# \"T is set to a third of the number of vertices in the graph\"\n",
    "# 'workers' is set to use all the available cpu cores\n",
    "keywords_log_norm, top_t_vertices_log_norm = keywords_extraction_from_corpus_directory(corpus_directory,\n",
    "                                                         top_p=1, stop_words=stop_list,\n",
    "                                                         lemma=True, weight_comb=\"gaussian_norm_max\", mu=5,\n",
    "                                                         export=True, export_format=\"json\",\n",
    "                                                         export_path=\"textrank_genia.json\",\n",
    "                                                         workers=multiprocessing.cpu_count())\n",
    "\n",
    "end = time.time()\n",
    "\n",
    "print(\"\\n\")\n",
    "print(\"Complete. Wall-clock elapsed time: \", end - start, \"s\")\n",
    "print(\"\\n\")\n",
    "print(\"top 30 keywords: \", keywords_log_norm[:30])\n",
    "# print(\"\\n\")\n",
    "# print(\"top 100 vertices: \", top_t_vertices[:100])\n",
    "all_terms_log_norm = [normalise_term(weighted_term[0]) for weighted_term in keywords_log_norm]\n",
    "\n",
    "print(\"\\n\")\n",
    "print(\"Evaluation Result of GENIA dataset with 'gaussian_norm_max' (mu=5): \")\n",
    "\n",
    "overall_precision = term_precision(gs_terms, set(all_terms_log_norm))\n",
    "print(\"overall precision: \", overall_precision)\n",
    "overall_recall = term_recall(gs_terms, set(all_terms_log_norm))\n",
    "print(\"overall recall: \", overall_recall)\n",
    "top_200_precision = term_precision(gs_terms, set(all_terms_log_norm[:200]))\n",
    "print(\"top_200_precision: \", top_200_precision)\n",
    "top_500_precision = term_precision(gs_terms, set(all_terms_log_norm[:500]))\n",
    "print(\"top_500_precision: \", top_500_precision)\n",
    "top_1000_precision = term_precision(gs_terms, set(all_terms_log_norm[:1000]))\n",
    "print(\"top_1000_precision: \", top_1000_precision)\n",
    "top_2000_precision = term_precision(gs_terms, set(all_terms_log_norm[:2000]))\n",
    "print(\"top_2000_precision: \", top_2000_precision)\n",
    "top_3000_precision = term_precision(gs_terms, set(all_terms_log_norm[:3000]))\n",
    "print(\"top_3000_precision: \", top_3000_precision)\n",
    "top_5000_precision = term_precision(gs_terms, set(all_terms_log_norm[:5000]))\n",
    "print(\"top_5000_precision: \", top_5000_precision)"
   ]
  },
  {
   "cell_type": "markdown",
   "metadata": {},
   "source": [
    "# Term extraction from pre-tagged corpus\n",
    "\n",
    "Following example shows how to pre-process the corpus with [spaCy](https://spacy.io/).\n",
    "\n",
    "To run the following demo, you need to :\n",
    "\n",
    "    1) install spaCy ('pip install spacy');\n",
    "    \n",
    "    2) download the corresponding language model (e.g., 'python -m spacy download en');"
   ]
  },
  {
   "cell_type": "code",
   "execution_count": 17,
   "metadata": {},
   "outputs": [
    {
     "name": "stdout",
     "output_type": "stream",
     "text": [
      "term extraction from spaCy pre-processed corpus [GENIAcorpus302\\text\\files] ...\n",
      "2017-12-31 10:35:00,028 [MainThread  ] - textrank - INFO - computing vertices representations...\n",
      "2017-12-31 10:36:33,040 [MainThread  ] - textrank - INFO - total size of vertices: 11302\n",
      "2017-12-31 10:36:36,560 [MainThread  ] - textrank - DEBUG - top T(t=11302) vertices: [('cell', 0.02259906937549665), ('protein', 0.009352316939077296), ('gene', 0.007757374131964984), ('expression', 0.0070838554691529405), ('human', 0.006509913016572303), ('induce', 0.005632356590088859), ('factor', 0.005613458154663062), ('receptor', 0.005058091765301573), ('activity', 0.005052917635916724), ('site', 0.004854466911063564)] ...\n",
      "2017-12-31 10:36:36,590 [MainThread  ] - textrank - INFO - collapse adjacent keywords ...\n",
      "2017-12-31 10:39:20,757 [MainThread  ] - textrank - INFO - exporting sorted keywords into [textrank_genia_spacy.json]\n",
      "2017-12-31 10:39:20,895 [MainThread  ] - textrank - INFO - complete result export.\n",
      "\n",
      "\n",
      "Complete. Wall-clock elapsed time:  522.8503828048706 s\n",
      "\n",
      "\n",
      "top 50 keywords:  [('cell', 0.0226), ('meg cell', 0.0113), ('cell important', 0.0113), ('primary cell', 0.0113), ('cell suicide', 0.0113), ('endometrial cell', 0.0113), ('cell dysregulation', 0.0113), ('hit cell', 0.0113), ('cell enhancer', 0.0113), ('reveal cell', 0.0113), ('polymorphonuclear cell', 0.0113), ('cell stimulus', 0.0113), ('cell pigmentation', 0.0113), ('rescue cell', 0.0113), ('cell differ', 0.0113), ('raji cell', 0.0113), ('single cell', 0.0113), ('monoblastoid cell', 0.0113), ('specific cell', 0.0113), ('scf cell', 0.0113), ('cell cytoplasm', 0.0113), ('cell homeostasis', 0.0113), ('form cell', 0.0113), ('cell nhl', 0.0113), ('cell interaction', 0.0113), ('cell leukemia(atl', 0.0113), ('myc cell', 0.0113), ('cd45ra+ cell', 0.0113), ('cell dysfunction', 0.0113), ('cell rt', 0.0113), ('p19 cell', 0.0113), ('cell fusion', 0.0113), ('apl cell', 0.0113), ('vascular cell', 0.0113), ('leukemic cell', 0.0113), ('cell nucleus', 0.0113), ('el4 cell', 0.0113), ('cell play', 0.0113), ('lymphocyte cell', 0.0113), ('cell death', 0.0113), ('hl60 cell', 0.0113), ('lgl cell', 0.0113), ('cell component', 0.0113), ('nontolerant cell', 0.0113), ('cell receptor(tcr', 0.0113), ('mammalian cell', 0.0113), ('s49 cell', 0.0113), ('cell progression', 0.0113), ('cell activity', 0.0113), ('cell anergy', 0.0113)]\n",
      "\n",
      "\n",
      "top 100 vertices:  [('cell', 0.02259906937549665), ('protein', 0.009352316939077296), ('gene', 0.007757374131964984), ('expression', 0.0070838554691529405), ('human', 0.006509913016572303), ('induce', 0.005632356590088859), ('factor', 0.005613458154663062), ('receptor', 0.005058091765301573), ('activity', 0.005052917635916724), ('site', 0.004854466911063564), ('bind', 0.0048387880363347496), ('line', 0.004771962008970769), ('activation', 0.004592101893755754), ('increase', 0.004544050033779926), ('show', 0.004329604189613286), ('patient', 0.0041514391592677785), ('transcription', 0.004078337346051853), ('promoter', 0.003979797013578254), ('effect', 0.0037629879096561735), ('inhibit', 0.003561995440396876), ('activate', 0.0035158081339410376), ('nf', 0.0034761010871253092), ('region', 0.0034663535462908686), ('sequence', 0.003402680842574969), ('alpha', 0.003391319762553001), ('element', 0.0031539978353928317), ('express', 0.0029420824851103702), ('dna', 0.0028908574474227977), ('complex', 0.0027100739667771418), ('specific', 0.0025729080614031344), ('level', 0.002541823979004137), ('result', 0.002483874418258789), ('acid', 0.0024731865319240613), ('domain', 0.002426905037279887), ('response', 0.002418844669410814), ('lymphocyte', 0.0023026635995264636), ('mediate', 0.0022868613990206592), ('associate', 0.0022585755391583786), ('motif', 0.002240433869451012), ('analysis', 0.002230634657234609), ('inhibitor', 0.002182379394422543), ('nuclear', 0.0021667003690500103), ('mouse', 0.0021653696891360775), ('kappa', 0.0020956164616614745), ('pathway', 0.0020137710802887155), ('assay', 0.0020015913212624264), ('type', 0.001999030835948611), ('kinase', 0.0019393999043118702), ('normal', 0.0019326641626960352), ('demonstrate', 0.0019290089651643643), ('mrna', 0.0019261776656546168), ('beta', 0.0018943676900068868), ('treatment', 0.0018741912405025258), ('study', 0.0018578044057258264), ('induction', 0.0018283393799522357), ('virus', 0.001795673212408548), ('role', 0.0017787464633346618), ('reveal', 0.00176375780343981), ('antibody', 0.001757254921926598), ('disease', 0.0016793087009445813), ('peptide', 0.0016511870935255965), ('mechanism', 0.0015901865490635303), ('control', 0.0015339862126792132), ('block', 0.001492881126879345), ('phosphorylation', 0.0014642686664080404), ('antigen', 0.0014637128975936219), ('signal', 0.0014616690777806546), ('ligand', 0.0014476998253976146), ('function', 0.0014460106740880885), ('binding', 0.001440166657197822), ('clone', 0.001439622979738856), ('mutant', 0.0014231718096030233), ('concentration', 0.0014143791497376254), ('stimulate', 0.0014105395655038156), ('enhance', 0.0014003691174949953), ('regulate', 0.001389716309704663), ('enhancer', 0.0013848853592383717), ('form', 0.0013764558446648298), ('glucocorticoid', 0.0013738540511794625), ('cellular', 0.0013552127620888661), ('stimulation', 0.0013324805937509935), ('high', 0.0013307167421311005), ('family', 0.0013277599488208767), ('translocation', 0.0013189666688100407), ('mutation', 0.0013165149486636769), ('lead', 0.0012875998969929029), ('tumor', 0.001269639368209397), ('monocyte', 0.0012419176247864699), ('decrease', 0.0012383968013233986), ('addition', 0.0012135504246241105), ('differentiation', 0.0011973919547578345), ('inhibition', 0.0011862870093527645), ('cytokine', 0.0011859473736224176), ('infection', 0.0011725890803493426), ('repeat', 0.0011722344540227641), ('interaction', 0.001170798057618034), ('tissue', 0.001155621505478948), ('group', 0.001124398967685244), ('ii', 0.0011229064853763844), ('present', 0.0011183034849933566)]\n"
     ]
    }
   ],
   "source": [
    "from jgtextrank import keywords_extraction_from_tagged_corpus\n",
    "from example_utility import pre_processing_corpus_with_spacy\n",
    "\n",
    "corpus_directory = os.path.join('GENIAcorpus302', 'text', 'files')\n",
    "# pre-processing raw corpus with spaCy library\n",
    "pre_processed_corpus = pre_processing_corpus_with_spacy(corpus_directory, encoding=\"utf-8\", lemma=True)\n",
    "\n",
    "print(\"term extraction from spaCy pre-processed corpus [%s] ...\" % corpus_directory)\n",
    "\n",
    "# PoS tagging can be erroneous with domain-specific corpus. Custom stop list can be applied to improve precision\n",
    "# stop_list = stop_list + [\"regulate\", \"show\", \"activate\", \"express\", \"increase\", \"increased\", \"target\", \"demonstrate\", \"mimic\", \"exert\", \"acute\"]\n",
    "\n",
    "start = time.time()\n",
    "\n",
    "\n",
    "keywords_spacy, top_t_vertices_spacy = keywords_extraction_from_tagged_corpus(pre_processed_corpus, window=2,\n",
    "                                                                  top_p = 1, stop_words=stop_list,\n",
    "                                                                  weight_comb=\"norm_max\",\n",
    "                                                                  export=True, export_format=\"json\",\n",
    "                                                                  export_path=\"textrank_genia_spacy.json\",\n",
    "                                                                  workers=multiprocessing.cpu_count())\n",
    "\n",
    "end = time.time()\n",
    "\n",
    "print(\"\\n\")\n",
    "print(\"Complete. Wall-clock elapsed time: \", end - start, \"s\")\n",
    "print(\"\\n\")\n",
    "print(\"top 50 keywords: \", keywords_spacy[:50])\n",
    "print(\"\\n\")\n",
    "print(\"top 100 vertices: \", top_t_vertices_spacy[:100])\n"
   ]
  },
  {
   "cell_type": "markdown",
   "metadata": {},
   "source": [
    "Evaluation of the result with reference set:"
   ]
  },
  {
   "cell_type": "code",
   "execution_count": 18,
   "metadata": {},
   "outputs": [
    {
     "name": "stdout",
     "output_type": "stream",
     "text": [
      "Evaluation Result with spaCy pre-processed GENIA dataset: \n",
      "\n",
      "\n",
      "overall_precision_spacy:  0.34395678911310124\n",
      "overall recall_spacy:  0.484\n",
      "top_200_precision_spacy:  0.515\n",
      "top_500_precision_spacy:  0.5370741482965932\n",
      "top_1000_precision_spacy:  0.4759519038076152\n",
      "top_2000_precision_spacy:  0.437875751503006\n",
      "top_3000_precision_spacy:  0.42518370073480294\n",
      "top_5000_precision_spacy:  0.40665730900340885\n"
     ]
    }
   ],
   "source": [
    "# results are normalised (punctuation removal and lower casing) for evaluation\n",
    "all_terms_spacy = [normalise_term(weighted_term[0]) for weighted_term in keywords_spacy]\n",
    "\n",
    "print(\"Evaluation Result with spaCy pre-processed GENIA dataset: \")\n",
    "print(\"\\n\")\n",
    "\n",
    "overall_precision_spacy = term_precision(gs_terms, set(all_terms_spacy))\n",
    "print(\"overall_precision_spacy: \", overall_precision_spacy)\n",
    "overall_recall_spacy = term_recall(gs_terms, set(all_terms_spacy))\n",
    "print(\"overall recall_spacy: \", overall_recall_spacy)\n",
    "top_200_precision_spacy = term_precision(gs_terms, set(all_terms_spacy[:200]))\n",
    "print(\"top_200_precision_spacy: \", top_200_precision_spacy)\n",
    "top_500_precision_spacy = term_precision(gs_terms, set(all_terms_spacy[:500]))\n",
    "print(\"top_500_precision_spacy: \", top_500_precision_spacy)\n",
    "top_1000_precision_spacy = term_precision(gs_terms, set(all_terms_spacy[:1000]))\n",
    "print(\"top_1000_precision_spacy: \", top_1000_precision_spacy)\n",
    "top_2000_precision_spacy = term_precision(gs_terms, set(all_terms_spacy[:2000]))\n",
    "print(\"top_2000_precision_spacy: \", top_2000_precision_spacy)\n",
    "top_3000_precision_spacy = term_precision(gs_terms, set(all_terms_spacy[:3000]))\n",
    "print(\"top_3000_precision_spacy: \", top_3000_precision_spacy)\n",
    "top_5000_precision_spacy = term_precision(gs_terms, set(all_terms_spacy[:5000]))\n",
    "print(\"top_5000_precision_spacy: \", top_5000_precision_spacy)"
   ]
  },
  {
   "cell_type": "code",
   "execution_count": null,
   "metadata": {},
   "outputs": [],
   "source": []
  }
 ],
 "metadata": {
  "kernelspec": {
   "display_name": "Python 3",
   "language": "python",
   "name": "python3"
  },
  "language_info": {
   "codemirror_mode": {
    "name": "ipython",
    "version": 3
   },
   "file_extension": ".py",
   "mimetype": "text/x-python",
   "name": "python",
   "nbconvert_exporter": "python",
   "pygments_lexer": "ipython3",
   "version": "3.6.2"
  }
 },
 "nbformat": 4,
 "nbformat_minor": 2
}
