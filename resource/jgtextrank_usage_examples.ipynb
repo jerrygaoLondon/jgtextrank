{
 "cells": [
  {
   "cell_type": "code",
   "execution_count": 2,
   "metadata": {},
   "outputs": [],
   "source": [
    "import os\n",
    "\n",
    "import time\n",
    "import multiprocessing\n",
    "from nltk.corpus.reader.wordlist import WordListCorpusReader\n",
    "\n",
    "from jgtextrank import keywords_extraction, keywords_extraction_from_corpus_directory\n",
    "# load custom stop list\n",
    "# The SMART stop-word list built by Chris Buckley and Gerard Salton, \n",
    "#   which can be obtained from http://www.lextek.com/manuals/onix/stopwords2.html\n",
    "reader = WordListCorpusReader('../resource', 'smart-stop-list.txt')\n",
    "stop_list = reader.words()"
   ]
  },
  {
   "cell_type": "markdown",
   "metadata": {},
   "source": [
    "# Keywords extraction from text"
   ]
  },
  {
   "cell_type": "code",
   "execution_count": 2,
   "metadata": {},
   "outputs": [
    {
     "name": "stdout",
     "output_type": "stream",
     "text": [
      "Keywords: \n",
      "\n",
      "[('system', 0.09086), ('set', 0.07817), ('algorithm', 0.06389), ('minimal', 0.05848), ('type system', 0.04543), ('minimal set', 0.03909), ('linear constraint', 0.03808), ('corresponding algorithm', 0.03194), ('minimal supporting set', 0.02606), ('linear diophantine equation', 0.02539), ('nonstrict inequations', 0.02532), ('strict inequations', 0.02532)]\n",
      "\n",
      "Top T vertices: \n",
      "\n",
      "[('system', 0.0908645423181641), ('set', 0.07817233752963601), ('linear', 0.07616116083873783), ('algorithm', 0.06388902339459528), ('equation', 0.05958796210456059), ('minimal', 0.0584758714284493), ('inequations', 0.05063519065290718)]\n"
     ]
    }
   ],
   "source": [
    "example_abstract = \"Compatibility of systems of linear constraints over the set of natural numbers. \" \\\n",
    "                           \"Criteria of compatibility of a system of linear Diophantine equations, strict inequations, \" \\\n",
    "                           \"and nonstrict inequations are considered. Upper bounds for components of a minimal set of \" \\\n",
    "                           \"solutions and algorithms of construction of minimal generating sets of solutions for all \" \\\n",
    "                           \"types of systems are given. These criteria and the corresponding algorithms for \" \\\n",
    "                           \"constructing a minimal supporting set of solutions can be used in solving all the \" \\\n",
    "                           \"considered types systems and systems of mixed types.\"\n",
    "example_abstract_results, example_abstract_top_vertices = keywords_extraction(example_abstract, top_p = 0.3, lemma=True)\n",
    "print(\"Keywords: \\n\")\n",
    "print(example_abstract_results)        \n",
    "print(\"\\nTop T vertices: \\n\")\n",
    "print(example_abstract_top_vertices)"
   ]
  },
  {
   "cell_type": "code",
   "execution_count": 3,
   "metadata": {},
   "outputs": [
    {
     "name": "stdout",
     "output_type": "stream",
     "text": [
      "Keywords: \n",
      "\n",
      "[('ner', 0.06606), ('unstructured text', 0.03402), ('information extraction', 0.03402), ('entity recognition', 0.02478), ('question answering', 0.02331), ('several end-to-end tasks', 0.0228), ('conditional random fields', 0.0228), ('conll-2003 ner corpus', 0.02202)]\n",
      "\n",
      "Top T vertices: \n",
      "\n",
      "[('fields', 0.06838897289220543), ('several', 0.06838897289220541), ('unstructured', 0.06803744076574295), ('information', 0.06803744076574295), ('ner', 0.06606131438462487), ('recognition', 0.04955684571284008), ('question', 0.04662004662004661)]\n"
     ]
    }
   ],
   "source": [
    "example_text_2 = \"Information extraction is the process of extracting structured data from unstructured text, \" \\\n",
    "                     \"which is relevant for several end-to-end tasks, including question answering. \" \\\n",
    "                     \"This paper addresses the tasks of named entity recognition (NER), \" \\\n",
    "                     \"a subtask of information extraction, using conditional random fields (CRF). \" \\\n",
    "                     \"Our method is evaluated on the ConLL-2003 NER corpus.\"\n",
    "\n",
    "example_text_2_results, example_text_2_top_vertices = keywords_extraction(example_text_2, top_p = 0.3)\n",
    "print(\"Keywords: \\n\")\n",
    "print(example_text_2_results)        \n",
    "print(\"\\nTop T vertices: \\n\")\n",
    "print(example_text_2_top_vertices)"
   ]
  },
  {
   "cell_type": "markdown",
   "metadata": {},
   "source": [
    "# Custom context window size\n",
    "\n",
    "Co-occurrence graph is build with default context windows size 2. A different window size can be set."
   ]
  },
  {
   "cell_type": "code",
   "execution_count": 4,
   "metadata": {},
   "outputs": [
    {
     "name": "stdout",
     "output_type": "stream",
     "text": [
      "Keywords with context window size(=5) : [('set', 0.09375), ('system', 0.08144), ('minimal', 0.06128), ('algorithm', 0.05927), ('solution', 0.05823), ('minimal set', 0.04688), ('type system', 0.04072), ('linear constraint', 0.03249), ('minimal supporting set', 0.03125), ('corresponding algorithm', 0.02964), ('nonstrict inequations', 0.0259), ('strict inequations', 0.0259), ('linear diophantine equation', 0.02166)]\n"
     ]
    }
   ],
   "source": [
    "# set to a larger context window size\n",
    "example_results_with_custom_ctx_size, example_abstract_top_vertices = keywords_extraction(example_abstract, window=5, \n",
    "                                                                                          top_p = 0.3, lemma=True)\n",
    "print(\"Keywords with context window size(=5) :\", example_results_with_custom_ctx_size)"
   ]
  },
  {
   "cell_type": "markdown",
   "metadata": {},
   "source": [
    "# Custom syntactic filters"
   ]
  },
  {
   "cell_type": "code",
   "execution_count": 5,
   "metadata": {},
   "outputs": [
    {
     "name": "stdout",
     "output_type": "stream",
     "text": [
      "Keywords result with custom filters:  [('system', 0.08862), ('algorithm', 0.06491), ('construction', 0.06491), ('compatibility', 0.0512), ('type system', 0.04431), ('linear constraint', 0.04269), ('component', 0.03851), ('upper bound', 0.03649), ('solution', 0.03509), ('minimal', 0.03509), ('criterion', 0.02926), ('linear diophantine equation', 0.02846), ('nonstrict inequations', 0.0272), ('strict inequations', 0.0272), ('type', 0.02633), ('natural number', 0.025)]\n"
     ]
    }
   ],
   "source": [
    "# custom syntactic filters to include verbs\n",
    "custom_categories = {'NNS', 'NNP', 'NN', 'JJ', 'VBZ'}\n",
    "\n",
    "# custom stop words filters\n",
    "stop_words={'set', 'mixed', 'corresponding', 'supporting'}\n",
    "\n",
    "# extract keywords from all vertices connections\n",
    "results_with_custom_filters, example_top_vertices = keywords_extraction(example_abstract, top_p = 1, \n",
    "                                                                        syntactic_categories = custom_categories, \n",
    "                                                                        stop_words = stop_words,\n",
    "                                                                        lemma=True)\n",
    "print(\"Keywords result with custom filters: \", results_with_custom_filters)"
   ]
  },
  {
   "cell_type": "markdown",
   "metadata": {},
   "source": [
    "# Custom co-occurrence context\n",
    "\n",
    "'jgTextRank' build word co-occurrences from sentential context by default. Depending on specific corpus and hypothesis, the word co-occurrence context can also be within a paragraph, section, adjacent sentences, current document or any specific semantic frames from text.\n",
    "\n",
    "Co-occurrence context can be customised in 'jgTextRank'. Following simple example shows how to extract keywords from pre-segmented corpus context."
   ]
  },
  {
   "cell_type": "code",
   "execution_count": 6,
   "metadata": {},
   "outputs": [
    {
     "name": "stdout",
     "output_type": "stream",
     "text": [
      "keywords from custom corpus context: [('systems', 0.07966), ('minimal', 0.06362), ('set', 0.06357), ('algorithms', 0.05397), ('solutions', 0.04971), ('linear constraints', 0.04358), ('types systems', 0.03983), ('criteria', 0.03784), ('compatibility', 0.03606), ('construction', 0.03525), ('types', 0.03475), ('sets', 0.03404), ('minimal set', 0.03181), ('linear diophantine equations', 0.02905), ('corresponding algorithms', 0.02699), ('nonstrict inequations', 0.02315), ('strict inequations', 0.02315), ('system', 0.02125), ('minimal supporting set', 0.02121), ('natural numbers', 0.01892), ('mixed types', 0.01737), ('upper', 0.00644), ('components', 0.00644)]\n",
      "\n",
      "top vertices from custom corpus context:  [('linear', 0.08715654349301856), ('systems', 0.07965749153852081), ('minimal', 0.06361746451217092), ('set', 0.06357313390850973), ('equations', 0.054514709369873425), ('algorithms', 0.05397157445263069), ('solutions', 0.04970626750653032), ('inequations', 0.04629742641455432), ('strict', 0.041563306091809096), ('criteria', 0.037843018047014336), ('numbers', 0.03783141411638448), ('diophantine', 0.03670093798762041), ('compatibility', 0.03606252616484272), ('natural', 0.036025766127265504), ('construction', 0.03524856724088962), ('types', 0.03474694844056699), ('mixed', 0.03474694844056699), ('sets', 0.03403962123111778), ('supporting', 0.033465833324618006), ('nonstrict', 0.02611659487092869), ('corresponding', 0.021729916706399788), ('constraints', 0.021254226766740006), ('system', 0.021254226766740006), ('upper', 0.0064377682403433485), ('components', 0.0064377682403433485)]\n"
     ]
    }
   ],
   "source": [
    "from jgtextrank.core import keywords_extraction_from_segmented_corpus\n",
    "# the \"example context\" is segmented into a list of 3 separate context\n",
    "# see also 'keywords_extraction_from_tagged_corpus' for pre-segmented and pre-tagged corpus as input\n",
    "example_user_defined_context_corpus = [[\"Compatibility\", \"of\", \"systems\", \"of\", \"linear\", \"constraints\",\n",
    "                                             \"over\", \"the\", \"set\", \"of\", \"natural\", \"numbers\",\".\",\n",
    "                                             \"Criteria\", \"of\", \"compatibility\", \"of\", \"a\", \"system\", \"of\",\n",
    "                                             \"linear\", \"Diophantine\", \"equations\", \",\", \"strict\", \"inequations\", \",\",\n",
    "                                             \"and\", \"nonstrict\", \"inequations\", \"are\", \"considered\", \".\"],\n",
    "                                            [\"Upper\", \"bounds\", \"for\", \"components\", \"of\", \"a\", \"minimal\", \"set\",\n",
    "                                             \"of\", \"solutions\", \"and\",\"algorithms\",\"of\", \"construction\", \"of\",\n",
    "                                             \"minimal\", \"generating\", \"sets\", \"of\", \"solutions\", \"for\", \"all\",\n",
    "                                             \"types\", \"of\", \"systems\", \"are\", \"given\", \".\"],\n",
    "                                            [\"These\", \"criteria\", \"and\", \"the\", \"corresponding\", \"algorithms\",\n",
    "                                             \"for\", \"constructing\", \"a\", \"minimal\", \"supporting\", \"set\", \"of\",\n",
    "                                             \"solutions\", \"can\", \"be\", \"used\", \"in\", \"solving\", \"all\", \"the\",\n",
    "                                             \"considered\", \"types\", \"systems\", \"and\", \"systems\", \"of\", \"mixed\",\n",
    "                                             \"types\",\".\"]]\n",
    "results_with_custom_context, top_vertices = keywords_extraction_from_segmented_corpus(example_user_defined_context_corpus,\n",
    "                                                                                      top_p=1)\n",
    "print(\"keywords from custom corpus context:\", results_with_custom_context)\n",
    "print(\"\\ntop vertices from custom corpus context: \", top_vertices)"
   ]
  },
  {
   "cell_type": "markdown",
   "metadata": {},
   "source": [
    "# Visual Analytics of Co-occurrence Graph\n",
    "\n",
    "'jgTextRank' supports various different custom settings including syntactic filters, stopwords, top T vertices, context window size, building co-occurrence connections from either original context text or filtered context, pageRank solver, and so forth. It would be a good idea to gain insights from visual analysis of the corresponding co-occurrence graph with actual samples.\n",
    "\n",
    "Following code presents a simple example of how to visualise co-occurrence graph from your sample text."
   ]
  },
  {
   "cell_type": "code",
   "execution_count": 11,
   "metadata": {},
   "outputs": [
    {
     "data": {
      "image/png": "[encoded data removed]",
      "text/plain": [
       "<matplotlib.figure.Figure at 0x1d7647f6198>"
      ]
     },
     "metadata": {},
     "output_type": "display_data"
    }
   ],
   "source": [
    "from jgtextrank.core import preprocessing, build_cooccurrence_graph\n",
    "import networkx as nx\n",
    "import matplotlib.pyplot as plt\n",
    "\n",
    "preprocessed_context = preprocessing(example_abstract, syntactic_categories = custom_categories, \n",
    "                                     stop_words = stop_words, lemma=True)\n",
    "\n",
    "cooccurrence_graph, original_tokenised_context = build_cooccurrence_graph(preprocessed_context)\n",
    "pos = nx.spring_layout(cooccurrence_graph,k=0.20,iterations=20)\n",
    "nx.draw_networkx(cooccurrence_graph, pos=pos, arrows=True, with_labels=True)\n",
    "plt.suptitle('Co-occurrences with context window 2', fontsize=16)\n",
    "plt.show()"
   ]
  },
  {
   "cell_type": "code",
   "execution_count": 23,
   "metadata": {},
   "outputs": [
    {
     "data": {
      "image/png": "[encoded data removed]",
      "text/plain": [
       "<matplotlib.figure.Figure at 0x1d7639c20f0>"
      ]
     },
     "metadata": {},
     "output_type": "display_data"
    }
   ],
   "source": [
    "# set to a larger context size\n",
    "preprocessed_context = preprocessing(example_abstract, syntactic_categories = custom_categories, \n",
    "                                     stop_words = stop_words, lemma=True)\n",
    "\n",
    "cooccurrence_graph, original_tokenised_context = build_cooccurrence_graph(preprocessed_context, window=3)\n",
    "pos = nx.spring_layout(cooccurrence_graph,k=0.20,iterations=20)\n",
    "nx.draw_networkx(cooccurrence_graph, pos=pos, arrows=True, with_labels=True)\n",
    "plt.suptitle('Co-occurrences with context window 3', fontsize=16)\n",
    "plt.show()"
   ]
  },
  {
   "cell_type": "markdown",
   "metadata": {},
   "source": [
    "# Algorithms for Vertex Ranking"
   ]
  },
  {
   "cell_type": "markdown",
   "metadata": {},
   "source": [
    "The vertex ranking is the key to identify patterns in graph based term extraction algorithms. The core of TextRank relies on pagerank algorithm to weight vertices in order to locate crucial nodes in a co-occurrence network. jgTextRank support 4 variations of pagerank implementation supported in networkx library and 14 additional graph ranking algorithms.\n",
    "\n",
    "PageRank implementations:\n",
    "\n",
    "* **'pagerank'**: networkx implementation of pagerank\n",
    "* **'pagerank_numpy'**: numpy implementation of pagerank\n",
    "* **'pagerank_scipy'**: scipy implementation of pagerank\n",
    "\n",
    "Additional graph ranking algorithms:\n",
    "\n",
    "* **'betweenness_centrality'**: compute the shortest-path betweenness centrality of a node\n",
    "* **'degree_centrality'**: Compute the degree centrality for nodes.\n",
    "* **'hits'**: compute HITS algorithm for a node. The avg. of Authority value and Hub value is computed\n",
    "* **'closeness_centrality'**: Compute closeness centrality for nodes.\n",
    "* **'edge_betweenness_centrality'**: Compute betweenness centrality for edges.  Maximum edge betweenness value in all the possible edge pairs is adopted for each vertex\n",
    "* **'eigenvector_centrality'**: Compute the eigenvector centrality for the cooocurrence graph.\n",
    "* **'katz_centrality'**: Compute the Katz centrality for the nodes based on the centrality of its neighbors.\n",
    "* **'communicability_betweenness'**: compute subgraph communicability for all pairs of nodes\n",
    "* **'current_flow_closeness'**: Compute current-flow closeness centrality for nodes.\n",
    "* **'current_flow_betweenness'**: Compute current-flow betweenness centrality for nodes.\n",
    "* **'edge_current_flow_betweenness'**: Compute current-flow betweenness centrality for edges.\n",
    "* **'load_centrality'**: Compute edge load. This is a experimental algorithm in nextworkx that counts the number of shortest paths which cross each edge.\n",
    "* **'clustering_coefficient'** : Compute the clustering coefficient for nodes. Only undirected graph is supported.\n",
    "* **'TeRGraph'**(Lossio-Ventura, 2014): compute the TeRGraph weights for nodes. The solver requires a connected graph and isolated nodes will be set to 0.\n",
    "* **'coreness'** (Batagelj & Zaversnik, 2003): measures how \"deep\" a node(e.g., word/phrase) is in the co-occurrence network. The \"deeper\" a word, the more it is important. The metric is not suitable for ranking terms directly, but it is proved as useful feature for keywords extraction\n",
    "* **'neighborhood_size'** computes the number of immediate neighbors to a node. This is a version of node degree that disregards self-loops\n",
    "\n",
    "**NOTE: ** Centrality measures (such as \"current flow betweeness\", \"current flow closeness\", \"communicability_betweenness\") does not support loosely connected graph and betweeness centrality measures cannot compute on single isolated nodes. It is recommended to re-consider the graph construction method for specific dataset or simply increase context window size in order to ensure a strongly connected graph.  jgTextrank adapt those centrality algorithms to run on loosely connected graph by iterating over connected subgraphs and remove isolated nodes. The weighted nodes in every separated subgraph will be combined.\n",
    "\n",
    "[Batagelj & Zaversnik, 2003] Batagelj, V., & Zaversnik, M. (2003). An O (m) algorithm for cores decomposition of networks. arXiv preprint cs/0310049. https://arxiv.org/abs/cs.DS/0310049\n",
    "\n",
    "[Lossio-Ventura, 2014] Lossio-Ventura, J. A., Jonquet, C., Roche, M., & Teisseire, M. (2014, September). Yet another ranking function for automatic multiword term extraction. In International Conference on Natural Language Processing (pp. 52-64). Springer, Cham."
   ]
  },
  {
   "cell_type": "code",
   "execution_count": 9,
   "metadata": {},
   "outputs": [
    {
     "name": "stdout",
     "output_type": "stream",
     "text": [
      "Keywords result by degree centrality metrics:  [('system', 0.26316), ('type system', 0.13158), ('linear constraint', 0.10526), ('compatibility', 0.10526), ('algorithm', 0.10526), ('construction', 0.10526), ('linear diophantine equation', 0.07018), ('nonstrict inequations', 0.05263), ('criterion', 0.05263), ('type', 0.05263), ('upper bound', 0.05263), ('solution', 0.05263), ('component', 0.05263), ('minimal', 0.05263), ('strict inequations', 0.05263), ('natural number', 0.02632)] \n",
      "\n",
      "weighted top nodes with degree centrality metrics:  [('system', 0.2631578947368421), ('linear', 0.21052631578947367), ('equation', 0.15789473684210525), ('algorithm', 0.10526315789473684), ('compatibility', 0.10526315789473684), ('inequations', 0.10526315789473684), ('diophantine', 0.10526315789473684), ('construction', 0.10526315789473684), ('bound', 0.10526315789473684), ('strict', 0.10526315789473684), ('number', 0.05263157894736842), ('criterion', 0.05263157894736842), ('type', 0.05263157894736842), ('solution', 0.05263157894736842), ('constraint', 0.05263157894736842), ('minimal', 0.05263157894736842), ('natural', 0.05263157894736842), ('nonstrict', 0.05263157894736842), ('component', 0.05263157894736842), ('upper', 0.05263157894736842)]\n"
     ]
    }
   ],
   "source": [
    "# extract keywords from all vertices connections with degree centrality\n",
    "degree_centrality_results, degree_cent_top_vertices = keywords_extraction(example_abstract, solver=\"degree_centrality\", \n",
    "                                                                           top_p = 1, syntactic_categories = custom_categories, \n",
    "                                                                           stop_words = stop_words, lemma=True)\n",
    "print(\"Keywords result by degree centrality metrics: \", degree_centrality_results, \"\\n\")\n",
    "print(\"weighted top nodes with degree centrality metrics: \", degree_cent_top_vertices)"
   ]
  },
  {
   "cell_type": "code",
   "execution_count": 10,
   "metadata": {},
   "outputs": [
    {
     "name": "stdout",
     "output_type": "stream",
     "text": [
      "Keywords result by HITS metrics:  [('system', 0.20172), ('type system', 0.10086), ('linear constraint', 0.09609), ('compatibility', 0.08497), ('type', 0.07364), ('linear diophantine equation', 0.06406), ('criterion', 0.03102), ('strict inequations', 0.02913), ('nonstrict inequations', 0.01227), ('natural number', 0.0), ('upper bound', 0.0), ('solution', 0.0), ('component', 0.0), ('minimal', 0.0), ('algorithm', 0.0), ('construction', 0.0)] \n",
      "\n",
      "weighted top nodes with HITS:  [('system', 0.20171681517919704), ('linear', 0.19218473113952586), ('equation', 0.13505455981976336), ('diophantine', 0.11947109662354513), ('compatibility', 0.08496992466651224), ('type', 0.07364435795011762), ('constraint', 0.07016431268129036), ('strict', 0.05826760692308271), ('criterion', 0.031021485371837215), ('inequations', 0.02454428617704618), ('nonstrict', 0.00896082298082794), ('construction', 1.4999869728188009e-10), ('algorithm', 1.4999869728188009e-10), ('solution', 9.270429318840835e-11), ('minimal', 9.270429318840835e-11), ('bound', 8.151635806249943e-13), ('component', 5.165880814334491e-13), ('upper', 5.165880814334491e-13), ('number', 7.774005705118125e-19), ('natural', 7.774005705118125e-19)]\n"
     ]
    }
   ],
   "source": [
    "# extract keywords from all vertices connections with hits (avg(authorities, hubs))\n",
    "hits_results, hits_top_vertices = keywords_extraction(example_abstract, solver=\"hits\", \n",
    "                                                                    top_p = 1, syntactic_categories = custom_categories, \n",
    "                                                                    stop_words = stop_words, lemma=True)\n",
    "print(\"Keywords result by HITS metrics: \", hits_results, \"\\n\")\n",
    "print(\"weighted top nodes with HITS: \", hits_top_vertices)"
   ]
  },
  {
   "cell_type": "code",
   "execution_count": 11,
   "metadata": {},
   "outputs": [
    {
     "name": "stdout",
     "output_type": "stream",
     "text": [
      "Keywords result by current flow closeness centrality metrics: \n",
      " [('system', 0.06071), ('solution', 0.05204), ('compatibility', 0.0509), ('criterion', 0.04802), ('algorithm', 0.04752), ('minimal', 0.04478), ('construction', 0.04196), ('type', 0.04112), ('component', 0.03141), ('type system', 0.03035), ('linear constraint', 0.02739), ('nonstrict inequations', 0.02341), ('strict inequations', 0.02341), ('linear diophantine equation', 0.01826), ('upper bound', 0.01571), ('natural number', 0.01373)] \n",
      "\n",
      "weighted top nodes with current flow closeness centrality metrics: \n",
      " [('system', 0.06070618944976472), ('linear', 0.05478998632197389), ('solution', 0.05204196276244061), ('compatibility', 0.05089550956551615), ('diophantine', 0.04972456232578067), ('equation', 0.04972456232578067), ('constraint', 0.04895239724389068), ('criterion', 0.048019043799886474), ('algorithm', 0.04752114091267948), ('strict', 0.04681384951304889), ('inequations', 0.04681384951304887), ('minimal', 0.044778078791278264), ('construction', 0.04195976246658986), ('type', 0.04112486892726786), ('nonstrict', 0.03484984369791434), ('component', 0.03141457696655081), ('bound', 0.03141457696655081), ('natural', 0.027451404396874702), ('upper', 0.026087621590427063), ('number', 0.018372893344396526)]\n"
     ]
    }
   ],
   "source": [
    "# extract keywords from all vertices connections with current flow closeness centrality metrics\n",
    "current_flow_closeness_results, current_flow_closeness_nodes = keywords_extraction(example_abstract, \n",
    "                                                                                   solver=\"current_flow_closeness\", \n",
    "                                                                                   top_p = 1, window = 5,\n",
    "                                                                                   syntactic_categories = custom_categories, \n",
    "                                                                                   stop_words = stop_words, lemma=True)\n",
    "print(\"Keywords result by current flow closeness centrality metrics: \\n\", current_flow_closeness_results, \"\\n\")\n",
    "print(\"weighted top nodes with current flow closeness centrality metrics: \\n\", current_flow_closeness_nodes)"
   ]
  },
  {
   "cell_type": "code",
   "execution_count": 12,
   "metadata": {},
   "outputs": [
    {
     "name": "stdout",
     "output_type": "stream",
     "text": [
      "Keywords result by current flow betweenness centrality metrics: \n",
      " [('system', 1.1482), ('type system', 0.5741), ('nonstrict inequations', 0.45079), ('strict inequations', 0.45079), ('solution', 0.34548), ('minimal', 0.32959), ('algorithm', 0.22803), ('criterion', 0.20253), ('compatibility', 0.18867), ('linear constraint', 0.14764), ('construction', 0.11175), ('type', 0.11095), ('linear diophantine equation', 0.09842), ('component', 0.08918), ('natural number', 0.05263), ('upper bound', 0.04459)] \n",
      "\n",
      "weighted top nodes with current flow betweenness centrality metrics: \n",
      " [('system', 1.1482033926718427), ('inequations', 0.9015890680266194), ('solution', 0.34547812316861887), ('minimal', 0.32958744290244796), ('linear', 0.29527314693588586), ('constraint', 0.26725603394888553), ('algorithm', 0.22802861216058418), ('criterion', 0.20252954109984786), ('compatibility', 0.18867165148914308), ('diophantine', 0.13407412949177835), ('equation', 0.13407412949177785), ('strict', 0.11365686188938356), ('construction', 0.11175118559250567), ('type', 0.1109462434416613), ('natural', 0.10526315789473692), ('component', 0.08918128654970817), ('bound', 0.0891812865497081), ('upper', 0.026315789473683994), ('nonstrict', 0.01754385964912287), ('number', 4.15522067695965e-17)]\n"
     ]
    }
   ],
   "source": [
    "# extract keywords from all vertices connections with current flow betweenness centrality metrics\n",
    "current_flow_btw_results, current_flow_btw_nodes = keywords_extraction(example_abstract, solver=\"current_flow_betweenness\", \n",
    "                                                                       top_p = 1, window = 5, \n",
    "                                                                       syntactic_categories = custom_categories, \n",
    "                                                                       stop_words = stop_words, lemma=True)\n",
    "print(\"Keywords result by current flow betweenness centrality metrics: \\n\", current_flow_btw_results, \"\\n\")\n",
    "print(\"weighted top nodes with current flow betweenness centrality metrics: \\n\", current_flow_btw_nodes)"
   ]
  },
  {
   "cell_type": "code",
   "execution_count": 13,
   "metadata": {},
   "outputs": [
    {
     "name": "stdout",
     "output_type": "stream",
     "text": [
      "Keywords result by TeRGraph metrics: \n",
      " [('component', 0.65711), ('type', 0.64386), ('construction', 0.64046), ('criterion', 0.63227), ('algorithm', 0.63227), ('minimal', 0.62619), ('compatibility', 0.62015), ('solution', 0.61891), ('system', 0.603), ('natural number', 0.43723), ('upper bound', 0.35022), ('nonstrict inequations', 0.32856), ('type system', 0.32193), ('linear constraint', 0.31074), ('strict inequations', 0.30834), ('linear diophantine equation', 0.20358)] \n",
      "\n",
      "weighted top nodes with TeRGraph metrics: \n",
      " [('number', 0.874469117916141), ('natural', 0.7162070339994087), ('upper', 0.7004397181410922), ('nonstrict', 0.6571122864769915), ('component', 0.6571122864769915), ('bound', 0.6571122864769915), ('type', 0.6438561897747247), ('construction', 0.6404576133128598), ('criterion', 0.632268215499513), ('algorithm', 0.632268215499513), ('minimal', 0.6261851634476692), ('constraint', 0.6214883767462702), ('compatibility', 0.6201519291834561), ('solution', 0.618909832644494), ('strict', 0.6166713604484944), ('inequations', 0.6114347120823471), ('diophantine', 0.6107255967862378), ('equation', 0.6107255967862378), ('linear', 0.6061789866308519), ('system', 0.6029964235514178)]\n"
     ]
    }
   ],
   "source": [
    "# extract keywords from all vertices connections with TeRGraph metrics\n",
    "TeRGraph_results, TeRGraph_nodes = keywords_extraction(example_abstract, solver=\"TeRGraph\", top_p = 1, window = 5,\n",
    "                                                       syntactic_categories = custom_categories, stop_words = stop_words,\n",
    "                                                       lemma=True)\n",
    "print(\"Keywords result by TeRGraph metrics: \\n\", TeRGraph_results, \"\\n\")\n",
    "print(\"weighted top nodes with TeRGraph metrics: \\n\", TeRGraph_nodes)"
   ]
  },
  {
   "cell_type": "markdown",
   "metadata": {},
   "source": [
    "# Multi-Word Term (MWT) Scoring\n"
   ]
  },
  {
   "cell_type": "markdown",
   "metadata": {},
   "source": [
    "Multi-Word Terms(MWTs) are commonly weighted based on the maximum value of vertix unit among all the vertices in TextRank. jgTextRank implemented 11 additional algorithms. See all the scoring options as below:\n",
    "\n",
    "* **'max'** : maximum value of vertices weights\n",
    "* **'avg'** : avarage vertices weight\n",
    "* **'sum'** : sum of vertices weights\n",
    "* **'norm_max'** : MWT unit size normalisation of 'max' weight\n",
    "* **'norm_avg'** : MWT unit size normalisation of 'avg' weight\n",
    "* **'norm_sum'** : MWT unit size normalisation of 'sum' weight\n",
    "* **'log_norm_max'** : logarithm based normalisation of 'max' weight\n",
    "* **'log_norm_avg'** : logarithm based normalisation of 'avg' weight\n",
    "* **'log_norm_sum'** : logarithm based normalisation of 'sum' weight\n",
    "* **'gaussian_norm_max'** : gaussian normalisation of 'max' weight\n",
    "* **'gaussian_norm_avg'** : gaussian normalisation of 'avg' weight\n",
    "* **'gaussian_norm_sum'** : gaussian normalisation of 'sum' weight \n",
    "* **'len_log_norm_max'**: log2(|a| + 0.1) * 'max' adapted from CValue (Frantzi, 2000) formulate\n",
    "* **'len_log_norm_avg'**: log2(|a| + 0.1) * 'avg' adapted from CValue (Frantzi, 2000) formulate\n",
    "* **'len_log_norm_sum'**: log2(|a| + 0.1) * 'sum' adapted from CValue (Frantzi, 2000) formulate\n",
    "\n",
    "**'max'** is the default weighting metric for short-text keyword extraction in _'jgTextRank'_, while **'norm_max'** is the default one used for corpus based term extraction methods. The purpose of normalisation methods intend to penalise longer candidate terms and rank terms with desired term size higher.\n",
    "\n",
    "Logarithm and Gaussian normalisations are two new experimental metrics implemented in _'jgTextRank'_. The following section briefly presents the intuition of two methods."
   ]
  },
  {
   "cell_type": "markdown",
   "metadata": {},
   "source": [
    "## Intuition of logarithm and Gaussian normalisation\n",
    "\n",
    "Following two figures illustrates the intuition of two normalisation methods: 'log\\_norm' and 'gaussian_norm'.\n",
    "\n",
    "Both two methods attempt to penalise long candidate terms based a _\"mean\" value_ of term size distribution and achieve saturation.\n",
    "\n",
    "* **'log_norm'** intends to penalise candidate terms gradually that has longer size than the _\"mean\" value_, while rewarding the ones shorter than the point.\n",
    "\n",
    "* **'gaussian_norm'** intends to treat the candidates terms with the _\"mean\"_ size as a central point of distribution and gradually penalise the terms far from the point.\n",
    "\n",
    "The _\"mean\" size_ can be an actual mean of sizes of all candidate terms. The intuition is that we can set a \"mean\" value for our dataset and rank any candidate term higher with the observed term size. 'jgtextrank' allows to set the value manually and the default value is 5. This is based on last decades research that most of terminologies or key words concentrate on the size range from 1 to 6."
   ]
  },
  {
   "cell_type": "code",
   "execution_count": 14,
   "metadata": {},
   "outputs": [
    {
     "data": {
      "image/png": "[encoded data removed]",
      "text/plain": [
       "<matplotlib.figure.Figure at 0x7fb07a45ee80>"
      ]
     },
     "metadata": {},
     "output_type": "display_data"
    },
    {
     "data": {
      "image/png": "[encoded data removed]",
      "text/plain": [
       "<matplotlib.figure.Figure at 0x7fb07a3c9908>"
      ]
     },
     "metadata": {},
     "output_type": "display_data"
    },
    {
     "data": {
      "image/png": "[encoded data removed]",
      "text/plain": [
       "<matplotlib.figure.Figure at 0x7fb07a3aa0b8>"
      ]
     },
     "metadata": {},
     "output_type": "display_data"
    }
   ],
   "source": [
    "import matplotlib.pyplot as plt\n",
    "import numpy as np\n",
    "import math\n",
    "\n",
    "# set mean of terms size distribution\n",
    "mu = 5\n",
    "\n",
    "# sample x dataset as term sizes from 1 - 10\n",
    "x = np.linspace(1,10)\n",
    "y = [math.log(x_i, mu) for x_i in x]\n",
    "\n",
    "fig, ax = plt.subplots(figsize=(10,3))\n",
    "\n",
    "ax.set_title(\"plot y on log (base=5) scale\")\n",
    "#ax.set_yscale(\"log\")\n",
    "ax.set_ylim([0, 2])\n",
    "ax.plot(x,y) \n",
    "\n",
    "plt.plot((0, 5), (1, 1), '--')\n",
    "plt.plot((5, 5), (0, 1), '--')\n",
    "\n",
    "plt.show()\n",
    "\n",
    "# try with norm distribution\n",
    "# mu = np.mean(x)\n",
    "mu = 5\n",
    "sigma = np.std(x)\n",
    "sum_x = sum(x)\n",
    "min_x = min(x)\n",
    "max_x = max(x)\n",
    "\n",
    "#print(np.sqrt(2))\n",
    "\n",
    "def probability_density(x_value, mu, sigma):\n",
    "    pd = (1/(sigma * np.sqrt(2 * math.pi))) * math.exp(- math.pow((x_value - mu),2) / (2 * math.pow(sigma, 2)))\n",
    "    return pd\n",
    "\n",
    "norm_value = 1 - probability_density(mu, mu, sigma)\n",
    "\n",
    "n_y = [probability_density(x_i, mu, sigma) + norm_value for x_i in x]\n",
    "\n",
    "# print(\"prob of 5: \", probability_density(5, mu, sigma))\n",
    "\n",
    "fig_2, ax_2 = plt.subplots(figsize=(10,3))\n",
    "\n",
    "ax_2.set_title(\"plot y on norm (mu=5) distribution \")\n",
    "#ax.set_yscale(\"log\")\n",
    "ax_2.set_ylim([0.85, 1.05])\n",
    "ax_2.plot(x,n_y) \n",
    "\n",
    "plt.plot((0, 5), (1, 1), '--')\n",
    "plt.plot((5, 5), (0, 1), '--')\n",
    "\n",
    "plt.show()\n",
    "\n",
    "\n",
    "log_len_norm_y = [math.log2(x_i + 0.1) for x_i in x]\n",
    "fig_3, ax_3 = plt.subplots(figsize=(10,3))\n",
    "\n",
    "ax_3.set_title(\"plot log length norm distribution\")\n",
    "#ax.set_yscale(\"log\")\n",
    "ax_3.set_ylim([0.1, 15])\n",
    "ax_3.plot(x,log_len_norm_y) \n",
    "\n",
    "plt.show()"
   ]
  },
  {
   "cell_type": "markdown",
   "metadata": {},
   "source": [
    "## Simple examples of MWT ranking"
   ]
  },
  {
   "cell_type": "code",
   "execution_count": 15,
   "metadata": {},
   "outputs": [
    {
     "name": "stdout",
     "output_type": "stream",
     "text": [
      "Top 10 Keywords with 'avg':  [('system', 0.09086), ('set', 0.07817), ('minimal set', 0.06832), ('type system', 0.06499), ('algorithm', 0.06389), ('minimal supporting set', 0.05896), ('linear diophantine equation', 0.05862), ('minimal', 0.05848), ('linear constraint', 0.04969), ('strict inequations', 0.04804)]\n",
      "\n",
      "Top 10 Keywords with 'norm_avg':  [('system', 0.09086), ('set', 0.07817), ('algorithm', 0.06389), ('minimal', 0.05848), ('compatibility', 0.04458), ('solution', 0.04176), ('construction', 0.04171), ('type', 0.03911), ('minimal set', 0.03416), ('type system', 0.03249)]\n",
      "\n",
      "Top 10 Keywords with 'log_norm_avg'(mu=3):  [('minimal set', 0.10829), ('type system', 0.103), ('system', 0.09086), ('linear constraint', 0.07876), ('set', 0.07817), ('strict inequations', 0.07614), ('corresponding algorithm', 0.07056), ('algorithm', 0.06389), ('nonstrict inequations', 0.06276), ('mixed type', 0.06199)]\n",
      "\n",
      "Top 10 Keywords with 'gaussian_norm_avg'(mu=3):  [('system', 0.09031), ('set', 0.07769), ('algorithm', 0.0635), ('minimal', 0.05812), ('minimal set', 0.05522), ('type system', 0.05253), ('compatibility', 0.04431), ('solution', 0.0415), ('construction', 0.04146), ('linear constraint', 0.04017)]\n",
      "\n",
      "Top 10 Keywords with 'len_log_norm_avg':  [('minimal supporting set', 0.09623), ('linear diophantine equation', 0.09568), ('minimal set', 0.07313), ('type system', 0.06956), ('linear constraint', 0.05319), ('strict inequations', 0.05142), ('corresponding algorithm', 0.04765), ('nonstrict inequations', 0.04239), ('mixed type', 0.04186), ('natural number', 0.03916)]\n",
      "\n",
      "Top 10 Keywords with 'sum':  [('minimal supporting set', 0.17687), ('linear diophantine equation', 0.17586), ('minimal set', 0.13665), ('type system', 0.12998), ('linear constraint', 0.09939), ('strict inequations', 0.09608), ('system', 0.09086), ('corresponding algorithm', 0.08903), ('nonstrict inequations', 0.0792), ('mixed type', 0.07822)]\n",
      "\n",
      "Top 10 Keywords with 'norm_sum':  [('system', 0.09086), ('set', 0.07817), ('minimal set', 0.06832), ('type system', 0.06499), ('algorithm', 0.06389), ('minimal supporting set', 0.05896), ('linear diophantine equation', 0.05862), ('minimal', 0.05848), ('linear constraint', 0.04969), ('strict inequations', 0.04804)]\n",
      "\n",
      "Top 10 Keywords with 'log_norm_sum'(mu=3):  [('minimal set', 0.21658), ('type system', 0.20601), ('minimal supporting set', 0.17687), ('linear diophantine equation', 0.17586), ('linear constraint', 0.15753), ('strict inequations', 0.15228), ('corresponding algorithm', 0.14111), ('nonstrict inequations', 0.12552), ('mixed type', 0.12398), ('natural number', 0.11597)]\n",
      "\n",
      "Top 10 Keywords with 'gaussian_norm_sum'(mu=3):  [('minimal set', 0.11045), ('type system', 0.10505), ('system', 0.09031), ('linear constraint', 0.08033), ('set', 0.07769), ('strict inequations', 0.07766), ('corresponding algorithm', 0.07196), ('minimal supporting set', 0.06993), ('linear diophantine equation', 0.06953), ('nonstrict inequations', 0.06401)]\n",
      "\n",
      "Top 10 Keywords with 'len_log_norm_sum':  [('minimal supporting set', 0.2887), ('linear diophantine equation', 0.28705), ('minimal set', 0.14627), ('type system', 0.13913), ('linear constraint', 0.10638), ('strict inequations', 0.10284), ('corresponding algorithm', 0.0953), ('nonstrict inequations', 0.08477), ('mixed type', 0.08373), ('natural number', 0.07832)]\n",
      "\n",
      "Top 10 Keywords with 'max':  [('system', 0.09086), ('type system', 0.09086), ('minimal supporting set', 0.07817), ('minimal set', 0.07817), ('set', 0.07817), ('linear constraint', 0.07616), ('linear diophantine equation', 0.07616), ('algorithm', 0.06389), ('corresponding algorithm', 0.06389), ('minimal', 0.05848)]\n",
      "\n",
      "Top 10 Keywords with 'norm_max':  [('system', 0.09086), ('set', 0.07817), ('algorithm', 0.06389), ('minimal', 0.05848), ('type system', 0.04543), ('compatibility', 0.04458), ('solution', 0.04176), ('construction', 0.04171), ('type', 0.03911), ('minimal set', 0.03909)]\n",
      "\n",
      "Top 10 Keywords with 'log_norm_max'(mu=3):  [('type system', 0.14402), ('minimal set', 0.1239), ('linear constraint', 0.12071), ('corresponding algorithm', 0.10126), ('system', 0.09086), ('nonstrict inequations', 0.08025), ('strict inequations', 0.08025), ('minimal supporting set', 0.07817), ('set', 0.07817), ('linear diophantine equation', 0.07616)]\n",
      "\n",
      "Top 10 Keywords with 'gaussian_norm_max'(mu=3):  [('system', 0.09031), ('set', 0.07769), ('type system', 0.07344), ('algorithm', 0.0635), ('minimal set', 0.06318), ('linear constraint', 0.06156), ('minimal', 0.05812), ('corresponding algorithm', 0.05164), ('compatibility', 0.04431), ('solution', 0.0415)]\n",
      "\n",
      "Top 10 Keywords with 'len_log_norm_max':  [('minimal supporting set', 0.1276), ('linear diophantine equation', 0.12432), ('type system', 0.09726), ('minimal set', 0.08367), ('linear constraint', 0.08152), ('corresponding algorithm', 0.06839), ('nonstrict inequations', 0.0542), ('strict inequations', 0.0542), ('natural number', 0.04967), ('mixed type', 0.04186)]\n"
     ]
    }
   ],
   "source": [
    "example_abstract_results_wc1, example_abstract_top_vertices = keywords_extraction(example_abstract, weight_comb=\"avg\", top_p = 1, lemma=True)\n",
    "print(\"Top 10 Keywords with 'avg': \", example_abstract_results_wc1[:10])\n",
    "\n",
    "example_abstract_results_wc2, example_abstract_top_vertices = keywords_extraction(example_abstract, weight_comb=\"norm_avg\", top_p = 1, lemma=True)\n",
    "print(\"\\nTop 10 Keywords with 'norm_avg': \", example_abstract_results_wc2[:10])\n",
    "\n",
    "example_abstract_results_wc3, example_abstract_top_vertices = keywords_extraction(example_abstract, weight_comb=\"log_norm_avg\", top_p = 1, mu=3, lemma=True)\n",
    "print(\"\\nTop 10 Keywords with 'log_norm_avg'(mu=3): \", example_abstract_results_wc3[:10])\n",
    "\n",
    "example_abstract_results_wc4, example_abstract_top_vertices = keywords_extraction(example_abstract, weight_comb=\"gaussian_norm_avg\", top_p = 1, mu=3, lemma=True)\n",
    "print(\"\\nTop 10 Keywords with 'gaussian_norm_avg'(mu=3): \", example_abstract_results_wc4[:10])\n",
    "\n",
    "example_abstract_results_wc5, example_abstract_top_vertices = keywords_extraction(example_abstract, weight_comb=\"len_log_norm_avg\", top_p = 1, lemma=True)\n",
    "print(\"\\nTop 10 Keywords with 'len_log_norm_avg': \", example_abstract_results_wc5[:10])\n",
    "\n",
    "example_abstract_results_wc6, example_abstract_top_vertices = keywords_extraction(example_abstract, weight_comb=\"sum\", top_p = 1, lemma=True)\n",
    "print(\"\\nTop 10 Keywords with 'sum': \", example_abstract_results_wc6[:10])\n",
    "\n",
    "example_abstract_results_wc7, example_abstract_top_vertices = keywords_extraction(example_abstract, weight_comb=\"norm_sum\", top_p = 1, lemma=True)\n",
    "print(\"\\nTop 10 Keywords with 'norm_sum': \", example_abstract_results_wc7[:10])\n",
    "\n",
    "example_abstract_results_wc8, example_abstract_top_vertices = keywords_extraction(example_abstract, weight_comb=\"log_norm_sum\", top_p = 1, mu=3, lemma=True)\n",
    "print(\"\\nTop 10 Keywords with 'log_norm_sum'(mu=3): \", example_abstract_results_wc8[:10])\n",
    "\n",
    "example_abstract_results_wc9, example_abstract_top_vertices = keywords_extraction(example_abstract, weight_comb=\"gaussian_norm_sum\", top_p = 1, mu=3, lemma=True)\n",
    "print(\"\\nTop 10 Keywords with 'gaussian_norm_sum'(mu=3): \", example_abstract_results_wc9[:10])\n",
    "\n",
    "example_abstract_results_wc10, example_abstract_top_vertices = keywords_extraction(example_abstract, weight_comb=\"len_log_norm_sum\", top_p = 1, lemma=True)\n",
    "print(\"\\nTop 10 Keywords with 'len_log_norm_sum': \", example_abstract_results_wc10[:10])\n",
    "\n",
    "example_abstract_results_wc11, example_abstract_top_vertices = keywords_extraction(example_abstract, weight_comb=\"max\", top_p = 1, lemma=True)\n",
    "print(\"\\nTop 10 Keywords with 'max': \", example_abstract_results_wc11[:10])\n",
    "\n",
    "example_abstract_results_wc12, example_abstract_top_vertices = keywords_extraction(example_abstract, weight_comb=\"norm_max\", top_p = 1, mu=3, lemma=True)\n",
    "print(\"\\nTop 10 Keywords with 'norm_max': \", example_abstract_results_wc12[:10])\n",
    "\n",
    "example_abstract_results_wc13, example_abstract_top_vertices = keywords_extraction(example_abstract, weight_comb=\"log_norm_max\", top_p = 1, mu=3, lemma=True)\n",
    "print(\"\\nTop 10 Keywords with 'log_norm_max'(mu=3): \", example_abstract_results_wc13[:10])\n",
    "\n",
    "example_abstract_results_wc14, example_abstract_top_vertices = keywords_extraction(example_abstract, weight_comb=\"gaussian_norm_max\", top_p = 1, mu=3, lemma=True)\n",
    "print(\"\\nTop 10 Keywords with 'gaussian_norm_max'(mu=3): \", example_abstract_results_wc14[:10])\n",
    "\n",
    "example_abstract_results_wc15, example_abstract_top_vertices = keywords_extraction(example_abstract, weight_comb=\"len_log_norm_max\", top_p = 1, mu=3, lemma=True)\n",
    "print(\"\\nTop 10 Keywords with 'len_log_norm_max': \", example_abstract_results_wc15[:10])"
   ]
  },
  {
   "cell_type": "markdown",
   "metadata": {},
   "source": [
    "# Term extraction from corpus\n",
    "\n",
    "'jgtextrank' can be applied to raw text corpus for corpus-level term extraction. Corpus-level term graph representation will be made and linearly expanded by merging individual vertex graph and their co-occurrences from all the context across the entire document set.\n",
    "\n",
    "The implementation is memory-efficient and can be applied to large corpus. You can set available workers (CPU cores) to speed up the co-occurrence computation."
   ]
  },
  {
   "cell_type": "code",
   "execution_count": 3,
   "metadata": {},
   "outputs": [],
   "source": [
    "import logging.config\n",
    "# log can be set up for corpus processing or for the debugging\n",
    "logging.config.fileConfig(os.path.join('..', 'logging.conf'))\n",
    "corpus_directory = os.path.join('GENIAcorpus302', 'text', 'files')"
   ]
  },
  {
   "cell_type": "code",
   "execution_count": 26,
   "metadata": {},
   "outputs": [
    {
     "name": "stdout",
     "output_type": "stream",
     "text": [
      "term extraction from corpus [GENIAcorpus302\\text\\files] with pageRank metrics...\n",
      "2018-08-13 11:15:51,900 [MainThread  ] - textrank - INFO - computing vertices representations...\n",
      "2018-08-13 11:18:05,378 [MainThread  ] - textrank - INFO - total size of vertices: 16121\n",
      "2018-08-13 11:18:11,454 [MainThread  ] - textrank - DEBUG - top T(t=16121) vertices: [('cell', 0.012267871358133127), ('protein', 0.006821066185310318), ('gene', 0.0062500396747922566), ('expression', 0.005490770528247743), ('human', 0.0050934423716705755), ('activation', 0.004200811423588261), ('activity', 0.003986656587461902), ('factor', 0.003963569627782556), ('transcription', 0.0036417277399153317), ('receptor', 0.0035910084331549704)] ...\n",
      "2018-08-13 11:18:11,493 [MainThread  ] - textrank - INFO - collapse adjacent keywords ...\n",
      "2018-08-13 11:21:57,151 [MainThread  ] - textrank - INFO - exporting sorted keywords into [textrank_genia.json]\n",
      "2018-08-13 11:21:57,406 [MainThread  ] - textrank - INFO - complete result export.\n",
      "\n",
      "\n",
      "Complete. Wall-clock elapsed time:  420.60524678230286 s\n",
      "\n",
      "\n",
      "top 50 keywords:  [('cell', 0.01227), ('protein', 0.00682), ('gene', 0.00625), ('cd4+ cell', 0.00613), ('foreign cell', 0.00613), ('leukemic cell', 0.00613), ('cell differentiation', 0.00613), ('ctll-r8 cell', 0.00613), ('progenitor/precursor cell', 0.00613), ('er- cell', 0.00613), ('cell express', 0.00613), ('large cell', 0.00613), ('remain cell', 0.00613), ('cell response', 0.00613), ('cell hyperreactivity', 0.00613), ('unstimulated cell', 0.00613), ('pdbu-treated cell', 0.00613), ('differentiated cell', 0.00613), ('ach-2 cell', 0.00613), ('cell cytokine', 0.00613), ('cell line', 0.00613), ('cell hybridoma', 0.00613), ('cell preincubated', 0.00613), ('cell number', 0.00613), ('cell type-', 0.00613), ('mononucleated cell', 0.00613), ('cell biology', 0.00613), ('cell immunopoiesis', 0.00613), ('insect cell', 0.00613), ('cell leukemia', 0.00613), ('hepatoma cell', 0.00613), ('ilt-mat cell', 0.00613), ('non-b cell', 0.00613), ('nonlymphoid cell', 0.00613), ('cell manifest', 0.00613), ('cd68+ cell', 0.00613), ('cell associate', 0.00613), ('self-reactive cell', 0.00613), ('htlv-1-transformed cell', 0.00613), ('il-2-producing cell', 0.00613), ('pth cell', 0.00613), ('cell regulation', 0.00613), ('foam cell', 0.00613), ('cell sensitive', 0.00613), ('interfollicular cell', 0.00613), ('l540 cell', 0.00613), ('dead cell', 0.00613), ('eklf-/- cell', 0.00613), ('cell mature', 0.00613), ('murine cell', 0.00613)]\n",
      "\n",
      "\n",
      "top 50 vertices:  [('cell', 0.012267871358133127), ('protein', 0.006821066185310318), ('gene', 0.0062500396747922566), ('expression', 0.005490770528247743), ('human', 0.0050934423716705755), ('activation', 0.004200811423588261), ('activity', 0.003986656587461902), ('factor', 0.003963569627782556), ('transcription', 0.0036417277399153317), ('receptor', 0.0035910084331549704), ('show', 0.0034496519580350083), ('site', 0.003335761822105925), ('induce', 0.003275574797662498), ('promoter', 0.0031572784260005785), ('increase', 0.0030483755724488595), ('effect', 0.0028740010942174227), ('bind', 0.002662715606333691), ('suggest', 0.00260752741096409), ('line', 0.0025514729333662093), ('element', 0.0025381313178396933), ('patient', 0.0025347679181206765), ('inhibit', 0.002505403166328923), ('response', 0.0025053755031093274), ('sequence', 0.0024899689016888737), ('complex', 0.002487366263250271), ('binding', 0.0024754221169777796), ('express', 0.0024036349264392495), ('region', 0.0023585241315200217), ('level', 0.002308063127054004), ('activate', 0.002237460464287719), ('nuclear', 0.002195237683450012), ('signal', 0.0020865006670152007), ('result', 0.0020504804380947197), ('induction', 0.0020213317506878404), ('demonstrate', 0.002005491962533193), ('dna', 0.0019807785867365433), ('lymphocyte', 0.001969327529146193), ('mrna', 0.0019078052241816813), ('include', 0.0018798331163839643), ('pathway', 0.0018190763011624003), ('nf-kappa', 0.001802818953915961), ('study', 0.0017948715188636174), ('kinase', 0.0017224038168442628), ('control', 0.0017075244303586372), ('domain', 0.0016946360721175934), ('analysis', 0.0016623446213650252), ('function', 0.0016564411481407523), ('role', 0.0016442835120019387), ('require', 0.0016265899429496005), ('alpha', 0.0015869047347907782)]\n"
     ]
    }
   ],
   "source": [
    "print(\"term extraction from corpus [%s] with pageRank metrics...\" % corpus_directory)\n",
    "start = time.time()\n",
    "\n",
    "# \"T is set to a third of the number of vertices in the graph\"\n",
    "# 'workers' is set to use all the available cpu cores\n",
    "keywords, top_t_vertices = keywords_extraction_from_corpus_directory(corpus_directory, top_p=1, stop_words=stop_list,\n",
    "                                                                     max_iter=1000, tol=1.0e-6, \n",
    "                                                                     lemma=True, weight_comb=\"norm_max\",\n",
    "                                                                     export=True, export_format=\"json\", \n",
    "                                                                     export_path=\"textrank_genia.json\",\n",
    "                                                                     workers=multiprocessing.cpu_count())\n",
    "\n",
    "end = time.time()\n",
    "\n",
    "print(\"\\n\")\n",
    "print(\"Complete. Wall-clock elapsed time: \", end - start, \"s\")\n",
    "print(\"\\n\")\n",
    "print(\"top 50 keywords: \", keywords[:50])\n",
    "print(\"\\n\")\n",
    "print(\"top 50 vertices: \", top_t_vertices[:50])"
   ]
  },
  {
   "cell_type": "code",
   "execution_count": null,
   "metadata": {},
   "outputs": [],
   "source": [
    "print(\"term extraction from corpus [%s] with TeRGraph metrics...\" % corpus_directory)\n",
    "start = time.time()\n",
    "\n",
    "# \"T is set to a third of the number of vertices in the graph\"\n",
    "# 'workers' is set to use all the available cpu cores\n",
    "TeRGraph_keywords, TeRGraph_top_t_vertices = keywords_extraction_from_corpus_directory(corpus_directory, solver=\"TeRGraph\",\n",
    "                                                         top_p=1, stop_words=stop_list, lemma=True, weight_comb=\"norm_max\",\n",
    "                                                         export=True, export_format=\"json\",\n",
    "                                                         export_path=\"textrank_genia_TeRGraph.json\",\n",
    "                                                         workers=multiprocessing.cpu_count())\n",
    "\n",
    "end = time.time()\n",
    "\n",
    "print(\"\\n\")\n",
    "print(\"Complete. Wall-clock elapsed time: \", end - start, \"s\")\n",
    "print(\"\\n\")\n",
    "print(\"top 50 TeRGraph keywords: \", TeRGraph_keywords[:50])\n",
    "print(\"\\n\")\n",
    "print(\"top 50 TeRGraph vertices: \", TeRGraph_top_t_vertices[:50])"
   ]
  },
  {
   "cell_type": "code",
   "execution_count": null,
   "metadata": {},
   "outputs": [],
   "source": [
    "print(\"term extraction from corpus [%s] with degree centrality metrics...\" % corpus_directory)\n",
    "start = time.time()\n",
    "\n",
    "# \"T is set to a third of the number of vertices in the graph\"\n",
    "# 'workers' is set to use all the available cpu cores\n",
    "degree_centr_keywords, degree_centr_top_t_vertices = keywords_extraction_from_corpus_directory(corpus_directory, \n",
    "                                                                                               solver=\"degree_centrality\",\n",
    "                                                         top_p=1, stop_words=stop_list, lemma=True, weight_comb=\"norm_max\",\n",
    "                                                         export=True, export_format=\"json\",\n",
    "                                                         export_path=\"textrank_genia_degree_centrality.json\",\n",
    "                                                         workers=multiprocessing.cpu_count())\n",
    "\n",
    "end = time.time()\n",
    "\n",
    "print(\"\\n\")\n",
    "print(\"Complete. Wall-clock elapsed time: \", end - start, \"s\")\n",
    "print(\"\\n\")\n",
    "print(\"top 50 degree centrality keywords: \", degree_centr_keywords[:50])\n",
    "print(\"\\n\")\n",
    "print(\"top 50 degree centrality vertices: \", degree_centr_top_t_vertices[:50])"
   ]
  },
  {
   "cell_type": "code",
   "execution_count": null,
   "metadata": {},
   "outputs": [],
   "source": [
    "print(\"term extraction from corpus [%s] with hits metrics...\" % corpus_directory)\n",
    "start = time.time()\n",
    "\n",
    "# \"T is set to a third of the number of vertices in the graph\"\n",
    "# 'workers' is set to use all the available cpu cores\n",
    "hits_keywords, hits_top_t_vertices = keywords_extraction_from_corpus_directory(corpus_directory, solver=\"hits\",\n",
    "                                                                               max_iter=1000, tol=1.0e-8,\n",
    "                                                         top_p=1, stop_words=stop_list, lemma=True, weight_comb=\"norm_max\",\n",
    "                                                         export=True, export_format=\"json\",\n",
    "                                                         export_path=\"textrank_genia_hits.json\",\n",
    "                                                         workers=multiprocessing.cpu_count())\n",
    "\n",
    "end = time.time()\n",
    "\n",
    "print(\"\\n\")\n",
    "print(\"Complete. Wall-clock elapsed time: \", end - start, \"s\")\n",
    "print(\"\\n\")\n",
    "print(\"top 50 hits keywords: \", hits_keywords[:50])\n",
    "print(\"\\n\")\n",
    "print(\"top 50 hits vertices: \", hits_top_t_vertices[:50])"
   ]
  },
  {
   "cell_type": "code",
   "execution_count": null,
   "metadata": {},
   "outputs": [],
   "source": [
    "print(\"term extraction from corpus [%s] with katz centrality metrics...\" % corpus_directory)\n",
    "start = time.time()\n",
    "\n",
    "# \"T is set to a third of the number of vertices in the graph\"\n",
    "# 'workers' is set to use all the available cpu cores\n",
    "katz_keywords, katz_top_t_vertices = keywords_extraction_from_corpus_directory(corpus_directory, \n",
    "                                                                               solver=\"katz_centrality\", \n",
    "                                                                               max_iter=5000, tol=1.0e-6,\n",
    "                                                         top_p=1, stop_words=stop_list, lemma=True, weight_comb=\"norm_max\",                                                                               \n",
    "                                                         export=True, export_format=\"json\",\n",
    "                                                         export_path=\"textrank_genia_katz.json\",\n",
    "                                                         workers=multiprocessing.cpu_count())\n",
    "\n",
    "end = time.time()\n",
    "\n",
    "print(\"\\n\")\n",
    "print(\"Complete. Wall-clock elapsed time: \", end - start, \"s\")\n",
    "print(\"\\n\")\n",
    "print(\"top 50 katz centrality keywords: \", katz_keywords[:50])\n",
    "print(\"\\n\")\n",
    "print(\"top 50 katz centrality vertices: \", katz_top_t_vertices[:50])"
   ]
  },
  {
   "cell_type": "markdown",
   "metadata": {},
   "source": [
    "Evaluation of the result with reference set:"
   ]
  },
  {
   "cell_type": "code",
   "execution_count": 4,
   "metadata": {},
   "outputs": [
    {
     "name": "stdout",
     "output_type": "stream",
     "text": [
      "load and normalise GENIA gs term list from [genia_gs_terms.txt]\n",
      "initially loaded gs terms size:  35800\n",
      "normalised gs terms loaded.\n"
     ]
    }
   ],
   "source": [
    "from example_utility import load_genia_gs_terms, normalise_term, term_precision, term_recall,f1_score\n",
    "gs_terms = load_genia_gs_terms('genia_gs_terms.txt')"
   ]
  },
  {
   "cell_type": "code",
   "execution_count": 5,
   "metadata": {},
   "outputs": [],
   "source": [
    "def evaluate_results(result_terms, gs_terms, solver_algorithm):\n",
    "    print(\"\\nEvaluation Result of %s: \" % solver_algorithm)\n",
    "    print(\"\\n\")\n",
    "    all_norm_terms = [normalise_term(weighted_term[0]) for weighted_term in result_terms]\n",
    "    \n",
    "    overall_precision = term_precision(gs_terms, set(all_norm_terms))\n",
    "    print(\"overall precision: \", overall_precision)\n",
    "    overall_recall = term_recall(gs_terms, set(all_norm_terms))\n",
    "    print(\"overall recall: \", overall_recall)\n",
    "    overall_f1 = f1_score(overall_precision, overall_recall)\n",
    "    print(\"overall F1 score: \", overall_f1)\n",
    "    \n",
    "    top_200_precision = term_precision(gs_terms, set(all_norm_terms[:200]))\n",
    "    print(\"top_200_precision: \", top_200_precision)\n",
    "    top_500_precision = term_precision(gs_terms, set(all_norm_terms[:500]))\n",
    "    print(\"top_500_precision: \", top_500_precision)\n",
    "    top_1000_precision = term_precision(gs_terms, set(all_norm_terms[:1000]))\n",
    "    print(\"top_1000_precision: \", top_1000_precision)\n",
    "    top_2000_precision = term_precision(gs_terms, set(all_norm_terms[:2000]))\n",
    "    print(\"top_2000_precision: \", top_2000_precision)\n",
    "    top_3000_precision = term_precision(gs_terms, set(all_norm_terms[:3000]))\n",
    "    print(\"top_3000_precision: \", top_3000_precision)\n",
    "    top_5000_precision = term_precision(gs_terms, set(all_norm_terms[:5000]))\n",
    "    print(\"top_5000_precision: \", top_5000_precision)\n"
   ]
  },
  {
   "cell_type": "code",
   "execution_count": 24,
   "metadata": {},
   "outputs": [
    {
     "name": "stdout",
     "output_type": "stream",
     "text": [
      "\n",
      "Evaluation Result of pagerank: \n",
      "\n",
      "\n",
      "overall precision:  0.4158849149845046\n",
      "overall recall:  0.653\n",
      "top_200_precision:  0.7\n",
      "top_500_precision:  0.6686746987951807\n",
      "top_1000_precision:  0.6167002012072434\n",
      "top_2000_precision:  0.5742325113236034\n",
      "top_3000_precision:  0.5924806982208795\n",
      "top_5000_precision:  0.5481272654047523\n",
      "\n",
      "Evaluation Result of TeRGraph: \n",
      "\n",
      "\n",
      "overall precision:  0.4158849149845046\n",
      "overall recall:  0.653\n",
      "top_200_precision:  0.455\n",
      "top_500_precision:  0.44889779559118237\n",
      "top_1000_precision:  0.45875251509054327\n",
      "top_2000_precision:  0.4657258064516129\n",
      "top_3000_precision:  0.4740740740740741\n",
      "top_5000_precision:  0.5023312385972025\n",
      "\n",
      "Evaluation Result of Degree Centrality: \n",
      "\n",
      "\n",
      "overall precision:  0.4158849149845046\n",
      "overall recall:  0.653\n",
      "top_200_precision:  0.7\n",
      "top_500_precision:  0.6686746987951807\n",
      "top_1000_precision:  0.6187122736418511\n",
      "top_2000_precision:  0.5742325113236034\n",
      "top_3000_precision:  0.6073825503355704\n",
      "top_5000_precision:  0.5492050714429463\n",
      "\n",
      "Evaluation Result of hits: \n",
      "\n",
      "\n",
      "overall precision:  0.4158849149845046\n",
      "overall recall:  0.653\n",
      "top_200_precision:  0.685\n",
      "top_500_precision:  0.6693386773547094\n",
      "top_1000_precision:  0.6448692152917505\n",
      "top_2000_precision:  0.6592853548062405\n",
      "top_3000_precision:  0.613682092555332\n",
      "top_5000_precision:  0.5814889336016097\n",
      "\n",
      "Evaluation Result of katz centrality: \n",
      "\n",
      "\n",
      "overall precision:  0.4158849149845046\n",
      "overall recall:  0.653\n",
      "top_200_precision:  0.4271356783919598\n",
      "top_500_precision:  0.43661971830985913\n",
      "top_1000_precision:  0.46177062374245476\n",
      "top_2000_precision:  0.4568273092369478\n",
      "top_3000_precision:  0.41083974573435933\n",
      "top_5000_precision:  0.41364092276830494\n"
     ]
    }
   ],
   "source": [
    "evaluate_results(keywords, gs_terms, \"pagerank\")\n",
    "\n",
    "evaluate_results(TeRGraph_keywords, gs_terms, \"TeRGraph\")\n",
    "\n",
    "evaluate_results(degree_centr_keywords, gs_terms, \"Degree Centrality\")\n",
    "\n",
    "evaluate_results(hits_keywords, gs_terms, \"hits\")\n",
    "\n",
    "evaluate_results(katz_keywords, gs_terms, \"katz centrality\")"
   ]
  },
  {
   "cell_type": "markdown",
   "metadata": {},
   "source": [
    "# Evaluate KEA with Inspec dataset (Hulth, 2003)"
   ]
  },
  {
   "cell_type": "code",
   "execution_count": 2,
   "metadata": {},
   "outputs": [
    {
     "name": "stdout",
     "output_type": "stream",
     "text": [
      "term extraction from spaCy pre-processed hulth2003 corpus [Hulth2003\\Test] ...\n",
      "\n",
      "\n",
      "Complete. Wall-clock elapsed time:  63.46142864227295 s\n",
      "\n",
      "\n",
      "top 50 keywords:  [('system', 0.00885), ('model', 0.00643), ('base', 0.00639), ('datum', 0.00483), ('system design', 0.00443), ('time system', 0.00443), ('cctv system', 0.00443), ('hvdc system', 0.00443), ('mapping system', 0.00443), ('modal system', 0.00443), ('system status', 0.00443), ('cad system', 0.00443), ('dialogue system', 0.00443), ('drive system', 0.00443), ('base system', 0.00443), ('image system', 0.00443), ('numerical system', 0.00443), ('autonomous system', 0.00443), ('system risk', 0.00443), ('hiding system', 0.00443), ('flexible system', 0.00443), ('pv system', 0.00443), ('hybrid system', 0.00443), ('information system', 0.00443), ('elliptic system', 0.00443), ('cost system', 0.00443), ('ilp system', 0.00443), ('molecular system', 0.00443), ('power system', 0.00443), ('heat system', 0.00443), ('aware system', 0.00443), ('usable system', 0.00443), ('modelling system', 0.00443), ('constructive system', 0.00443), ('system manufacturer', 0.00443), ('data system', 0.00443), ('emotional system', 0.00443), ('variational system', 0.00443), ('stochastic system', 0.00443), ('rm system', 0.00443), ('reference system', 0.00443), ('multivariate system', 0.00443), ('practical system', 0.00443), ('operating system', 0.00443), ('imaging system', 0.00443), ('balanced system', 0.00443), ('robotic system', 0.00443), ('complex system', 0.00443), ('manufacturing system', 0.00443), ('system session', 0.00443)]\n",
      "\n",
      "\n",
      "top 100 vertices:  [('system', 0.008854990298063437), ('model', 0.006431608316173592), ('base', 0.006386233521778454), ('datum', 0.004826183436632448), ('method', 0.004388583584896228), ('image', 0.0041540816953683874), ('design', 0.004090437165499684), ('information', 0.003984737526910346), ('provide', 0.003829366739688316), ('algorithm', 0.003785247265052525), ('control', 0.003782143411451372), ('process', 0.003582643956071091), ('time', 0.003508056705606014), ('analysis', 0.002949103022579054), ('problem', 0.0028655968570377444), ('set', 0.0026497520180953026), ('approach', 0.002458059699260292), ('high', 0.002425412071661808), ('web', 0.0022573588085951063), ('application', 0.0021942511072524733), ('function', 0.0021695171119065246), ('present', 0.002166087561047776), ('computer', 0.002160913461998045), ('technique', 0.0021521315249004133), ('study', 0.0021505307092245574), ('result', 0.0020191919792027727), ('linear', 0.0019987875434105693), ('make', 0.0019718346859954054), ('number', 0.0019124793357762904), ('performance', 0.0018731438767877011), ('structure', 0.001818269885165404), ('user', 0.0018107143284388067), ('change', 0.001794333552467293), ('show', 0.0017659784404036307), ('network', 0.001735208255443706), ('support', 0.0017105805298650262), ('service', 0.0017104136541378399), ('electronic', 0.001698972445719912), ('good', 0.0016631427059459975), ('research', 0.0016283388590675391), ('level', 0.0016075798208434538), ('technology', 0.0016061718605489704), ('dynamic', 0.0015983690789719961), ('library', 0.0015843553046227911), ('scheme', 0.0015783763934827202), ('simple', 0.0015656562121816582), ('internet', 0.0015476683133243663), ('fuzzy', 0.0015443736324986079), ('standard', 0.0015178801559874724), ('development', 0.0015117259604084052), ('state', 0.001507974496146216), ('tool', 0.001507585168505277), ('frequency', 0.0015042882733923156), ('space', 0.001502572388110242), ('solution', 0.0015024723628402625), ('property', 0.0014985024800506154), ('management', 0.0014706319399243782), ('signal', 0.001443696113705728), ('test', 0.0014423287775514543), ('program', 0.0014377221708367174), ('power', 0.0014147084821581016), ('local', 0.0014104009164645482), ('noise', 0.0014029736208357403), ('improve', 0.0013990419494203368), ('effect', 0.0013952714411736601), ('project', 0.0013865879386628418), ('university', 0.0013812611572056191), ('estimate', 0.0013716873163493561), ('digital', 0.0013384256633044867), ('point', 0.0013130767240499268), ('software', 0.0013043906162700227), ('distribution', 0.0012888853893415094), ('class', 0.0012855474462533899), ('simulation', 0.0012828338122119751), ('multiple', 0.0012810264179546828), ('efficient', 0.0012707892848524674), ('law', 0.0012679404674194315), ('market', 0.0012567190161647235), ('scale', 0.0012419640841183762), ('online', 0.0012418975118577264), ('important', 0.0012119290686052001), ('experiment', 0.001195718190634895), ('low', 0.001192865173339156), ('source', 0.0011903977185257235), ('operation', 0.001187734647789727), ('compare', 0.001187302981929991), ('object', 0.0011872707252898098), ('error', 0.0011871430946969901), ('student', 0.0011681295326601544), ('color', 0.001163300752116953), ('parameter', 0.0011557056485715423), ('single', 0.00115441831244477), ('theory', 0.0011523304497037326), ('content', 0.0011505313197195993), ('rate', 0.0011451026109250185), ('phase', 0.00114441510784055), ('issue', 0.0011422514942984751), ('material', 0.001130986268222132), ('group', 0.0011300276805179046), ('case', 0.0011279496022368858)]\n"
     ]
    }
   ],
   "source": [
    "import os, time\n",
    "from jgtextrank import keywords_extraction_from_tagged_corpus\n",
    "from example_utility import pre_processing_corpus_with_spacy\n",
    "\n",
    "hulth2003_corpus_directory = os.path.join('Hulth2003', 'Test')\n",
    "# pre-processing raw corpus with spaCy library\n",
    "pre_processed_hulth2003_corpus = pre_processing_corpus_with_spacy(hulth2003_corpus_directory, \n",
    "                                                                  encoding=\"utf-8\", lemma=True, default_file_suffix=\".abstr\")\n",
    "\n",
    "print(\"term extraction from spaCy pre-processed hulth2003 corpus [%s] ...\" % hulth2003_corpus_directory)\n",
    "\n",
    "start = time.time()\n",
    "\n",
    "\n",
    "hulth2003_keywords_spacy, hulth2003_top_t_vertices_spacy = keywords_extraction_from_tagged_corpus(pre_processed_hulth2003_corpus,\n",
    "                                                                                                  window=2,\n",
    "                                                                  top_p = 1, stop_words=stop_list,\n",
    "                                                                  weight_comb=\"norm_max\",\n",
    "                                                                  export=True, export_format=\"json\",\n",
    "                                                                  export_path=\"textrank_genia_spacy.json\",\n",
    "                                                                  workers=multiprocessing.cpu_count())\n",
    "\n",
    "end = time.time()\n",
    "\n",
    "print(\"\\n\")\n",
    "print(\"Complete. Wall-clock elapsed time: \", end - start, \"s\")\n",
    "print(\"\\n\")\n",
    "print(\"top 50 keywords: \", hulth2003_keywords_spacy[:50])\n",
    "print(\"\\n\")\n",
    "print(\"top 100 vertices: \", hulth2003_top_t_vertices_spacy[:100])"
   ]
  },
  {
   "cell_type": "code",
   "execution_count": 7,
   "metadata": {},
   "outputs": [
    {
     "name": "stdout",
     "output_type": "stream",
     "text": [
      "initially loaded gs terms size:  3893\n",
      "normalised gs terms loaded.\n",
      "3750 total normalised Inspec gs terms loaded \n",
      "\n",
      "Evaluation Result of TextRank+Inspec: \n",
      "\n",
      "\n",
      "overall precision:  0.11068662880743417\n",
      "overall recall:  0.286\n",
      "top_200_precision:  0.135\n",
      "top_500_precision:  0.108\n",
      "top_1000_precision:  0.117\n",
      "top_2000_precision:  0.118\n",
      "top_3000_precision:  0.11466666666666667\n",
      "top_5000_precision:  0.115\n"
     ]
    }
   ],
   "source": [
    "from example_utility import load_Hulth2003_gs_terms\n",
    "    \n",
    "hulth2003_gs_terms = load_Hulth2003_gs_terms(hulth2003_corpus_directory)\n",
    "print(\"%s total normalised Inspec gs terms loaded \"%len(hulth2003_gs_terms))\n",
    "\n",
    "evaluate_results(hulth2003_keywords_spacy, hulth2003_gs_terms, \"TextRank+Inspec\")"
   ]
  },
  {
   "cell_type": "markdown",
   "metadata": {},
   "source": [
    "# Evaluate KEA with [SemEval 2017 Task 10 testset](https://scienceie.github.io/task.html) (Subtask(A))"
   ]
  },
  {
   "cell_type": "markdown",
   "metadata": {},
   "source": [
    "See competition Subtask(A) results presented in (Augenstein et al., 2017)\n",
    "\n",
    "Augenstein, I., Das, M., Riedel, S., Vikraman, L., & McCallum, A. (2017). Semeval 2017 task 10: Scienceie-extracting keyphrases and relations from scientific publications. arXiv preprint [arXiv:1704.02853](https://arxiv.org/pdf/1704.02853.pdf)."
   ]
  },
  {
   "cell_type": "code",
   "execution_count": 6,
   "metadata": {},
   "outputs": [],
   "source": [
    "from jgtextrank import keywords_extraction_from_tagged_corpus\n",
    "from example_utility import load_scienceie_test_dataset,pre_processing_corpus_with_spacy"
   ]
  },
  {
   "cell_type": "code",
   "execution_count": 7,
   "metadata": {},
   "outputs": [
    {
     "name": "stdout",
     "output_type": "stream",
     "text": [
      "initially loaded gs terms size:  2052\n",
      "normalised gs terms loaded.\n"
     ]
    }
   ],
   "source": [
    "semeval_testset_gs_terms = load_scienceie_test_dataset(\"semeval_articles_test\", file_suffix=\".ann\")"
   ]
  },
  {
   "cell_type": "code",
   "execution_count": 8,
   "metadata": {},
   "outputs": [
    {
     "name": "stdout",
     "output_type": "stream",
     "text": [
      "term extraction from spaCy pre-processed Semeval 2017 testset [/semeval_articles_test] ...\n",
      "2018-08-21 12:36:15,626 [MainThread  ] - textrank - INFO - computing vertices representations...\n",
      "2018-08-21 12:36:18,593 [MainThread  ] - textrank - INFO - total size of vertices: 2682\n",
      "2018-08-21 12:36:19,307 [MainThread  ] - textrank - DEBUG - top T(t=2682) vertices: [('model', 0.007207575350863577), ('surface', 0.004618955073473277), ('datum', 0.004592768903741177), ('method', 0.0045892321381295524), ('high', 0.004412607792524416), ('system', 0.004321709473254827), ('al', 0.004015304235229525), ('base', 0.0038751940287239783), ('time', 0.0038633563843391014), ('result', 0.0030883670257871986)] ...\n",
      "2018-08-21 12:36:19,310 [MainThread  ] - textrank - INFO - collapse adjacent keywords ...\n",
      "2018-08-21 12:36:19,989 [MainThread  ] - textrank - INFO - done.\n",
      "2018-08-21 12:36:19,993 [MainThread  ] - textrank - INFO - MWTs weighing ...\n",
      "2018-08-21 12:36:20,284 [MainThread  ] - textrank - INFO - done.\n",
      "2018-08-21 12:36:20,290 [MainThread  ] - textrank - INFO - exporting sorted keywords into [textrank_semeval2017.json]\n",
      "2018-08-21 12:36:20,316 [MainThread  ] - textrank - INFO - complete result export.\n",
      "\n",
      "\n",
      "Complete. Wall-clock elapsed time:  15.598017930984497 s\n",
      "\n",
      "\n",
      "top 50 keywords:  [('model', 0.00721), ('surface', 0.00462), ('datum', 0.00459), ('method', 0.00459), ('high', 0.00441), ('system', 0.00432), ('al', 0.00402), ('base', 0.00388), ('time', 0.00386), ('3d model', 0.0036), ('vessel model', 0.0036), ('model prediction', 0.0036), ('intuitive model', 0.0036), ('3dwf model', 0.0036), ('model 9392a', 0.0036), ('fitting model', 0.0036), ('standard model', 0.0036), ('string model', 0.0036), ('bag model', 0.0036), ('multispecie model', 0.0036), ('detection model', 0.0036), ('composite model', 0.0036), ('model parameter', 0.0036), ('model group', 0.0036), ('model evaluation', 0.0036), ('model output', 0.0036), ('watflood model', 0.0036), ('modflow model', 0.0036), ('jflow model', 0.0036), ('mobility model', 0.0036), ('field model', 0.0036), ('liley model', 0.0036), ('pde model', 0.0036), ('interaction model', 0.0036), ('model outperform', 0.0036), ('result', 0.00309), ('state', 0.00307), ('particle', 0.00297), ('solution', 0.00297), ('process', 0.0029), ('energy', 0.00288), ('due', 0.00286), ('increase', 0.00284), ('material', 0.0028), ('measure', 0.00253), ('application', 0.00249), ('function', 0.00246), ('number', 0.00245), ('model mies spectra', 0.0024), ('digital elevation model', 0.0024)]\n",
      "\n",
      "\n",
      "top 100 vertices:  [('model', 0.007207575350863577), ('surface', 0.004618955073473277), ('datum', 0.004592768903741177), ('method', 0.0045892321381295524), ('high', 0.004412607792524416), ('system', 0.004321709473254827), ('al', 0.004015304235229525), ('base', 0.0038751940287239783), ('time', 0.0038633563843391014), ('result', 0.0030883670257871986), ('state', 0.0030731595838189075), ('solution', 0.0029726790118755815), ('particle', 0.002966846980717539), ('process', 0.0029038827172836257), ('energy', 0.0028822796969502685), ('due', 0.002861414027277666), ('increase', 0.0028443328004675167), ('material', 0.00279872682944194), ('measure', 0.0025264718463404003), ('application', 0.002489113148726407), ('function', 0.002457106882995072), ('number', 0.002446323113134789), ('present', 0.0023792200524800225), ('phase', 0.0023708581452583297), ('analysis', 0.0023425239277400168), ('order', 0.0022746001244203667), ('structure', 0.0022551029054038935), ('low', 0.0022263984320060296), ('wave', 0.002225280126736386), ('simulation', 0.002222800327462361), ('large', 0.0022213386168530255), ('study', 0.0021699698501265983), ('effect', 0.0021411558364387725), ('small', 0.0021249368094925537), ('property', 0.0021110060819457405), ('test', 0.0020993993353122936), ('element', 0.0020974879107980796), ('electron', 0.0020690009002171167), ('type', 0.0020565494150227566), ('mass', 0.0020225010222682366), ('parameter', 0.00197144385590694), ('range', 0.0019343009124243398), ('scheme', 0.001860546865140826), ('potential', 0.0018591421862521143), ('set', 0.001848299960972436), ('alloy', 0.001819258737443476), ('area', 0.0016976050299759213), ('polymer', 0.0016773741087870674), ('sample', 0.001672758996924716), ('multiple', 0.0016657981671950894), ('resolution', 0.0016313105630001317), ('point', 0.0016248246299415123), ('efficiency', 0.0016118033343837706), ('technique', 0.001590959570115171), ('temperature', 0.001582441383284408), ('problem', 0.0015814669199023064), ('mode', 0.001560409921706192), ('mesh', 0.0015587513396614788), ('flow', 0.0015534172328943157), ('region', 0.001547969384430475), ('group', 0.0015375589208268881), ('size', 0.001510754817775815), ('form', 0.001501892768447419), ('case', 0.0014960616716029954), ('water', 0.001490739051682911), ('decrease', 0.0014568543137730664), ('approach', 0.0014481302830920738), ('reaction', 0.0014450432376995922), ('control', 0.0014449355993630564), ('source', 0.0014408400906054095), ('cell', 0.0014334229142719734), ('level', 0.0014271118327591824), ('stress', 0.0014127938058384225), ('field', 0.0014035671624029829), ('change', 0.0013880664482395907), ('performance', 0.0013807037580478945), ('feature', 0.0013719953628361574), ('interaction', 0.0013583741225763571), ('linear', 0.0013552833402128135), ('good', 0.0013396339330225492), ('constant', 0.0013324811199017321), ('local', 0.0013242792776539927), ('similar', 0.0013241429733860223), ('term', 0.0013091021551859276), ('density', 0.0013008267284880207), ('space', 0.0012892725359639002), ('formation', 0.001286460612863073), ('rate', 0.001280154159781815), ('chain', 0.0012736570196986575), ('composite', 0.0012243754275646564), ('frequency', 0.0012086969048561301), ('dynamic', 0.0012017012768357003), ('fig', 0.001198672965711032), ('work', 0.0011839967886331383), ('network', 0.0011754711766296926), ('geometry', 0.001173306841980233), ('limit', 0.0011556499869598085), ('version', 0.0011397040427128604), ('error', 0.0011361218962910077), ('reach', 0.0011320552316115506)]\n"
     ]
    }
   ],
   "source": [
    "semeval2017_pre_processed_corpus = pre_processing_corpus_with_spacy(\"semeval_articles_test\", default_file_suffix=\".txt\")\n",
    "print(\"term extraction from spaCy pre-processed Semeval 2017 testset [%s] ...\" % \"/semeval_articles_test\")\n",
    "start = time.time()\n",
    "semeval2017_keywords, semeval2017_top_vertices = keywords_extraction_from_tagged_corpus(semeval2017_pre_processed_corpus, window=3,\n",
    "                                                                                                          top_p = 1, stop_words=stop_list,\n",
    "                                                                                                          weight_comb=\"norm_max\",\n",
    "                                                                                                          export=True, export_format=\"json\",\n",
    "                                                                                                          export_path=\"textrank_semeval2017.json\",\n",
    "                                                                                                          workers=multiprocessing.cpu_count())\n",
    "end = time.time()\n",
    "\n",
    "print(\"\\n\")\n",
    "print(\"Complete. Wall-clock elapsed time: \", end - start, \"s\")\n",
    "print(\"\\n\")\n",
    "print(\"top 50 keywords: \", semeval2017_keywords[:50])\n",
    "print(\"\\n\")\n",
    "print(\"top 100 vertices: \", semeval2017_top_vertices[:100])"
   ]
  },
  {
   "cell_type": "code",
   "execution_count": 9,
   "metadata": {},
   "outputs": [
    {
     "name": "stdout",
     "output_type": "stream",
     "text": [
      "\n",
      "Evaluation Result of pagerank on Semeval 2017 testset: \n",
      "\n",
      "\n",
      "overall precision:  0.19011846287200232\n",
      "overall recall:  0.402\n",
      "overall F1 score:  0.258149768557601\n",
      "top_200_precision:  0.19\n",
      "top_500_precision:  0.162\n",
      "top_1000_precision:  0.156\n",
      "top_2000_precision:  0.1765\n",
      "top_3000_precision:  0.187729243081027\n",
      "top_5000_precision:  0.19011846287200232\n"
     ]
    }
   ],
   "source": [
    "evaluate_results(semeval2017_keywords, semeval_testset_gs_terms, \"pagerank on Semeval 2017 testset\")"
   ]
  },
  {
   "cell_type": "markdown",
   "metadata": {},
   "source": [
    "## weight  MWTs with 'log_max_norm' :"
   ]
  },
  {
   "cell_type": "code",
   "execution_count": 10,
   "metadata": {},
   "outputs": [
    {
     "name": "stdout",
     "output_type": "stream",
     "text": [
      "\n",
      "\n",
      "start term extraction with 'log_norm_max' (mu=3) for MWT terms ...\n",
      "2018-08-13 10:15:00,146 [MainThread  ] - textrank - INFO - computing vertices representations...\n",
      "2018-08-13 10:17:02,228 [MainThread  ] - textrank - INFO - total size of vertices: 16121\n",
      "2018-08-13 10:17:06,768 [MainThread  ] - textrank - DEBUG - top T(t=16121) vertices: [('cell', 0.02394811040346397), ('protein', 0.01221977599400581), ('gene', 0.01003047832341601), ('expression', 0.0072862302133828005), ('human', 0.00652440840112107), ('factor', 0.00612207339814623), ('activity', 0.005721538282275168), ('site', 0.005637743567407804), ('activation', 0.005599643960173466), ('receptor', 0.005050309207558882)] ...\n",
      "2018-08-13 10:17:06,797 [MainThread  ] - textrank - INFO - collapse adjacent keywords ...\n",
      "2018-08-13 10:20:41,535 [MainThread  ] - textrank - INFO - exporting sorted keywords into [textrank_genia.json]\n",
      "2018-08-13 10:20:41,719 [MainThread  ] - textrank - INFO - complete result export.\n",
      "\n",
      "\n",
      "Complete. Wall-clock elapsed time:  424.85352396965027 s\n",
      "\n",
      "\n",
      "top 30 keywords:  [('skw6.4 cell', 0.03796), ('cell co-transfected', 0.03796), ('balb/c3t3 cell', 0.03796), ('cell localization', 0.03796), ('hcd57-srei cell', 0.03796), ('tumour cell', 0.03796), ('cemx174 cell', 0.03796), ('hl60 cell', 0.03796), ('nih-3t3 cell', 0.03796), ('lps-treated cell', 0.03796), ('cell enhance', 0.03796), ('ht-2 cell', 0.03796), ('unresponsive cell', 0.03796), ('stem cell', 0.03796), ('cd4 cell', 0.03796), ('rest cell', 0.03796), ('1a9-m cell', 0.03796), ('u-937 cell', 0.03796), ('cell control', 0.03796), ('calcineurin-stimulated cell', 0.03796), ('hl-60/vinc cell', 0.03796), ('interfollicular cell', 0.03796), ('s107 cell', 0.03796), ('transformed cell', 0.03796), ('foreign cell', 0.03796), ('cell cytotoxicity', 0.03796), ('cell pigmentation', 0.03796), ('cell viability', 0.03796), ('promyelocytic cell', 0.03796), ('cd40 cell', 0.03796)]\n",
      "\n",
      "Evaluation Result of GENIA+pagerank+'log_norm_max' (mu=3): \n",
      "\n",
      "\n",
      "overall precision:  0.4158378525513516\n",
      "overall recall:  0.653\n",
      "top_200_precision:  0.6868686868686869\n",
      "top_500_precision:  0.6693548387096774\n",
      "top_1000_precision:  0.626008064516129\n",
      "top_2000_precision:  0.5747357825868143\n",
      "top_3000_precision:  0.5546979865771812\n",
      "top_5000_precision:  0.537749144352728\n"
     ]
    }
   ],
   "source": [
    "print(\"\\n\")\n",
    "print(\"start term extraction with 'log_norm_max' (mu=3) for MWT terms ...\")\n",
    "start = time.time()\n",
    "\n",
    "# \"T is set to a third of the number of vertices in the graph\"\n",
    "# 'workers' is set to use all the available cpu cores\n",
    "keywords_log_norm, top_t_vertices_log_norm = keywords_extraction_from_corpus_directory(corpus_directory,\n",
    "                                                         top_p=1, stop_words=stop_list,\n",
    "                                                         lemma=True, weight_comb=\"log_norm_max\", mu=3,\n",
    "                                                         export=True, export_format=\"json\",\n",
    "                                                         export_path=\"textrank_genia.json\",\n",
    "                                                         workers=multiprocessing.cpu_count())\n",
    "\n",
    "end = time.time()\n",
    "\n",
    "print(\"\\n\")\n",
    "print(\"Complete. Wall-clock elapsed time: \", end - start, \"s\")\n",
    "print(\"\\n\")\n",
    "print(\"top 30 keywords: \", keywords_log_norm[:30])\n",
    "# print(\"\\n\")\n",
    "# print(\"top 100 vertices: \", top_t_vertices[:100])\n",
    "\n",
    "evaluate_results(keywords_log_norm, gs_terms, \"GENIA+pagerank+'log_norm_max' (mu=3)\")"
   ]
  },
  {
   "cell_type": "markdown",
   "metadata": {},
   "source": [
    "## weight  MWTs with \"gaussian_norm_max\""
   ]
  },
  {
   "cell_type": "code",
   "execution_count": 11,
   "metadata": {},
   "outputs": [
    {
     "name": "stdout",
     "output_type": "stream",
     "text": [
      "\n",
      "\n",
      "start term extraction with 'gaussian_norm_max' (mu=5) for MWT terms ...\n",
      "2018-08-13 10:22:48,225 [MainThread  ] - textrank - INFO - computing vertices representations...\n",
      "2018-08-13 10:24:42,119 [MainThread  ] - textrank - INFO - total size of vertices: 16121\n",
      "2018-08-13 10:24:45,784 [MainThread  ] - textrank - DEBUG - top T(t=16121) vertices: [('cell', 0.02394811040346397), ('protein', 0.01221977599400581), ('gene', 0.01003047832341601), ('expression', 0.0072862302133828005), ('human', 0.00652440840112107), ('factor', 0.00612207339814623), ('activity', 0.005721538282275168), ('site', 0.005637743567407804), ('activation', 0.005599643960173466), ('receptor', 0.005050309207558882)] ...\n",
      "2018-08-13 10:24:45,821 [MainThread  ] - textrank - INFO - collapse adjacent keywords ...\n",
      "2018-08-13 10:28:24,371 [MainThread  ] - textrank - INFO - exporting sorted keywords into [textrank_genia.json]\n",
      "2018-08-13 10:28:24,510 [MainThread  ] - textrank - INFO - complete result export.\n",
      "\n",
      "\n",
      "Complete. Wall-clock elapsed time:  380.80144357681274 s\n",
      "\n",
      "\n",
      "top 30 keywords:  [('olfactory neuronal cell reveal virtual complete amino acid sequence identity', 0.02395), ('normal mouse bone marrow generate hematopoietic growth factor-dependent cell line', 0.02395), ('proteasome inhibitor mg-132 block tnf -and lps-stimulated u-937 cell adhesion', 0.02395), ('class ii transactivator-independent endothelial cell mhc class ii gene activation induce', 0.02395), ('multipotent eml cell harbor substantial nuclear hormone receptor coactivator activity', 0.02395), ('bone marrow-derived mip-1 alpha/gos19 inhibits primitive hematopoietic stem cell', 0.02393), ('transfected human colonic carcinoma cell line ht29 activate transcription', 0.02393), ('pparalpha activator inhibit cytokine-induced vascular cell adhesion molecule-1 expression', 0.02393), ('class ii major histocompatibility complex mutant cell line clone-13', 0.02393), ('janus kinase-1-deficient cell line u4a express hla-dr alpha mrna', 0.02393), ('cell', 0.02393), ('skw6.4 cell', 0.02368), ('cell co-transfected', 0.02368), ('balb/c3t3 cell', 0.02368), ('cell localization', 0.02368), ('hcd57-srei cell', 0.02368), ('tumour cell', 0.02368), ('cemx174 cell', 0.02368), ('hl60 cell', 0.02368), ('nih-3t3 cell', 0.02368), ('lps-treated cell', 0.02368), ('cell enhance', 0.02368), ('ht-2 cell', 0.02368), ('unresponsive cell', 0.02368), ('stem cell', 0.02368), ('cd4 cell', 0.02368), ('rest cell', 0.02368), ('1a9-m cell', 0.02368), ('u-937 cell', 0.02368), ('cell control', 0.02368)]\n",
      "\n",
      "Evaluation Result of GENIA+pagerank+'gaussian_norm_max' (mu=5): \n",
      "\n",
      "\n",
      "overall precision:  0.4158378525513516\n",
      "overall recall:  0.653\n",
      "top_200_precision:  0.6616161616161617\n",
      "top_500_precision:  0.647887323943662\n",
      "top_1000_precision:  0.6139112903225806\n",
      "top_2000_precision:  0.5546049320583795\n",
      "top_3000_precision:  0.4954743546765002\n",
      "top_5000_precision:  0.5109768378650554\n"
     ]
    }
   ],
   "source": [
    "print(\"\\n\")\n",
    "print(\"start term extraction with 'gaussian_norm_max' (mu=5) for MWT terms ...\")\n",
    "start = time.time()\n",
    "\n",
    "# \"T is set to a third of the number of vertices in the graph\"\n",
    "# 'workers' is set to use all the available cpu cores\n",
    "keywords_log_norm, top_t_vertices_log_norm = keywords_extraction_from_corpus_directory(corpus_directory,\n",
    "                                                         top_p=1, stop_words=stop_list,\n",
    "                                                         lemma=True, weight_comb=\"gaussian_norm_max\", mu=5,\n",
    "                                                         export=True, export_format=\"json\",\n",
    "                                                         export_path=\"textrank_genia.json\",\n",
    "                                                         workers=multiprocessing.cpu_count())\n",
    "\n",
    "end = time.time()\n",
    "\n",
    "print(\"\\n\")\n",
    "print(\"Complete. Wall-clock elapsed time: \", end - start, \"s\")\n",
    "print(\"\\n\")\n",
    "print(\"top 30 keywords: \", keywords_log_norm[:30])\n",
    "# print(\"\\n\")\n",
    "# print(\"top 100 vertices: \", top_t_vertices[:100])\n",
    "\n",
    "evaluate_results(keywords_log_norm, gs_terms, \"GENIA+pagerank+'gaussian_norm_max' (mu=5)\")"
   ]
  },
  {
   "cell_type": "markdown",
   "metadata": {},
   "source": [
    "# Term extraction from pre-tagged corpus\n",
    "\n",
    "Following example shows how to pre-process the corpus with [spaCy](https://spacy.io/).\n",
    "\n",
    "To run the following demo, you need to :\n",
    "\n",
    "    1) install spaCy ('pip install spacy');\n",
    "    \n",
    "    2) download the corresponding language model (e.g., 'python -m spacy download en');"
   ]
  },
  {
   "cell_type": "code",
   "execution_count": 4,
   "metadata": {},
   "outputs": [],
   "source": [
    "from jgtextrank import keywords_extraction_from_tagged_corpus\n",
    "from example_utility import pre_processing_corpus_with_spacy"
   ]
  },
  {
   "cell_type": "code",
   "execution_count": 12,
   "metadata": {},
   "outputs": [
    {
     "name": "stdout",
     "output_type": "stream",
     "text": [
      "term extraction from spaCy pre-processed corpus [GENIAcorpus302\\text\\files] ...\n",
      "2018-08-13 10:34:03,817 [MainThread  ] - textrank - INFO - computing vertices representations...\n",
      "2018-08-13 10:35:35,839 [MainThread  ] - textrank - INFO - total size of vertices: 11302\n",
      "2018-08-13 10:35:40,873 [MainThread  ] - textrank - DEBUG - top T(t=11302) vertices: [('cell', 0.011765527895880404), ('protein', 0.00607315878955655), ('gene', 0.005524051598259978), ('expression', 0.0054047030523445795), ('human', 0.0051840333809123175), ('induce', 0.004941490302755386), ('show', 0.0039055513706425585), ('bind', 0.0038970284444386034), ('activation', 0.003893881799040415), ('activity', 0.0038252712325945568)] ...\n",
      "2018-08-13 10:35:40,903 [MainThread  ] - textrank - INFO - collapse adjacent keywords ...\n",
      "2018-08-13 10:38:17,788 [MainThread  ] - textrank - INFO - exporting sorted keywords into [textrank_genia_spacy.json]\n",
      "2018-08-13 10:38:18,159 [MainThread  ] - textrank - INFO - complete result export.\n",
      "\n",
      "\n",
      "Complete. Wall-clock elapsed time:  539.3093175888062 s\n",
      "\n",
      "\n",
      "top 50 keywords:  [('cell', 0.01177), ('protein', 0.00607), ('skw6.4 cell', 0.00588), ('ces-2 cell', 0.00588), ('cell localization', 0.00588), ('hcd57-srei cell', 0.00588), ('tumour cell', 0.00588), ('cemx174 cell', 0.00588), ('hl60 cell', 0.00588), ('nih-3t3 cell', 0.00588), ('l&h cell', 0.00588), ('nfs-60 cell', 0.00588), ('cell enhance', 0.00588), ('mat cell', 0.00588), ('lmp-1)-positive cell', 0.00588), ('h2 cell', 0.00588), ('unresponsive cell', 0.00588), ('st cell', 0.00588), ('stem cell', 0.00588), ('cd4 cell', 0.00588), ('rest cell', 0.00588), ('u-937 cell', 0.00588), ('cell control', 0.00588), ('transform cell', 0.00588), ('hl-60/vinc cell', 0.00588), ('interfollicular cell', 0.00588), ('s107 cell', 0.00588), ('cell consist', 0.00588), ('foreign cell', 0.00588), ('killer cell', 0.00588), ('cell overcome', 0.00588), ('cell cytotoxicity', 0.00588), ('cell pigmentation', 0.00588), ('cell viability', 0.00588), ('promyelocytic cell', 0.00588), ('cd40 cell', 0.00588), ('akata cell', 0.00588), ('cell costimulation', 0.00588), ('apoptosisprone cell', 0.00588), ('hepatoma cell', 0.00588), ('lps)-dependent cell', 0.00588), ('dnd39 cell', 0.00588), ('uncultured cell', 0.00588), ('nonthymocyte cell', 0.00588), ('cell increase', 0.00588), ('s194 cell', 0.00588), ('cell responsive', 0.00588), ('cell octamer', 0.00588), ('immunoreactive cell', 0.00588), ('langerhans cell', 0.00588)]\n",
      "\n",
      "\n",
      "top 100 vertices:  [('cell', 0.011765527895880404), ('protein', 0.00607315878955655), ('gene', 0.005524051598259978), ('expression', 0.0054047030523445795), ('human', 0.0051840333809123175), ('induce', 0.004941490302755386), ('show', 0.0039055513706425585), ('bind', 0.0038970284444386034), ('activation', 0.003893881799040415), ('activity', 0.0038252712325945568), ('factor', 0.003769677240387515), ('receptor', 0.003634868318289955), ('increase', 0.0034094770032147034), ('transcription', 0.0033700685205928322), ('activate', 0.0031033061303944137), ('site', 0.0030630166834157606), ('promoter', 0.0030524786680478583), ('effect', 0.0029760664182983164), ('inhibit', 0.002897753101620564), ('patient', 0.0027611678178678296), ('nf', 0.0026968635059289687), ('specific', 0.0026720915247601543), ('express', 0.0026601638654790267), ('line', 0.002640409188775724), ('level', 0.0025305885324620487), ('response', 0.0025288081537937477), ('mediate', 0.0024225398294499953), ('alpha', 0.002422154036988223), ('dna', 0.0024179458531225855), ('sequence', 0.0023666073850288007), ('result', 0.002317251648734329), ('demonstrate', 0.0021799478636862204), ('region', 0.0021365890080303454), ('element', 0.0021123527324762837), ('complex', 0.002108765387171168), ('associate', 0.0020872799457680533), ('lymphocyte', 0.0020843208753689004), ('nuclear', 0.002055980299637692), ('induction', 0.0020227626991989613), ('study', 0.0019580139573811602), ('mrna', 0.0019353611389662658), ('regulate', 0.0018244838390351135), ('analysis', 0.0018121619793748614), ('normal', 0.0018016223342400238), ('function', 0.001799463934592666), ('type', 0.0017951272347202728), ('control', 0.001782172465968897), ('role', 0.0017806586661955638), ('stimulate', 0.0017514105548350318), ('domain', 0.0017424264435181246), ('signal', 0.001724866281986087), ('reveal', 0.001662870224102561), ('treatment', 0.00159880181405879), ('pathway', 0.0015818232455240167), ('monocyte', 0.0015749047758031368), ('stimulation', 0.001530270899921168), ('mouse', 0.001529689559081055), ('block', 0.0015062455781254525), ('cytokine', 0.0015004716779877642), ('dependent', 0.0014884825147380347), ('decrease', 0.0014813059376321681), ('binding', 0.001479995582147893), ('kinase', 0.0014746844776797362), ('inhibitor', 0.0014713518837351615), ('assay', 0.0014604155565592488), ('enhance', 0.0014572693642423075), ('lead', 0.0014471943505494837), ('mechanism', 0.0014442498812670848), ('differentiation', 0.0014348685669648585), ('acid', 0.0014307779978663194), ('regulation', 0.0014071964515997898), ('beta', 0.0014070603949876137), ('form', 0.0014009368127544176), ('virus', 0.0013972158885802216), ('transcriptional', 0.0013820459854175266), ('kappa', 0.0013800433948965324), ('follow', 0.0013748394758933853), ('cellular', 0.0013665899768205056), ('high', 0.0013635940398206404), ('il-2', 0.001356071383728046), ('tumor', 0.0013306364006095178), ('production', 0.0013280840354099415), ('glucocorticoid', 0.0012969104350061442), ('antibody', 0.0012948299772810497), ('inhibition', 0.00129163395575179), ('antigen', 0.0012863502893726874), ('motif', 0.0012818699370007937), ('phosphorylation', 0.0012765075030511921), ('enhancer', 0.0012714046167319859), ('mutant', 0.001233741331666949), ('peptide', 0.0012209241747646372), ('interaction', 0.0012043687893587179), ('determine', 0.0011865947690388855), ('target', 0.001181596248468441), ('early', 0.0011659677100111846), ('clone', 0.001157737451045552), ('reduce', 0.0011544870714795584), ('encode', 0.0011486458657723002), ('disease', 0.001133841947072843), ('low', 0.0011196767555946715)]\n"
     ]
    }
   ],
   "source": [
    "corpus_directory = os.path.join('GENIAcorpus302', 'text', 'files')\n",
    "# pre-processing raw corpus with spaCy library\n",
    "pre_processed_corpus = pre_processing_corpus_with_spacy(corpus_directory, encoding=\"utf-8\", lemma=True)\n",
    "\n",
    "print(\"term extraction from spaCy pre-processed corpus [%s] ...\" % corpus_directory)\n",
    "\n",
    "# PoS tagging can be erroneous with domain-specific corpus. Custom stop list can be applied to improve precision\n",
    "# stop_list = stop_list + [\"regulate\", \"show\", \"activate\", \"express\", \"increase\", \"increased\", \"target\", \"demonstrate\", \"mimic\", \"exert\", \"acute\"]\n",
    "\n",
    "start = time.time()\n",
    "\n",
    "\n",
    "keywords_spacy, top_t_vertices_spacy = keywords_extraction_from_tagged_corpus(pre_processed_corpus, window=2,\n",
    "                                                                  top_p = 1, stop_words=stop_list,\n",
    "                                                                  weight_comb=\"norm_max\",\n",
    "                                                                  export=True, export_format=\"json\",\n",
    "                                                                  export_path=\"textrank_genia_spacy.json\",\n",
    "                                                                  workers=multiprocessing.cpu_count())\n",
    "\n",
    "end = time.time()\n",
    "\n",
    "print(\"\\n\")\n",
    "print(\"Complete. Wall-clock elapsed time: \", end - start, \"s\")\n",
    "print(\"\\n\")\n",
    "print(\"top 50 keywords: \", keywords_spacy[:50])\n",
    "print(\"\\n\")\n",
    "print(\"top 100 vertices: \", top_t_vertices_spacy[:100])\n"
   ]
  },
  {
   "cell_type": "markdown",
   "metadata": {},
   "source": [
    "Evaluation of the result with reference set:"
   ]
  },
  {
   "cell_type": "code",
   "execution_count": 13,
   "metadata": {},
   "outputs": [
    {
     "name": "stdout",
     "output_type": "stream",
     "text": [
      "\n",
      "Evaluation Result of GENIA+pagerank+ spaCy pre-processed dataset: \n",
      "\n",
      "\n",
      "overall precision:  0.34395678911310124\n",
      "overall recall:  0.484\n",
      "top_200_precision:  0.585\n",
      "top_500_precision:  0.5551102204408818\n",
      "top_1000_precision:  0.5\n",
      "top_2000_precision:  0.45841683366733466\n",
      "top_3000_precision:  0.44837955228867354\n",
      "top_5000_precision:  0.3997192137986362\n"
     ]
    }
   ],
   "source": [
    "evaluate_results(keywords_spacy, gs_terms, \"GENIA+pagerank+ spaCy pre-processed dataset\")"
   ]
  },
  {
   "cell_type": "code",
   "execution_count": null,
   "metadata": {},
   "outputs": [],
   "source": []
  }
 ],
 "metadata": {
  "kernelspec": {
   "display_name": "Python 3",
   "language": "python",
   "name": "python3"
  },
  "language_info": {
   "codemirror_mode": {
    "name": "ipython",
    "version": 3
   },
   "file_extension": ".py",
   "mimetype": "text/x-python",
   "name": "python",
   "nbconvert_exporter": "python",
   "pygments_lexer": "ipython3",
   "version": "3.6.2"
  }
 },
 "nbformat": 4,
 "nbformat_minor": 2
}
