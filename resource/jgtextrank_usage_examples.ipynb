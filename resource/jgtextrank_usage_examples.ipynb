{
 "cells": [
  {
   "cell_type": "code",
   "execution_count": 1,
   "metadata": {},
   "outputs": [],
   "source": [
    "import os\n",
    "\n",
    "import time\n",
    "import multiprocessing\n",
    "from nltk.corpus.reader.wordlist import WordListCorpusReader\n",
    "\n",
    "from jgtextrank import keywords_extraction, keywords_extraction_from_corpus_directory\n",
    "# load custom stop list\n",
    "# The SMART stop-word list built by Chris Buckley and Gerard Salton, \n",
    "#   which can be obtained from http://www.lextek.com/manuals/onix/stopwords2.html\n",
    "reader = WordListCorpusReader('../resource', 'smart-stop-list.txt')\n",
    "stop_list = reader.words()"
   ]
  },
  {
   "cell_type": "markdown",
   "metadata": {},
   "source": [
    "# Keywords extraction from text"
   ]
  },
  {
   "cell_type": "code",
   "execution_count": 3,
   "metadata": {},
   "outputs": [
    {
     "name": "stdout",
     "output_type": "stream",
     "text": [
      "Keywords: \n",
      "\n",
      "[('system', 0.09086), ('set', 0.07817), ('algorithm', 0.06389), ('minimal', 0.05848), ('type system', 0.04543), ('minimal set', 0.03909), ('linear constraint', 0.03808), ('corresponding algorithm', 0.03194), ('minimal supporting set', 0.02606), ('linear diophantine equation', 0.02539), ('nonstrict inequations', 0.02532), ('strict inequations', 0.02532)]\n",
      "\n",
      "Top T vertices: \n",
      "\n",
      "[('system', 0.0908645423181641), ('set', 0.07817233752963601), ('linear', 0.07616116083873783), ('algorithm', 0.06388902339459528), ('equation', 0.05958796210456059), ('minimal', 0.05847587142844929), ('inequations', 0.05063519065290718)]\n"
     ]
    }
   ],
   "source": [
    "example_abstract = \"Compatibility of systems of linear constraints over the set of natural numbers. \" \\\n",
    "                           \"Criteria of compatibility of a system of linear Diophantine equations, strict inequations, \" \\\n",
    "                           \"and nonstrict inequations are considered. Upper bounds for components of a minimal set of \" \\\n",
    "                           \"solutions and algorithms of construction of minimal generating sets of solutions for all \" \\\n",
    "                           \"types of systems are given. These criteria and the corresponding algorithms for \" \\\n",
    "                           \"constructing a minimal supporting set of solutions can be used in solving all the \" \\\n",
    "                           \"considered types systems and systems of mixed types.\"\n",
    "example_abstract_results, example_abstract_top_vertices = keywords_extraction(example_abstract, top_p = 0.3, lemma=True)\n",
    "print(\"Keywords: \\n\")\n",
    "print(example_abstract_results)        \n",
    "print(\"\\nTop T vertices: \\n\")\n",
    "print(example_abstract_top_vertices)"
   ]
  },
  {
   "cell_type": "code",
   "execution_count": 4,
   "metadata": {},
   "outputs": [
    {
     "name": "stdout",
     "output_type": "stream",
     "text": [
      "Keywords: \n",
      "\n",
      "[('ner', 0.06606), ('information extraction', 0.03402), ('unstructured text', 0.03402), ('entity recognition', 0.02478), ('question answering', 0.02331), ('several end-to-end tasks', 0.0228), ('conditional random fields', 0.0228), ('conll-2003 ner corpus', 0.02202)]\n",
      "\n",
      "Top T vertices: \n",
      "\n",
      "[('fields', 0.06838897289220543), ('several', 0.06838897289220541), ('unstructured', 0.06803744076574295), ('information', 0.06803744076574295), ('ner', 0.06606131438462488), ('recognition', 0.04955684571284008), ('question', 0.04662004662004661)]\n"
     ]
    }
   ],
   "source": [
    "example_text_2 = \"Information extraction is the process of extracting structured data from unstructured text, \" \\\n",
    "                     \"which is relevant for several end-to-end tasks, including question answering. \" \\\n",
    "                     \"This paper addresses the tasks of named entity recognition (NER), \" \\\n",
    "                     \"a subtask of information extraction, using conditional random fields (CRF). \" \\\n",
    "                     \"Our method is evaluated on the ConLL-2003 NER corpus.\"\n",
    "\n",
    "example_text_2_results, example_text_2_top_vertices = keywords_extraction(example_text_2, top_p = 0.3)\n",
    "print(\"Keywords: \\n\")\n",
    "print(example_text_2_results)        \n",
    "print(\"\\nTop T vertices: \\n\")\n",
    "print(example_text_2_top_vertices)"
   ]
  },
  {
   "cell_type": "markdown",
   "metadata": {},
   "source": [
    "# Custom context window size\n",
    "\n",
    "Co-occurrence graph is build with default context windows size 2. A different window size can be set."
   ]
  },
  {
   "cell_type": "code",
   "execution_count": 5,
   "metadata": {},
   "outputs": [
    {
     "name": "stdout",
     "output_type": "stream",
     "text": [
      "Keywords with context window size(=5) : [('set', 0.09375), ('system', 0.08144), ('minimal', 0.06128), ('algorithm', 0.05927), ('solution', 0.05823), ('minimal set', 0.04688), ('type system', 0.04072), ('linear constraint', 0.03249), ('minimal supporting set', 0.03125), ('corresponding algorithm', 0.02964), ('nonstrict inequations', 0.0259), ('strict inequations', 0.0259), ('linear diophantine equation', 0.02166)]\n"
     ]
    }
   ],
   "source": [
    "# set to a larger context window size\n",
    "example_results_with_custom_ctx_size, example_abstract_top_vertices = keywords_extraction(example_abstract, window=5, \n",
    "                                                                                          top_p = 0.3, lemma=True)\n",
    "print(\"Keywords with context window size(=5) :\", example_results_with_custom_ctx_size)"
   ]
  },
  {
   "cell_type": "markdown",
   "metadata": {},
   "source": [
    "# Custom syntactic filters"
   ]
  },
  {
   "cell_type": "code",
   "execution_count": 6,
   "metadata": {},
   "outputs": [
    {
     "name": "stdout",
     "output_type": "stream",
     "text": [
      "Keywords result with custom filters:  [('system', 0.08862), ('construction', 0.06491), ('algorithm', 0.06491), ('compatibility', 0.0512), ('type system', 0.04431), ('linear constraint', 0.04269), ('component', 0.03851), ('upper bound', 0.03649), ('solution', 0.03509), ('minimal', 0.03509), ('criterion', 0.02926), ('linear diophantine equation', 0.02846), ('nonstrict inequations', 0.0272), ('strict inequations', 0.0272), ('type', 0.02633), ('natural number', 0.025)]\n"
     ]
    }
   ],
   "source": [
    "# custom syntactic filters to include verbs\n",
    "custom_categories = {'NNS', 'NNP', 'NN', 'JJ', 'VBZ'}\n",
    "\n",
    "# custom stop words filters\n",
    "stop_words={'set', 'mixed', 'corresponding', 'supporting'}\n",
    "\n",
    "# extract keywords from all vertices connections\n",
    "results_with_custom_filters, example_top_vertices = keywords_extraction(example_abstract, top_p = 1, \n",
    "                                                                        syntactic_categories = custom_categories, \n",
    "                                                                        stop_words = stop_words,\n",
    "                                                                        lemma=True)\n",
    "print(\"Keywords result with custom filters: \", results_with_custom_filters)"
   ]
  },
  {
   "cell_type": "markdown",
   "metadata": {},
   "source": [
    "# Custom co-occurrence context\n",
    "\n",
    "'jgTextRank' build word co-occurrences from sentential context by default. Depending on specific corpus and hypothesis, the word co-occurrence context can also be within a paragraph, section, adjacent sentences, current document or any specific semantic frames from text.\n",
    "\n",
    "Co-occurrence context can be customised in 'jgTextRank'. Following simple example shows how to extract keywords from pre-segmented corpus context."
   ]
  },
  {
   "cell_type": "code",
   "execution_count": 7,
   "metadata": {},
   "outputs": [
    {
     "name": "stdout",
     "output_type": "stream",
     "text": [
      "keywords from custom corpus context: [('systems', 0.07966), ('minimal', 0.06362), ('set', 0.06357), ('algorithms', 0.05397), ('solutions', 0.04971), ('linear constraints', 0.04358), ('types systems', 0.03983), ('criteria', 0.03784), ('compatibility', 0.03606), ('construction', 0.03525), ('types', 0.03475), ('sets', 0.03404), ('minimal set', 0.03181), ('linear diophantine equations', 0.02905), ('corresponding algorithms', 0.02699), ('nonstrict inequations', 0.02315), ('strict inequations', 0.02315), ('system', 0.02125), ('minimal supporting set', 0.02121), ('natural numbers', 0.01892), ('mixed types', 0.01737), ('upper', 0.00644), ('components', 0.00644)]\n",
      "\n",
      "top vertices from custom corpus context:  [('linear', 0.08715654349301857), ('systems', 0.07965749153852082), ('minimal', 0.06361746451217092), ('set', 0.06357313390850973), ('equations', 0.05451470936987343), ('algorithms', 0.053971574452630705), ('solutions', 0.04970626750653032), ('inequations', 0.046297426414554324), ('strict', 0.041563306091809096), ('criteria', 0.03784301804701434), ('numbers', 0.03783141411638447), ('diophantine', 0.03670093798762041), ('compatibility', 0.03606252616484272), ('natural', 0.03602576612726549), ('construction', 0.03524856724088963), ('types', 0.03474694844056699), ('mixed', 0.03474694844056699), ('sets', 0.034039621231117784), ('supporting', 0.033465833324618006), ('nonstrict', 0.026116594870928694), ('corresponding', 0.021729916706399788), ('constraints', 0.021254226766740006), ('system', 0.021254226766740006), ('upper', 0.0064377682403433485), ('components', 0.0064377682403433485)]\n"
     ]
    }
   ],
   "source": [
    "from jgtextrank.core import keywords_extraction_from_segmented_corpus\n",
    "# the \"example context\" is segmented into a list of 3 separate context\n",
    "# see also 'keywords_extraction_from_tagged_corpus' for pre-segmented and pre-tagged corpus as input\n",
    "example_user_defined_context_corpus = [[\"Compatibility\", \"of\", \"systems\", \"of\", \"linear\", \"constraints\",\n",
    "                                             \"over\", \"the\", \"set\", \"of\", \"natural\", \"numbers\",\".\",\n",
    "                                             \"Criteria\", \"of\", \"compatibility\", \"of\", \"a\", \"system\", \"of\",\n",
    "                                             \"linear\", \"Diophantine\", \"equations\", \",\", \"strict\", \"inequations\", \",\",\n",
    "                                             \"and\", \"nonstrict\", \"inequations\", \"are\", \"considered\", \".\"],\n",
    "                                            [\"Upper\", \"bounds\", \"for\", \"components\", \"of\", \"a\", \"minimal\", \"set\",\n",
    "                                             \"of\", \"solutions\", \"and\",\"algorithms\",\"of\", \"construction\", \"of\",\n",
    "                                             \"minimal\", \"generating\", \"sets\", \"of\", \"solutions\", \"for\", \"all\",\n",
    "                                             \"types\", \"of\", \"systems\", \"are\", \"given\", \".\"],\n",
    "                                            [\"These\", \"criteria\", \"and\", \"the\", \"corresponding\", \"algorithms\",\n",
    "                                             \"for\", \"constructing\", \"a\", \"minimal\", \"supporting\", \"set\", \"of\",\n",
    "                                             \"solutions\", \"can\", \"be\", \"used\", \"in\", \"solving\", \"all\", \"the\",\n",
    "                                             \"considered\", \"types\", \"systems\", \"and\", \"systems\", \"of\", \"mixed\",\n",
    "                                             \"types\",\".\"]]\n",
    "results_with_custom_context, top_vertices = keywords_extraction_from_segmented_corpus(example_user_defined_context_corpus,\n",
    "                                                                                      top_p=1)\n",
    "print(\"keywords from custom corpus context:\", results_with_custom_context)\n",
    "print(\"\\ntop vertices from custom corpus context: \", top_vertices)"
   ]
  },
  {
   "cell_type": "markdown",
   "metadata": {},
   "source": [
    "# Visual Analytics of Co-occurrence Graph\n",
    "\n",
    "'jgTextRank' supports various different custom settings including syntactic filters, stopwords, top T vertices, context window size, building co-occurrence connections from either original context text or filtered context, pageRank solver, and so forth. It would be a good idea to gain insights from visual analysis of the corresponding co-occurrence graph with actual samples.\n",
    "\n",
    "Following code presents a simple example of how to visualise co-occurrence graph from your sample text."
   ]
  },
  {
   "cell_type": "code",
   "execution_count": 9,
   "metadata": {},
   "outputs": [
    {
     "data": {
      "image/png": "[encoded data removed]",
      "text/plain": [
       "<matplotlib.figure.Figure at 0x1299d3a8828>"
      ]
     },
     "metadata": {},
     "output_type": "display_data"
    }
   ],
   "source": [
    "from jgtextrank.core import preprocessing, build_cooccurrence_graph\n",
    "import networkx as nx\n",
    "import matplotlib.pyplot as plt\n",
    "\n",
    "preprocessed_context = preprocessing(example_abstract, syntactic_categories = custom_categories, \n",
    "                                     stop_words = stop_words, lemma=True)\n",
    "\n",
    "cooccurrence_graph, original_tokenised_context = build_cooccurrence_graph(preprocessed_context)\n",
    "pos = nx.spring_layout(cooccurrence_graph,k=0.20,iterations=20)\n",
    "nx.draw_networkx(cooccurrence_graph, pos=pos, arrows=True, with_labels=True)\n",
    "plt.suptitle('Co-occurrences with context window 2', fontsize=16)\n",
    "plt.show()"
   ]
  },
  {
   "cell_type": "code",
   "execution_count": 15,
   "metadata": {},
   "outputs": [
    {
     "data": {
      "image/png": "[encoded data removed]",
      "text/plain": [
       "<matplotlib.figure.Figure at 0x1299e371710>"
      ]
     },
     "metadata": {},
     "output_type": "display_data"
    }
   ],
   "source": [
    "# set to a larger context size\n",
    "preprocessed_context = preprocessing(example_abstract, syntactic_categories = custom_categories, \n",
    "                                     stop_words = stop_words, lemma=True)\n",
    "\n",
    "cooccurrence_graph, original_tokenised_context = build_cooccurrence_graph(preprocessed_context, window=3)\n",
    "pos = nx.spring_layout(cooccurrence_graph,k=0.20,iterations=20)\n",
    "nx.draw_networkx(cooccurrence_graph, pos=pos, arrows=True, with_labels=True)\n",
    "plt.suptitle('Co-occurrences with context window 3', fontsize=16)\n",
    "plt.show()"
   ]
  },
  {
   "cell_type": "markdown",
   "metadata": {},
   "source": [
    "# Algorithms for Vertex Ranking"
   ]
  },
  {
   "cell_type": "markdown",
   "metadata": {},
   "source": [
    "The vertex ranking is the key to identify patterns in graph based term extraction algorithms. The core of TextRank relies on pagerank algorithm to weight vertices in order to locate crucial nodes in a co-occurrence network. jgTextRank support 4 variations of pagerank implementation supported in networkx library and 14 additional graph ranking algorithms.\n",
    "\n",
    "PageRank implementations:\n",
    "\n",
    "* **'pagerank'**: networkx implementation of pagerank\n",
    "* **'pagerank_numpy'**: numpy implementation of pagerank\n",
    "* **'pagerank_scipy'**: scipy implementation of pagerank\n",
    "\n",
    "Additional graph ranking algorithms:\n",
    "\n",
    "* **'betweenness_centrality'**: compute the shortest-path betweenness centrality of a node\n",
    "* **'degree_centrality'**: Compute the degree centrality for nodes.\n",
    "* **'hits'**: compute HITS algorithm for a node. The avg. of Authority value and Hub value is computed\n",
    "* **'closeness_centrality'**: Compute closeness centrality for nodes.\n",
    "* **'edge_betweenness_centrality'**: Compute betweenness centrality for edges.  Maximum edge betweenness value in all the possible edge pairs is adopted for each vertex\n",
    "* **'eigenvector_centrality'**: Compute the eigenvector centrality for the cooocurrence graph.\n",
    "* **'katz_centrality'**: Compute the Katz centrality for the nodes based on the centrality of its neighbors.\n",
    "* **'communicability_betweenness'**: compute subgraph communicability for all pairs of nodes\n",
    "* **'current_flow_closeness'**: Compute current-flow closeness centrality for nodes.\n",
    "* **'current_flow_betweenness'**: Compute current-flow betweenness centrality for nodes.\n",
    "* **'edge_current_flow_betweenness'**: Compute current-flow betweenness centrality for edges.\n",
    "* **'load_centrality'**: Compute edge load. This is a experimental algorithm in nextworkx that counts the number of shortest paths which cross each edge.\n",
    "* **'clustering_coefficient'** : Compute the clustering coefficient for nodes. Only undirected graph is supported.\n",
    "* **'TeRGraph'**(Lossio-Ventura, 2014): compute the TeRGraph weights for nodes. The solver requires a connected graph and isolated nodes will be set to 0.\n",
    "* **'coreness'** (Batagelj & Zaversnik, 2003): measures how \"deep\" a node(e.g., word/phrase) is in the co-occurrence network. The \"deeper\" a word, the more it is important. The metric is not suitable for ranking terms directly, but it is proved as useful feature for keywords extraction\n",
    "* **'neighborhood_size'** computes the number of immediate neighbors to a node. This is a version of node degree that disregards self-loops\n",
    "\n",
    "**NOTE: ** Centrality measures (such as \"current flow betweeness\", \"current flow closeness\", \"communicability_betweenness\") does not support loosely connected graph and betweeness centrality measures cannot compute on single isolated nodes. It is recommended to re-consider the graph construction method for specific dataset or simply increase context window size in order to ensure a strongly connected graph.  jgTextrank adapt those centrality algorithms to run on loosely connected graph by iterating over connected subgraphs and remove isolated nodes. The weighted nodes in every separated subgraph will be combined.\n",
    "\n",
    "[Batagelj & Zaversnik, 2003] Batagelj, V., & Zaversnik, M. (2003). An O (m) algorithm for cores decomposition of networks. arXiv preprint cs/0310049. https://arxiv.org/abs/cs.DS/0310049\n",
    "\n",
    "[Lossio-Ventura, 2014] Lossio-Ventura, J. A., Jonquet, C., Roche, M., & Teisseire, M. (2014, September). Yet another ranking function for automatic multiword term extraction. In International Conference on Natural Language Processing (pp. 52-64). Springer, Cham."
   ]
  },
  {
   "cell_type": "code",
   "execution_count": 9,
   "metadata": {},
   "outputs": [
    {
     "name": "stdout",
     "output_type": "stream",
     "text": [
      "Keywords result by degree centrality metrics:  [('system', 0.26316), ('type system', 0.13158), ('compatibility', 0.10526), ('construction', 0.10526), ('algorithm', 0.10526), ('linear constraint', 0.10526), ('linear diophantine equation', 0.07018), ('solution', 0.05263), ('nonstrict inequations', 0.05263), ('type', 0.05263), ('strict inequations', 0.05263), ('minimal', 0.05263), ('criterion', 0.05263), ('upper bound', 0.05263), ('component', 0.05263), ('natural number', 0.02632)] \n",
      "\n",
      "weighted top nodes with degree centrality metrics:  [('system', 0.2631578947368421), ('linear', 0.21052631578947367), ('equation', 0.15789473684210525), ('compatibility', 0.10526315789473684), ('strict', 0.10526315789473684), ('inequations', 0.10526315789473684), ('diophantine', 0.10526315789473684), ('construction', 0.10526315789473684), ('bound', 0.10526315789473684), ('algorithm', 0.10526315789473684), ('solution', 0.05263157894736842), ('type', 0.05263157894736842), ('nonstrict', 0.05263157894736842), ('minimal', 0.05263157894736842), ('number', 0.05263157894736842), ('criterion', 0.05263157894736842), ('component', 0.05263157894736842), ('natural', 0.05263157894736842), ('constraint', 0.05263157894736842), ('upper', 0.05263157894736842)]\n"
     ]
    }
   ],
   "source": [
    "# extract keywords from all vertices connections with degree centrality\n",
    "degree_centrality_results, degree_cent_top_vertices = keywords_extraction(example_abstract, solver=\"degree_centrality\", \n",
    "                                                                           top_p = 1, syntactic_categories = custom_categories, \n",
    "                                                                           stop_words = stop_words, lemma=True)\n",
    "print(\"Keywords result by degree centrality metrics: \", degree_centrality_results, \"\\n\")\n",
    "print(\"weighted top nodes with degree centrality metrics: \", degree_cent_top_vertices)"
   ]
  },
  {
   "cell_type": "code",
   "execution_count": 10,
   "metadata": {},
   "outputs": [
    {
     "name": "stdout",
     "output_type": "stream",
     "text": [
      "Keywords result by HITS metrics:  [('system', 0.20172), ('type system', 0.10086), ('linear constraint', 0.09609), ('compatibility', 0.08497), ('type', 0.07364), ('linear diophantine equation', 0.06406), ('criterion', 0.03102), ('strict inequations', 0.02913), ('nonstrict inequations', 0.01227), ('solution', 0.0), ('construction', 0.0), ('minimal', 0.0), ('algorithm', 0.0), ('upper bound', 0.0), ('component', 0.0), ('natural number', 0.0)] \n",
      "\n",
      "weighted top nodes with HITS:  [('system', 0.20171681517919707), ('linear', 0.19218473113952586), ('equation', 0.1350545598197634), ('diophantine', 0.11947109662354513), ('compatibility', 0.08496992466651224), ('type', 0.07364435795011762), ('constraint', 0.07016431268129038), ('strict', 0.05826760692308271), ('criterion', 0.031021485371837215), ('inequations', 0.024544286177046182), ('nonstrict', 0.008960822980827943), ('construction', 1.499986972818801e-10), ('algorithm', 1.499986972818801e-10), ('solution', 9.270429318840837e-11), ('minimal', 9.270429318840837e-11), ('bound', 8.151635806249944e-13), ('component', 5.165880814334492e-13), ('upper', 5.165880814334492e-13), ('number', 7.774005705118126e-19), ('natural', 7.774005705118126e-19)]\n"
     ]
    }
   ],
   "source": [
    "# extract keywords from all vertices connections with hits (avg(authorities, hubs))\n",
    "hits_results, hits_top_vertices = keywords_extraction(example_abstract, solver=\"hits\", \n",
    "                                                                    top_p = 1, syntactic_categories = custom_categories, \n",
    "                                                                    stop_words = stop_words, lemma=True)\n",
    "print(\"Keywords result by HITS metrics: \", hits_results, \"\\n\")\n",
    "print(\"weighted top nodes with HITS: \", hits_top_vertices)"
   ]
  },
  {
   "cell_type": "code",
   "execution_count": 11,
   "metadata": {},
   "outputs": [
    {
     "name": "stdout",
     "output_type": "stream",
     "text": [
      "Keywords result by current flow closeness centrality metrics: \n",
      " [('system', 0.06071), ('solution', 0.05204), ('compatibility', 0.0509), ('criterion', 0.04802), ('algorithm', 0.04752), ('minimal', 0.04478), ('construction', 0.04196), ('type', 0.04112), ('component', 0.03141), ('type system', 0.03035), ('linear constraint', 0.02739), ('nonstrict inequations', 0.02341), ('strict inequations', 0.02341), ('linear diophantine equation', 0.01826), ('upper bound', 0.01571), ('natural number', 0.01373)] \n",
      "\n",
      "weighted top nodes with current flow closeness centrality metrics: \n",
      " [('system', 0.06070618944976487), ('linear', 0.05478998632197404), ('solution', 0.0520419627624407), ('compatibility', 0.050895509565516285), ('equation', 0.0497245623257808), ('diophantine', 0.0497245623257808), ('constraint', 0.048952397243890784), ('criterion', 0.04801904379988657), ('algorithm', 0.047521140912679526), ('strict', 0.04681384951304899), ('inequations', 0.04681384951304898), ('minimal', 0.04477807879127837), ('construction', 0.041959762466589924), ('type', 0.04112486892726791), ('nonstrict', 0.03484984369791439), ('bound', 0.03141457696655092), ('component', 0.03141457696655092), ('natural', 0.02745140439687474), ('upper', 0.02608762159042722), ('number', 0.01837289334439654)]\n"
     ]
    }
   ],
   "source": [
    "# extract keywords from all vertices connections with current flow closeness centrality metrics\n",
    "current_flow_closeness_results, current_flow_closeness_nodes = keywords_extraction(example_abstract, \n",
    "                                                                                   solver=\"current_flow_closeness\", \n",
    "                                                                                   top_p = 1, window = 5,\n",
    "                                                                                   syntactic_categories = custom_categories, \n",
    "                                                                                   stop_words = stop_words, lemma=True)\n",
    "print(\"Keywords result by current flow closeness centrality metrics: \\n\", current_flow_closeness_results, \"\\n\")\n",
    "print(\"weighted top nodes with current flow closeness centrality metrics: \\n\", current_flow_closeness_nodes)"
   ]
  },
  {
   "cell_type": "code",
   "execution_count": 12,
   "metadata": {},
   "outputs": [
    {
     "name": "stdout",
     "output_type": "stream",
     "text": [
      "Keywords result by current flow betweenness centrality metrics: \n",
      " [('system', 1.1482), ('type system', 0.5741), ('nonstrict inequations', 0.45079), ('strict inequations', 0.45079), ('solution', 0.34548), ('minimal', 0.32959), ('algorithm', 0.22803), ('criterion', 0.20253), ('compatibility', 0.18867), ('linear constraint', 0.14764), ('construction', 0.11175), ('type', 0.11095), ('linear diophantine equation', 0.09842), ('component', 0.08918), ('natural number', 0.05263), ('upper bound', 0.04459)] \n",
      "\n",
      "weighted top nodes with current flow betweenness centrality metrics: \n",
      " [('system', 1.1482033926718425), ('inequations', 0.9015890680266204), ('solution', 0.3454781231686186), ('minimal', 0.3295874429024481), ('linear', 0.2952731469358863), ('constraint', 0.26725603394888575), ('algorithm', 0.22802861216058434), ('criterion', 0.2025295410998478), ('compatibility', 0.18867165148914317), ('equation', 0.13407412949177844), ('diophantine', 0.13407412949177827), ('strict', 0.11365686188938359), ('construction', 0.11175118559250558), ('type', 0.11094624344166136), ('natural', 0.105263157894737), ('bound', 0.08918128654970822), ('component', 0.08918128654970822), ('upper', 0.026315789473683973), ('nonstrict', 0.017543859649122848), ('number', 4.15522067695965e-17)]\n"
     ]
    }
   ],
   "source": [
    "# extract keywords from all vertices connections with current flow betweenness centrality metrics\n",
    "current_flow_btw_results, current_flow_btw_nodes = keywords_extraction(example_abstract, solver=\"current_flow_betweenness\", \n",
    "                                                                       top_p = 1, window = 5, \n",
    "                                                                       syntactic_categories = custom_categories, \n",
    "                                                                       stop_words = stop_words, lemma=True)\n",
    "print(\"Keywords result by current flow betweenness centrality metrics: \\n\", current_flow_btw_results, \"\\n\")\n",
    "print(\"weighted top nodes with current flow betweenness centrality metrics: \\n\", current_flow_btw_nodes)"
   ]
  },
  {
   "cell_type": "code",
   "execution_count": 13,
   "metadata": {},
   "outputs": [
    {
     "name": "stdout",
     "output_type": "stream",
     "text": [
      "Keywords result by TeRGraph metrics: \n",
      " [('component', 0.65711), ('type', 0.64386), ('construction', 0.64046), ('algorithm', 0.63227), ('criterion', 0.63227), ('minimal', 0.62619), ('compatibility', 0.62015), ('solution', 0.61891), ('system', 0.603), ('natural number', 0.43723), ('upper bound', 0.35022), ('nonstrict inequations', 0.32856), ('type system', 0.32193), ('linear constraint', 0.31074), ('strict inequations', 0.30834), ('linear diophantine equation', 0.20358)] \n",
      "\n",
      "weighted top nodes with TeRGraph metrics: \n",
      " [('number', 0.874469117916141), ('natural', 0.7162070339994088), ('upper', 0.7004397181410922), ('nonstrict', 0.6571122864769915), ('bound', 0.6571122864769915), ('component', 0.6571122864769915), ('type', 0.6438561897747247), ('construction', 0.6404576133128598), ('algorithm', 0.632268215499513), ('criterion', 0.632268215499513), ('minimal', 0.6261851634476692), ('constraint', 0.6214883767462703), ('compatibility', 0.6201519291834562), ('solution', 0.618909832644494), ('strict', 0.6166713604484945), ('inequations', 0.6114347120823472), ('equation', 0.610725596786238), ('diophantine', 0.610725596786238), ('linear', 0.6061789866308519), ('system', 0.6029964235514178)]\n"
     ]
    }
   ],
   "source": [
    "# extract keywords from all vertices connections with TeRGraph metrics\n",
    "TeRGraph_results, TeRGraph_nodes = keywords_extraction(example_abstract, solver=\"TeRGraph\", top_p = 1, window = 5,\n",
    "                                                       syntactic_categories = custom_categories, stop_words = stop_words,\n",
    "                                                       lemma=True)\n",
    "print(\"Keywords result by TeRGraph metrics: \\n\", TeRGraph_results, \"\\n\")\n",
    "print(\"weighted top nodes with TeRGraph metrics: \\n\", TeRGraph_nodes)"
   ]
  },
  {
   "cell_type": "markdown",
   "metadata": {},
   "source": [
    "# Multi-Word Term (MWT) Scoring\n"
   ]
  },
  {
   "cell_type": "markdown",
   "metadata": {},
   "source": [
    "Multi-Word Terms(MWTs) are commonly weighted based on the maximum value of vertix unit among all the vertices in TextRank. jgTextRank implemented 11 additional algorithms. See all the scoring options as below:\n",
    "\n",
    "* **'max'** : maximum value of vertices weights\n",
    "* **'avg'** : avarage vertices weight\n",
    "* **'sum'** : sum of vertices weights\n",
    "* **'norm_max'** : MWT unit size normalisation of 'max' weight\n",
    "* **'norm_avg'** : MWT unit size normalisation of 'avg' weight\n",
    "* **'norm_sum'** : MWT unit size normalisation of 'sum' weight\n",
    "* **'log_norm_max'** : logarithm based normalisation of 'max' weight\n",
    "* **'log_norm_avg'** : logarithm based normalisation of 'avg' weight\n",
    "* **'log_norm_sum'** : logarithm based normalisation of 'sum' weight\n",
    "* **'gaussian_norm_max'** : gaussian normalisation of 'max' weight\n",
    "* **'gaussian_norm_avg'** : gaussian normalisation of 'avg' weight\n",
    "* **'gaussian_norm_sum'** : gaussian normalisation of 'sum' weight \n",
    "\n",
    "**'max'** is the default weighting metric for short-text keyword extraction in _'jgTextRank'_, while **'norm_max'** is the default one used for corpus based term extraction methods. The purpose of normalisation methods intend to penalise longer candidate terms and rank terms with desired term size higher.\n",
    "\n",
    "Logarithm and Gaussian normalisations are two new experimental metrics implemented in _'jgTextRank'_. The following section briefly presents the intuition of two methods."
   ]
  },
  {
   "cell_type": "markdown",
   "metadata": {},
   "source": [
    "## Intuition of logarithm and Gaussian normalisation\n",
    "\n",
    "Following two figures illustrates the intuition of two normalisation methods: 'log\\_norm' and 'gaussian_norm'.\n",
    "\n",
    "Both two methods attempt to penalise long candidate terms based a _\"mean\" value_ of term size distribution and achieve saturation.\n",
    "\n",
    "* **'log_norm'** intends to penalise candidate terms gradually that has longer size than the _\"mean\" value_, while rewarding the ones shorter than the point.\n",
    "\n",
    "* **'gaussian_norm'** intends to treat the candidates terms with the _\"mean\"_ size as a central point of distribution and gradually penalise the terms far from the point.\n",
    "\n",
    "The _\"mean\" size_ can be an actual mean of sizes of all candidate terms. The intuition is that we can set a \"mean\" value for our dataset and rank any candidate term higher with the observed term size. 'jgtextrank' allows to set the value manually and the default value is 5. This is based on last decades research that most of terminologies or key words concentrate on the size range from 1 to 6."
   ]
  },
  {
   "cell_type": "code",
   "execution_count": 14,
   "metadata": {},
   "outputs": [
    {
     "data": {
      "image/png": "[encoded data removed]",
      "text/plain": [
       "<matplotlib.figure.Figure at 0x278315cd358>"
      ]
     },
     "metadata": {},
     "output_type": "display_data"
    },
    {
     "data": {
      "image/png": "[encoded data removed]",
      "text/plain": [
       "<matplotlib.figure.Figure at 0x278314b6940>"
      ]
     },
     "metadata": {},
     "output_type": "display_data"
    }
   ],
   "source": [
    "import matplotlib.pyplot as plt\n",
    "import numpy as np\n",
    "import math\n",
    "\n",
    "# set mean of terms size distribution\n",
    "mu = 5\n",
    "\n",
    "# sample x dataset as term sizes from 1 - 10\n",
    "x = np.linspace(1,10)\n",
    "y = [math.log(x_i, mu) for x_i in x]\n",
    "\n",
    "fig, ax = plt.subplots(figsize=(10,3))\n",
    "\n",
    "ax.set_title(\"plot y on log (base=5) scale\")\n",
    "#ax.set_yscale(\"log\")\n",
    "ax.set_ylim([0, 2])\n",
    "ax.plot(x,y) \n",
    "\n",
    "plt.plot((0, 5), (1, 1), '--')\n",
    "plt.plot((5, 5), (0, 1), '--')\n",
    "\n",
    "plt.show()\n",
    "\n",
    "# try with norm distribution\n",
    "# mu = np.mean(x)\n",
    "mu = 5\n",
    "sigma = np.std(x)\n",
    "sum_x = sum(x)\n",
    "min_x = min(x)\n",
    "max_x = max(x)\n",
    "\n",
    "#print(np.sqrt(2))\n",
    "\n",
    "def probability_density(x_value, mu, sigma):\n",
    "    pd = (1/(sigma * np.sqrt(2 * math.pi))) * math.exp(- math.pow((x_value - mu),2) / (2 * math.pow(sigma, 2)))\n",
    "    return pd\n",
    "\n",
    "norm_value = 1 - probability_density(mu, mu, sigma)\n",
    "\n",
    "n_y = [probability_density(x_i, mu, sigma) + norm_value for x_i in x]\n",
    "\n",
    "# print(\"prob of 5: \", probability_density(5, mu, sigma))\n",
    "\n",
    "fig_2, ax_2 = plt.subplots(figsize=(10,3))\n",
    "\n",
    "ax_2.set_title(\"plot y on norm (mu=5) distribution \")\n",
    "#ax.set_yscale(\"log\")\n",
    "ax_2.set_ylim([0.85, 1.05])\n",
    "ax_2.plot(x,n_y) \n",
    "\n",
    "plt.plot((0, 5), (1, 1), '--')\n",
    "plt.plot((5, 5), (0, 1), '--')\n",
    "\n",
    "plt.show()"
   ]
  },
  {
   "cell_type": "markdown",
   "metadata": {},
   "source": [
    "## Simple examples of MWT ranking"
   ]
  },
  {
   "cell_type": "code",
   "execution_count": 15,
   "metadata": {},
   "outputs": [
    {
     "name": "stdout",
     "output_type": "stream",
     "text": [
      "Top 10 Keywords with 'avg':  [('system', 0.09086), ('set', 0.07817), ('minimal set', 0.06832), ('type system', 0.06499), ('algorithm', 0.06389), ('minimal supporting set', 0.05896), ('linear diophantine equation', 0.05862), ('minimal', 0.05848), ('linear constraint', 0.04969), ('strict inequations', 0.04804)]\n",
      "\n",
      "Top 10 Keywords with 'norm_avg':  [('system', 0.09086), ('set', 0.07817), ('algorithm', 0.06389), ('minimal', 0.05848), ('compatibility', 0.04458), ('solution', 0.04176), ('construction', 0.04171), ('type', 0.03911), ('minimal set', 0.03416), ('type system', 0.03249)]\n",
      "\n",
      "Top 10 Keywords with 'log_norm_avg'(mu=3):  [('minimal set', 0.10829), ('type system', 0.103), ('system', 0.09086), ('linear constraint', 0.07876), ('set', 0.07817), ('strict inequations', 0.07614), ('corresponding algorithm', 0.07056), ('algorithm', 0.06389), ('nonstrict inequations', 0.06276), ('mixed type', 0.06199)]\n",
      "\n",
      "Top 10 Keywords with 'gaussian_norm_avg'(mu=3):  [('system', 0.09031), ('set', 0.07769), ('algorithm', 0.0635), ('minimal', 0.05812), ('minimal set', 0.05522), ('type system', 0.05253), ('compatibility', 0.04431), ('solution', 0.0415), ('construction', 0.04146), ('linear constraint', 0.04017)]\n",
      "\n",
      "Top 10 Keywords with 'sum':  [('minimal supporting set', 0.17687), ('linear diophantine equation', 0.17586), ('minimal set', 0.13665), ('type system', 0.12998), ('linear constraint', 0.09939), ('strict inequations', 0.09608), ('system', 0.09086), ('corresponding algorithm', 0.08903), ('nonstrict inequations', 0.0792), ('mixed type', 0.07822)]\n",
      "\n",
      "Top 10 Keywords with 'norm_sum':  [('system', 0.09086), ('set', 0.07817), ('minimal set', 0.06832), ('type system', 0.06499), ('algorithm', 0.06389), ('minimal supporting set', 0.05896), ('linear diophantine equation', 0.05862), ('minimal', 0.05848), ('linear constraint', 0.04969), ('strict inequations', 0.04804)]\n",
      "\n",
      "Top 10 Keywords with 'log_norm_sum'(mu=3):  [('minimal set', 0.21658), ('type system', 0.20601), ('minimal supporting set', 0.17687), ('linear diophantine equation', 0.17586), ('linear constraint', 0.15753), ('strict inequations', 0.15228), ('corresponding algorithm', 0.14111), ('nonstrict inequations', 0.12552), ('mixed type', 0.12398), ('natural number', 0.11597)]\n",
      "\n",
      "Top 10 Keywords with 'gaussian_norm_sum'(mu=3):  [('minimal set', 0.11045), ('type system', 0.10505), ('system', 0.09031), ('linear constraint', 0.08033), ('set', 0.07769), ('strict inequations', 0.07766), ('corresponding algorithm', 0.07196), ('minimal supporting set', 0.06993), ('linear diophantine equation', 0.06953), ('nonstrict inequations', 0.06401)]\n",
      "\n",
      "Top 10 Keywords with 'max':  [('system', 0.09086), ('type system', 0.09086), ('set', 0.07817), ('minimal set', 0.07817), ('minimal supporting set', 0.07817), ('linear diophantine equation', 0.07616), ('linear constraint', 0.07616), ('algorithm', 0.06389), ('corresponding algorithm', 0.06389), ('minimal', 0.05848)]\n",
      "\n",
      "Top 10 Keywords with 'norm_max':  [('system', 0.09086), ('set', 0.07817), ('algorithm', 0.06389), ('minimal', 0.05848), ('type system', 0.04543), ('compatibility', 0.04458), ('solution', 0.04176), ('construction', 0.04171), ('type', 0.03911), ('minimal set', 0.03909)]\n",
      "\n",
      "Top 10 Keywords with 'log_norm_max'(mu=3):  [('type system', 0.14402), ('minimal set', 0.1239), ('linear constraint', 0.12071), ('corresponding algorithm', 0.10126), ('system', 0.09086), ('nonstrict inequations', 0.08025), ('strict inequations', 0.08025), ('set', 0.07817), ('minimal supporting set', 0.07817), ('linear diophantine equation', 0.07616)]\n",
      "\n",
      "Top 10 Keywords with 'gaussian_norm_max'(mu=3):  [('system', 0.09031), ('set', 0.07769), ('type system', 0.07344), ('algorithm', 0.0635), ('minimal set', 0.06318), ('linear constraint', 0.06156), ('minimal', 0.05812), ('corresponding algorithm', 0.05164), ('compatibility', 0.04431), ('solution', 0.0415)]\n"
     ]
    }
   ],
   "source": [
    "example_abstract_results_wc1, example_abstract_top_vertices = keywords_extraction(example_abstract, weight_comb=\"avg\", top_p = 1, lemma=True)\n",
    "print(\"Top 10 Keywords with 'avg': \", example_abstract_results_wc1[:10])\n",
    "\n",
    "example_abstract_results_wc2, example_abstract_top_vertices = keywords_extraction(example_abstract, weight_comb=\"norm_avg\", top_p = 1, lemma=True)\n",
    "print(\"\\nTop 10 Keywords with 'norm_avg': \", example_abstract_results_wc2[:10])\n",
    "\n",
    "example_abstract_results_wc3, example_abstract_top_vertices = keywords_extraction(example_abstract, weight_comb=\"log_norm_avg\", top_p = 1, mu=3, lemma=True)\n",
    "print(\"\\nTop 10 Keywords with 'log_norm_avg'(mu=3): \", example_abstract_results_wc3[:10])\n",
    "\n",
    "example_abstract_results_wc4, example_abstract_top_vertices = keywords_extraction(example_abstract, weight_comb=\"gaussian_norm_avg\", top_p = 1, mu=3, lemma=True)\n",
    "print(\"\\nTop 10 Keywords with 'gaussian_norm_avg'(mu=3): \", example_abstract_results_wc4[:10])\n",
    "\n",
    "example_abstract_results_wc5, example_abstract_top_vertices = keywords_extraction(example_abstract, weight_comb=\"sum\", top_p = 1, lemma=True)\n",
    "print(\"\\nTop 10 Keywords with 'sum': \", example_abstract_results_wc5[:10])\n",
    "\n",
    "example_abstract_results_wc6, example_abstract_top_vertices = keywords_extraction(example_abstract, weight_comb=\"norm_sum\", top_p = 1, lemma=True)\n",
    "print(\"\\nTop 10 Keywords with 'norm_sum': \", example_abstract_results_wc6[:10])\n",
    "\n",
    "example_abstract_results_wc7, example_abstract_top_vertices = keywords_extraction(example_abstract, weight_comb=\"log_norm_sum\", top_p = 1, mu=3, lemma=True)\n",
    "print(\"\\nTop 10 Keywords with 'log_norm_sum'(mu=3): \", example_abstract_results_wc7[:10])\n",
    "\n",
    "example_abstract_results_wc8, example_abstract_top_vertices = keywords_extraction(example_abstract, weight_comb=\"gaussian_norm_sum\", top_p = 1, mu=3, lemma=True)\n",
    "print(\"\\nTop 10 Keywords with 'gaussian_norm_sum'(mu=3): \", example_abstract_results_wc8[:10])\n",
    "\n",
    "example_abstract_results_wc9, example_abstract_top_vertices = keywords_extraction(example_abstract, weight_comb=\"max\", top_p = 1, lemma=True)\n",
    "print(\"\\nTop 10 Keywords with 'max': \", example_abstract_results_wc9[:10])\n",
    "\n",
    "example_abstract_results_wc10, example_abstract_top_vertices = keywords_extraction(example_abstract, weight_comb=\"norm_max\", top_p = 1, mu=3, lemma=True)\n",
    "print(\"\\nTop 10 Keywords with 'norm_max': \", example_abstract_results_wc10[:10])\n",
    "\n",
    "example_abstract_results_wc11, example_abstract_top_vertices = keywords_extraction(example_abstract, weight_comb=\"log_norm_max\", top_p = 1, mu=3, lemma=True)\n",
    "print(\"\\nTop 10 Keywords with 'log_norm_max'(mu=3): \", example_abstract_results_wc11[:10])\n",
    "\n",
    "example_abstract_results_wc12, example_abstract_top_vertices = keywords_extraction(example_abstract, weight_comb=\"gaussian_norm_max\", top_p = 1, mu=3, lemma=True)\n",
    "print(\"\\nTop 10 Keywords with 'gaussian_norm_max'(mu=3): \", example_abstract_results_wc12[:10])"
   ]
  },
  {
   "cell_type": "markdown",
   "metadata": {},
   "source": [
    "# Term extraction from corpus\n",
    "\n",
    "'jgtextrank' can be applied to raw text corpus for corpus-level term extraction. Corpus-level term graph representation will be made and linearly expanded by merging individual vertex graph and their co-occurrences from all the context across the entire document set.\n",
    "\n",
    "The implementation is memory-efficient and can be applied to large corpus. You can set available workers (CPU cores) to speed up the co-occurrence computation."
   ]
  },
  {
   "cell_type": "code",
   "execution_count": 16,
   "metadata": {},
   "outputs": [],
   "source": [
    "import logging.config\n",
    "# log can be set up for corpus processing or for the debugging\n",
    "logging.config.fileConfig(os.path.join('..', 'logging.conf'))"
   ]
  },
  {
   "cell_type": "code",
   "execution_count": 17,
   "metadata": {},
   "outputs": [
    {
     "name": "stdout",
     "output_type": "stream",
     "text": [
      "term extraction from corpus [GENIAcorpus302\\text\\files] with pageRank metrics...\n",
      "2018-08-09 00:23:03,983 [MainThread  ] - textrank - INFO - computing vertices representations...\n",
      "2018-08-09 00:25:30,332 [MainThread  ] - textrank - INFO - total size of vertices: 16121\n",
      "2018-08-09 00:25:37,273 [MainThread  ] - textrank - DEBUG - top T(t=16121) vertices: [('cell', 0.012267871358133122), ('protein', 0.006821066185310329), ('gene', 0.006250039674792268), ('expression', 0.005490770528247751), ('human', 0.0050934423716705824), ('activation', 0.004200811423588264), ('activity', 0.00398665658746191), ('factor', 0.003963569627782554), ('transcription', 0.0036417277399153304), ('receptor', 0.0035910084331549678)] ...\n",
      "2018-08-09 00:25:37,302 [MainThread  ] - textrank - INFO - collapse adjacent keywords ...\n",
      "2018-08-09 00:29:44,149 [MainThread  ] - textrank - INFO - exporting sorted keywords into [textrank_genia.json]\n",
      "2018-08-09 00:29:44,333 [MainThread  ] - textrank - INFO - complete result export.\n",
      "\n",
      "\n",
      "Complete. Wall-clock elapsed time:  452.4861524105072 s\n",
      "\n",
      "\n",
      "top 50 keywords:  [('cell', 0.01227), ('protein', 0.00682), ('gene', 0.00625), ('ifn-alpha-treated cell', 0.00613), ('vascular cell', 0.00613), ('skw6.4 cell', 0.00613), ('neoplastic cell', 0.00613), ('ebv-infected cell', 0.00613), ('ebv-b cell', 0.00613), ('cv-1 cell', 0.00613), ('responsive cell', 0.00613), ('il-2-treated cell', 0.00613), ('om-10.1 cell', 0.00613), ('cell proliferate', 0.00613), ('cell morphology', 0.00613), ('cell signaling', 0.00613), ('cell culture', 0.00613), ('cell cycling', 0.00613), ('cell progress', 0.00613), ('hpp-47.10 cell', 0.00613), ('cell enter', 0.00613), ('mononuclear cell', 0.00613), ('eukaryotic cell', 0.00613), ('bcp-all cell', 0.00613), ('sickle cell', 0.00613), ('cell antigen-receptor', 0.00613), ('acyclovir-treated cell', 0.00613), ('er- cell', 0.00613), ('cd30+ cell', 0.00613), ('effector cell', 0.00613), ('cell repertoire', 0.00613), ('lavage cell', 0.00613), ('cell activate', 0.00613), ('hemopoietic cell', 0.00613), ('steroid-treated cell', 0.00613), ('nk3.3 cell', 0.00613), ('cell response', 0.00613), ('cd34+ cell', 0.00613), ('cell infiltrate', 0.00613), ('memory cell', 0.00613), ('endotoxin-stimulated cell', 0.00613), ('ra-treated cell', 0.00613), ('apl cell', 0.00613), ('myelomonoblastic cell', 0.00613), ('hit-t15 cell', 0.00613), ('antigen-presenting cell', 0.00613), ('atl cell', 0.00613), ('cem-c7 cell', 0.00613), ('cell surface', 0.00613), ('mnda-expressing cell', 0.00613)]\n",
      "\n",
      "\n",
      "top 50 vertices:  [('cell', 0.012267871358133122), ('protein', 0.006821066185310329), ('gene', 0.006250039674792268), ('expression', 0.005490770528247751), ('human', 0.0050934423716705824), ('activation', 0.004200811423588264), ('activity', 0.00398665658746191), ('factor', 0.003963569627782554), ('transcription', 0.0036417277399153304), ('receptor', 0.0035910084331549678), ('show', 0.0034496519580350074), ('site', 0.0033357618221059255), ('induce', 0.0032755747976624928), ('promoter', 0.0031572784260005806), ('increase', 0.0030483755724488564), ('effect', 0.0028740010942174196), ('bind', 0.0026627156063336885), ('suggest', 0.0026075274109640893), ('line', 0.0025514729333662124), ('element', 0.0025381313178396937), ('patient', 0.002534767918120677), ('inhibit', 0.002505403166328924), ('response', 0.00250537550310933), ('sequence', 0.0024899689016888737), ('complex', 0.0024873662632502705), ('binding', 0.002475422116977781), ('express', 0.0024036349264392473), ('region', 0.002358524131520023), ('level', 0.0023080631270540044), ('activate', 0.002237460464287719), ('nuclear', 0.0021952376834500115), ('signal', 0.0020865006670152003), ('result', 0.002050480438094718), ('induction', 0.002021331750687838), ('demonstrate', 0.0020054919625331915), ('dna', 0.0019807785867365438), ('lymphocyte', 0.0019693275291461925), ('mrna', 0.0019078052241816798), ('include', 0.0018798331163839633), ('pathway', 0.0018190763011624008), ('nf-kappa', 0.0018028189539159615), ('study', 0.0017948715188636174), ('kinase', 0.0017224038168442623), ('control', 0.001707524430358638), ('domain', 0.001694636072117592), ('analysis', 0.0016623446213650237), ('function', 0.001656441148140751), ('role', 0.001644283512001938), ('require', 0.001626589942949601), ('alpha', 0.0015869047347907789)]\n"
     ]
    }
   ],
   "source": [
    "\n",
    "corpus_directory = os.path.join('GENIAcorpus302', 'text', 'files')\n",
    "\n",
    "print(\"term extraction from corpus [%s] with pageRank metrics...\" % corpus_directory)\n",
    "start = time.time()\n",
    "\n",
    "# \"T is set to a third of the number of vertices in the graph\"\n",
    "# 'workers' is set to use all the available cpu cores\n",
    "keywords, top_t_vertices = keywords_extraction_from_corpus_directory(corpus_directory, top_p=1, stop_words=stop_list,\n",
    "                                                                     max_iter=1000, tol=1.0e-6, \n",
    "                                                                     lemma=True, weight_comb=\"norm_max\",\n",
    "                                                                     export=True, export_format=\"json\", \n",
    "                                                                     export_path=\"textrank_genia.json\",\n",
    "                                                                     workers=multiprocessing.cpu_count())\n",
    "\n",
    "end = time.time()\n",
    "\n",
    "print(\"\\n\")\n",
    "print(\"Complete. Wall-clock elapsed time: \", end - start, \"s\")\n",
    "print(\"\\n\")\n",
    "print(\"top 50 keywords: \", keywords[:50])\n",
    "print(\"\\n\")\n",
    "print(\"top 50 vertices: \", top_t_vertices[:50])"
   ]
  },
  {
   "cell_type": "code",
   "execution_count": 18,
   "metadata": {},
   "outputs": [
    {
     "name": "stdout",
     "output_type": "stream",
     "text": [
      "term extraction from corpus [GENIAcorpus302\\text\\files] with TeRGraph metrics...\n",
      "2018-08-09 00:32:18,714 [MainThread  ] - textrank - INFO - computing vertices representations...\n",
      "2018-08-09 00:34:54,755 [MainThread  ] - textrank - INFO - total size of vertices: 16121\n",
      "2018-08-09 00:34:56,714 [MainThread  ] - textrank - DEBUG - total nodes: 16121\n",
      "2018-08-09 00:34:57,856 [MainThread  ] - textrank - DEBUG - total isolated nodes: 464\n",
      "2018-08-09 00:34:57,858 [MainThread  ] - textrank - DEBUG - total weighted nodes: 16121\n",
      "2018-08-09 00:34:57,868 [MainThread  ] - textrank - DEBUG - top T(t=16121) vertices: [('antiport', 1.0), ('nf-at2', 1.0), ('nup475', 1.0), ('j.virol.65:2436-2444', 1.0), ('applicable', 1.0), ('cpp32/yama/apopain', 1.0), ('j.virol.67:6768-6777', 1.0), ('stat1-', 1.0), ('h2-antagonist', 1.0), ('nephew', 1.0)] ...\n",
      "2018-08-09 00:34:57,920 [MainThread  ] - textrank - INFO - collapse adjacent keywords ...\n",
      "2018-08-09 00:59:01,528 [MainThread  ] - textrank - INFO - exporting sorted keywords into [textrank_genia_TeRGraph.json]\n",
      "2018-08-09 00:59:01,713 [MainThread  ] - textrank - INFO - complete result export.\n",
      "\n",
      "\n",
      "Complete. Wall-clock elapsed time:  1655.1929159164429 s\n",
      "\n",
      "\n",
      "top 50 TeRGraph keywords:  [('applicable', 1.0), ('cpp32/yama/apopain', 1.0), ('mol.cell.biol.15', 1.0), ('c3heb/fej', 1.0), ('toronto', 1.0), ('lysophosphatidylethanolamine', 1.0), ('university', 1.0), ('fabricius', 1.0), ('myelomonoblasts', 1.0), ('mol.cell', 1.0), ('val837', 1.0), ('j.c.alwine', 1.0), ('r.f.siliciano', 1.0), ('impromidine', 1.0), ('dapsone', 1.0), ('serine-32', 1.0), ('daunomycin', 1.0), ('5-25', 1.0), ('syn-1', 1.0), ('sp1-box', 1.0), ('h287a', 1.0), ('eryf-1', 1.0), ('d.g.tenen', 1.0), ('j.t.bruder', 1.0), ('ttp', 1.0), ('p288s', 1.0), ('stat3-', 1.0), ('cimetidine', 1.0), ('j.virol.65:2436-2444', 1.0), ('j.virol.67:6768-6777', 1.0), ('p.s.sarin', 1.0), ('20-methyl-', 1.0), ('20-methyl-23-eneanalogues', 1.0), ('anlage', 1.0), ('gf-1', 1.0), ('hydroxylamine', 1.0), ('254-266', 1.0), ('d.d.richman', 1.0), ('m.bina', 1.0), ('nf-at3', 1.0), ('pfu', 1.0), ('m.feldman', 1.0), ('oct-6', 1.0), ('ml-3', 1.0), ('l-cystine', 1.0), ('itf-2', 1.0), ('faber', 1.0), ('p12-14', 1.0), ('j.virol.70:2260-', 1.0), ('j.exp.med.183:39-48', 1.0)]\n",
      "\n",
      "\n",
      "top 50 TeRGraph vertices:  [('antiport', 1.0), ('nf-at2', 1.0), ('nup475', 1.0), ('j.virol.65:2436-2444', 1.0), ('applicable', 1.0), ('cpp32/yama/apopain', 1.0), ('j.virol.67:6768-6777', 1.0), ('stat1-', 1.0), ('h2-antagonist', 1.0), ('nephew', 1.0), ('zebrafish', 1.0), ('p.s.sarin', 1.0), ('caspase-3-like', 1.0), ('mol.cell.biol.15', 1.0), ('4,21-diacetoxy-11', 1.0), ('pax-b', 1.0), ('l.e', 1.0), ('precancerous', 1.0), ('maturity', 1.0), ('vi', 1.0), ('-h+', 1.0), ('20-methyl-', 1.0), ('p=.01', 1.0), ('xpg', 1.0), ('dntps', 1.0), ('hemizygotic', 1.0), ('c3heb/fej', 1.0), ('anti-itk', 1.0), ('j.menezes', 1.0), ('junction', 1.0), ('toronto', 1.0), ('lysophosphatidylethanolamine', 1.0), ('tenen', 1.0), ('university', 1.0), ('fabricius', 1.0), (\"5'-gggcgg\", 1.0), ('myelomonoblasts', 1.0), ('1-beta-d-arabino-furanosylcytosine', 1.0), ('distance', 1.0), ('visit', 1.0), ('h3-antagonist', 1.0), ('20-methyl-23-eneanalogues', 1.0), ('serine-36', 1.0), ('mol.cell', 1.0), ('hcl', 1.0), ('u-test', 1.0), ('anlage', 1.0), ('cd138/syndecan-1', 1.0), ('sodium/proton', 1.0), ('val837', 1.0)]\n"
     ]
    }
   ],
   "source": [
    "print(\"term extraction from corpus [%s] with TeRGraph metrics...\" % corpus_directory)\n",
    "start = time.time()\n",
    "\n",
    "# \"T is set to a third of the number of vertices in the graph\"\n",
    "# 'workers' is set to use all the available cpu cores\n",
    "TeRGraph_keywords, TeRGraph_top_t_vertices = keywords_extraction_from_corpus_directory(corpus_directory, solver=\"TeRGraph\",\n",
    "                                                         top_p=1, stop_words=stop_list, lemma=True, weight_comb=\"norm_max\",\n",
    "                                                         export=True, export_format=\"json\",\n",
    "                                                         export_path=\"textrank_genia_TeRGraph.json\",\n",
    "                                                         workers=multiprocessing.cpu_count())\n",
    "\n",
    "end = time.time()\n",
    "\n",
    "print(\"\\n\")\n",
    "print(\"Complete. Wall-clock elapsed time: \", end - start, \"s\")\n",
    "print(\"\\n\")\n",
    "print(\"top 50 TeRGraph keywords: \", TeRGraph_keywords[:50])\n",
    "print(\"\\n\")\n",
    "print(\"top 50 TeRGraph vertices: \", TeRGraph_top_t_vertices[:50])"
   ]
  },
  {
   "cell_type": "code",
   "execution_count": 19,
   "metadata": {},
   "outputs": [
    {
     "name": "stdout",
     "output_type": "stream",
     "text": [
      "term extraction from corpus [GENIAcorpus302\\text\\files] with degree centrality metrics...\n",
      "2018-08-09 01:02:04,380 [MainThread  ] - textrank - INFO - computing vertices representations...\n",
      "2018-08-09 01:04:22,276 [MainThread  ] - textrank - INFO - total size of vertices: 16121\n",
      "2018-08-09 01:04:24,161 [MainThread  ] - textrank - DEBUG - top T(t=16121) vertices: [('cell', 0.15359801488833746), ('protein', 0.09057071960297766), ('gene', 0.08709677419354839), ('expression', 0.08325062034739454), ('human', 0.07524813895781637), ('activation', 0.06327543424317618), ('activity', 0.058498759305210916), ('factor', 0.057196029776674935), ('transcription', 0.05620347394540943), ('show', 0.05198511166253102)] ...\n",
      "2018-08-09 01:04:24,202 [MainThread  ] - textrank - INFO - collapse adjacent keywords ...\n",
      "2018-08-09 01:08:37,535 [MainThread  ] - textrank - INFO - exporting sorted keywords into [textrank_genia_degree_centrality.json]\n",
      "2018-08-09 01:08:37,706 [MainThread  ] - textrank - INFO - complete result export.\n",
      "\n",
      "\n",
      "Complete. Wall-clock elapsed time:  442.9333987236023 s\n",
      "\n",
      "\n",
      "top 50 degree centrality keywords:  [('cell', 0.1536), ('protein', 0.09057), ('gene', 0.0871), ('expression', 0.08325), ('ifn-alpha-treated cell', 0.0768), ('vascular cell', 0.0768), ('skw6.4 cell', 0.0768), ('neoplastic cell', 0.0768), ('ebv-infected cell', 0.0768), ('ebv-b cell', 0.0768), ('cv-1 cell', 0.0768), ('responsive cell', 0.0768), ('il-2-treated cell', 0.0768), ('om-10.1 cell', 0.0768), ('cell proliferate', 0.0768), ('cell morphology', 0.0768), ('cell signaling', 0.0768), ('cell culture', 0.0768), ('cell cycling', 0.0768), ('cell progress', 0.0768), ('hpp-47.10 cell', 0.0768), ('cell enter', 0.0768), ('mononuclear cell', 0.0768), ('eukaryotic cell', 0.0768), ('bcp-all cell', 0.0768), ('sickle cell', 0.0768), ('cell antigen-receptor', 0.0768), ('acyclovir-treated cell', 0.0768), ('er- cell', 0.0768), ('cd30+ cell', 0.0768), ('effector cell', 0.0768), ('cell repertoire', 0.0768), ('lavage cell', 0.0768), ('cell activate', 0.0768), ('hemopoietic cell', 0.0768), ('steroid-treated cell', 0.0768), ('nk3.3 cell', 0.0768), ('cell response', 0.0768), ('cd34+ cell', 0.0768), ('cell infiltrate', 0.0768), ('memory cell', 0.0768), ('endotoxin-stimulated cell', 0.0768), ('ra-treated cell', 0.0768), ('apl cell', 0.0768), ('myelomonoblastic cell', 0.0768), ('hit-t15 cell', 0.0768), ('antigen-presenting cell', 0.0768), ('atl cell', 0.0768), ('cem-c7 cell', 0.0768), ('cell surface', 0.0768)]\n",
      "\n",
      "\n",
      "top 50 degree centrality vertices:  [('cell', 0.15359801488833746), ('protein', 0.09057071960297766), ('gene', 0.08709677419354839), ('expression', 0.08325062034739454), ('human', 0.07524813895781637), ('activation', 0.06327543424317618), ('activity', 0.058498759305210916), ('factor', 0.057196029776674935), ('transcription', 0.05620347394540943), ('show', 0.05198511166253102), ('receptor', 0.051426799007444166), ('induce', 0.050806451612903224), ('promoter', 0.046712158808933), ('increase', 0.04392059553349876), ('site', 0.04336228287841191), ('effect', 0.04230769230769231), ('bind', 0.040508684863523575), ('suggest', 0.04044665012406948), ('response', 0.03883374689826303), ('inhibit', 0.0380893300248139), ('binding', 0.037096774193548385), ('express', 0.036910669975186106), ('level', 0.03641439205955335), ('activate', 0.03554590570719603), ('nuclear', 0.0336848635235732), ('complex', 0.0336848635235732), ('element', 0.033436724565756824), ('patient', 0.033312655086848636), ('line', 0.03306451612903226), ('signal', 0.032692307692307694), ('sequence', 0.03250620347394541), ('result', 0.03219602977667494), ('induction', 0.03213399503722084), ('demonstrate', 0.031947890818858564), ('mrna', 0.03052109181141439), ('lymphocyte', 0.029652605459057072), ('dna', 0.029652605459057072), ('region', 0.0293424317617866), ('include', 0.02878411910669975), ('nf-kappa', 0.028287841191066997), ('study', 0.027109181141439207), ('function', 0.02661290322580645), ('role', 0.026550868486352356), ('require', 0.02630272952853598), ('control', 0.026054590570719603), ('pathway', 0.02555831265508685), ('regulate', 0.025062034739454096), ('specific', 0.02475186104218362), ('mediate', 0.024627791563275433), ('normal', 0.024193548387096774)]\n"
     ]
    }
   ],
   "source": [
    "print(\"term extraction from corpus [%s] with degree centrality metrics...\" % corpus_directory)\n",
    "start = time.time()\n",
    "\n",
    "# \"T is set to a third of the number of vertices in the graph\"\n",
    "# 'workers' is set to use all the available cpu cores\n",
    "degree_centr_keywords, degree_centr_top_t_vertices = keywords_extraction_from_corpus_directory(corpus_directory, \n",
    "                                                                                               solver=\"degree_centrality\",\n",
    "                                                         top_p=1, stop_words=stop_list, lemma=True, weight_comb=\"norm_max\",\n",
    "                                                         export=True, export_format=\"json\",\n",
    "                                                         export_path=\"textrank_genia_degree_centrality.json\",\n",
    "                                                         workers=multiprocessing.cpu_count())\n",
    "\n",
    "end = time.time()\n",
    "\n",
    "print(\"\\n\")\n",
    "print(\"Complete. Wall-clock elapsed time: \", end - start, \"s\")\n",
    "print(\"\\n\")\n",
    "print(\"top 50 degree centrality keywords: \", degree_centr_keywords[:50])\n",
    "print(\"\\n\")\n",
    "print(\"top 50 degree centrality vertices: \", degree_centr_top_t_vertices[:50])"
   ]
  },
  {
   "cell_type": "code",
   "execution_count": 20,
   "metadata": {},
   "outputs": [
    {
     "name": "stdout",
     "output_type": "stream",
     "text": [
      "term extraction from corpus [GENIAcorpus302\\text\\files] with hits metrics...\n",
      "2018-08-09 01:19:19,285 [MainThread  ] - textrank - INFO - computing vertices representations...\n",
      "2018-08-09 01:21:22,165 [MainThread  ] - textrank - INFO - total size of vertices: 16121\n",
      "2018-08-09 01:21:35,153 [MainThread  ] - textrank - DEBUG - top T(t=16121) vertices: [('cell', 0.003979338877577311), ('expression', 0.003239416518636875), ('protein', 0.0031869503607162624), ('gene', 0.003159928789782539), ('human', 0.0029629246495330875), ('activation', 0.0028611799202948674), ('transcription', 0.0026471124398142415), ('activity', 0.0025085905292317806), ('factor', 0.00248700733179335), ('receptor', 0.00240144676509896)] ...\n",
      "2018-08-09 01:21:35,180 [MainThread  ] - textrank - INFO - collapse adjacent keywords ...\n",
      "2018-08-09 01:25:34,084 [MainThread  ] - textrank - INFO - exporting sorted keywords into [textrank_genia_hits.json]\n",
      "2018-08-09 01:25:34,231 [MainThread  ] - textrank - INFO - complete result export.\n",
      "\n",
      "\n",
      "Complete. Wall-clock elapsed time:  420.22670125961304 s\n",
      "\n",
      "\n",
      "top 50 hits keywords:  [('cell', 0.00398), ('expression', 0.00324), ('protein', 0.00319), ('gene', 0.00316), ('human', 0.00296), ('activation', 0.00286), ('transcription', 0.00265), ('activity', 0.00251), ('factor', 0.00249), ('receptor', 0.0024), ('induce', 0.0024), ('show', 0.00233), ('promoter', 0.00222), ('response', 0.00217), ('increase', 0.00209), ('suggest', 0.00208), ('bind', 0.00203), ('ifn-alpha-treated cell', 0.00199), ('vascular cell', 0.00199), ('skw6.4 cell', 0.00199), ('neoplastic cell', 0.00199), ('ebv-infected cell', 0.00199), ('ebv-b cell', 0.00199), ('cv-1 cell', 0.00199), ('responsive cell', 0.00199), ('il-2-treated cell', 0.00199), ('om-10.1 cell', 0.00199), ('cell proliferate', 0.00199), ('cell morphology', 0.00199), ('cell signaling', 0.00199), ('cell culture', 0.00199), ('cell cycling', 0.00199), ('cell progress', 0.00199), ('hpp-47.10 cell', 0.00199), ('cell enter', 0.00199), ('mononuclear cell', 0.00199), ('eukaryotic cell', 0.00199), ('bcp-all cell', 0.00199), ('sickle cell', 0.00199), ('cell antigen-receptor', 0.00199), ('acyclovir-treated cell', 0.00199), ('er- cell', 0.00199), ('cd30+ cell', 0.00199), ('effector cell', 0.00199), ('cell repertoire', 0.00199), ('lavage cell', 0.00199), ('cell activate', 0.00199), ('hemopoietic cell', 0.00199), ('steroid-treated cell', 0.00199), ('nk3.3 cell', 0.00199)]\n",
      "\n",
      "\n",
      "top 50 hits vertices:  [('cell', 0.003979338877577311), ('expression', 0.003239416518636875), ('protein', 0.0031869503607162624), ('gene', 0.003159928789782539), ('human', 0.0029629246495330875), ('activation', 0.0028611799202948674), ('transcription', 0.0026471124398142415), ('activity', 0.0025085905292317806), ('factor', 0.00248700733179335), ('receptor', 0.00240144676509896), ('induce', 0.0023996790700096917), ('show', 0.0023313992306516194), ('promoter', 0.002220089886248159), ('response', 0.0021657876816339634), ('increase', 0.002086947562908793), ('suggest', 0.0020821707686860605), ('bind', 0.002030393727270663), ('nuclear', 0.0019842873628331684), ('binding', 0.001971430311781267), ('activate', 0.0019537496520918908), ('level', 0.001926971953684292), ('inhibit', 0.0019159880192836647), ('effect', 0.001910199898515039), ('induction', 0.0019002517910768771), ('site', 0.0018976978187488134), ('signal', 0.0018678638739649525), ('nf-kappa', 0.001852308234822407), ('result', 0.0018166801644178276), ('express', 0.0017822952880641955), ('mrna', 0.0017493692799051865), ('dna', 0.0017489370510302363), ('demonstrate', 0.001747426825388615), ('specific', 0.0017186461018211053), ('lymphocyte', 0.0017132100012854626), ('complex', 0.0017076247311073255), ('il-2', 0.0016937115381175142), ('require', 0.0016847323720460346), ('include', 0.0016502914560124486), ('function', 0.0016373743087063442), ('monocyte', 0.0016328567063589577), ('regulate', 0.0016263599170138997), ('cytokine', 0.001622065406025783), ('transcriptional', 0.0016130731151497827), ('element', 0.0016041132521682482), ('mediate', 0.0015992282574674036), ('sequence', 0.0015665368040961216), ('control', 0.0015662916175117963), ('normal', 0.001536999684701946), ('study', 0.001520671047251964), ('alpha', 0.0015063876687560758)]\n"
     ]
    }
   ],
   "source": [
    "print(\"term extraction from corpus [%s] with hits metrics...\" % corpus_directory)\n",
    "start = time.time()\n",
    "\n",
    "# \"T is set to a third of the number of vertices in the graph\"\n",
    "# 'workers' is set to use all the available cpu cores\n",
    "hits_keywords, hits_top_t_vertices = keywords_extraction_from_corpus_directory(corpus_directory, solver=\"hits\",\n",
    "                                                                               max_iter=1000, tol=1.0e-8,\n",
    "                                                         top_p=1, stop_words=stop_list, lemma=True, weight_comb=\"norm_max\",\n",
    "                                                         export=True, export_format=\"json\",\n",
    "                                                         export_path=\"textrank_genia_hits.json\",\n",
    "                                                         workers=multiprocessing.cpu_count())\n",
    "\n",
    "end = time.time()\n",
    "\n",
    "print(\"\\n\")\n",
    "print(\"Complete. Wall-clock elapsed time: \", end - start, \"s\")\n",
    "print(\"\\n\")\n",
    "print(\"top 50 hits keywords: \", hits_keywords[:50])\n",
    "print(\"\\n\")\n",
    "print(\"top 50 hits vertices: \", hits_top_t_vertices[:50])"
   ]
  },
  {
   "cell_type": "code",
   "execution_count": 21,
   "metadata": {},
   "outputs": [
    {
     "name": "stdout",
     "output_type": "stream",
     "text": [
      "term extraction from corpus [GENIAcorpus302\\text\\files] with katz centrality metrics...\n",
      "2018-08-09 01:31:46,113 [MainThread  ] - textrank - INFO - computing vertices representations...\n",
      "2018-08-09 01:34:18,322 [MainThread  ] - textrank - INFO - total size of vertices: 16121\n",
      "2018-08-09 01:35:36,829 [MainThread  ] - textrank - DEBUG - top T(t=16121) vertices: [('development', 0.11411846100629736), ('individual', 0.0945962696657766), ('acute', 0.08543954026945298), ('kappa', 0.07897656259539729), ('display', 0.07303243234135635), ('ra', 0.06986172222124627), ('myeloid', 0.06887361039726454), ('interact', 0.06879913957239706), ('therapy', 0.06744761293760484), ('induced', 0.0668875357485517)] ...\n",
      "2018-08-09 01:35:36,905 [MainThread  ] - textrank - INFO - collapse adjacent keywords ...\n",
      "2018-08-09 01:45:24,697 [MainThread  ] - textrank - INFO - exporting sorted keywords into [textrank_genia_katz.json]\n",
      "2018-08-09 01:45:24,876 [MainThread  ] - textrank - INFO - complete result export.\n",
      "\n",
      "\n",
      "Complete. Wall-clock elapsed time:  868.426126241684 s\n",
      "\n",
      "\n",
      "top 50 katz centrality keywords:  [('development', 0.11412), ('individual', 0.0946), ('acute', 0.08544), ('kappa', 0.07898), ('display', 0.07303), ('ra', 0.06986), ('myeloid', 0.06887), ('interact', 0.0688), ('therapy', 0.06745), ('induced', 0.06689), ('signaling', 0.06192), ('transcript', 0.06023), ('exposure', 0.06015), ('transactivation', 0.05929), ('influence', 0.05743), ('serum', 0.05723), ('thymocyte development', 0.05706), ('vaccine development', 0.05706), ('t-lymphocyte development', 0.05706), ('recent development', 0.05706), ('dlcl development', 0.05706), ('myeloid development', 0.05706), ('vertebrate development', 0.05706), ('cell development', 0.05706), ('development factor', 0.05706), ('erythropoietic development', 0.05706), ('neutrophil development', 0.05706), ('neural development', 0.05706), ('th1 development', 0.05706), ('inhibit development', 0.05706), ('pancreas development', 0.05706), ('cancer development', 0.05706), ('affect development', 0.05706), ('b-cell development', 0.05706), ('b-lymphocyte development', 0.05706), ('t-cell development', 0.05706), ('mammalian development', 0.05706), ('tumor development', 0.05706), ('hematopoietic development', 0.05706), ('thymic development', 0.05706), ('early development', 0.05706), ('lymphocyte development', 0.05706), ('sequential development', 0.05706), ('drug development', 0.05706), ('reduced development', 0.05706), ('embryonic development', 0.05706), ('clonal development', 0.05706), ('arrest development', 0.05706), ('pancreatic development', 0.05706), ('pro-b-cell development', 0.05706)]\n",
      "\n",
      "\n",
      "top 50 katz centrality vertices:  [('development', 0.11411846100629736), ('individual', 0.0945962696657766), ('acute', 0.08543954026945298), ('kappa', 0.07897656259539729), ('display', 0.07303243234135635), ('ra', 0.06986172222124627), ('myeloid', 0.06887361039726454), ('interact', 0.06879913957239706), ('therapy', 0.06744761293760484), ('induced', 0.0668875357485517), ('signaling', 0.06191898596730857), ('transcript', 0.060227303310652784), ('exposure', 0.06015381086616625), ('transactivation', 0.05928716170873109), ('influence', 0.05743254201922554), ('serum', 0.057234300031556815), ('amino', 0.05662992290174854), ('pair', 0.05602735293159962), ('analyze', 0.055745139863130726), ('condition', 0.05470317972179055), ('vivo', 0.05102890355935745), ('facilitate', 0.050858192530792455), ('gata-1', 0.050775367762326835), ('synthesis', 0.05023142641480732), ('-and', 0.050072907523243414), ('agonist', 0.04955265858949182), ('vdr', 0.048709822507711525), ('full-length', 0.048568622701189744), ('physiological', 0.04799798985238092), ('stat', 0.04778977093411642), ('hiv', 0.04728685509229789), ('difference', 0.04727153262114678), ('regulatory', 0.04711045766941653), ('suppression', 0.04652576484782339), ('marker', 0.046414835401504824), ('wild-type', 0.04594742427718714), ('death', 0.04587103183171797), ('feature', 0.045550599737856634), ('formation', 0.04554644072134184), ('dexamethasone', 0.045138983974296415), ('hl-60', 0.04482734230619848), ('independent', 0.04467816654429935), ('combination', 0.04441216394409663), ('absence', 0.04426409685288273), ('progenitor', 0.04322131833393358), ('immunoglobulin', 0.042951455900139365), ('fragment', 0.042827521067630187), ('jurkat', 0.04224728531590833), ('cyclosporin', 0.04222172028211825), ('ligand', 0.041432816747472734)]\n"
     ]
    }
   ],
   "source": [
    "print(\"term extraction from corpus [%s] with katz centrality metrics...\" % corpus_directory)\n",
    "start = time.time()\n",
    "\n",
    "# \"T is set to a third of the number of vertices in the graph\"\n",
    "# 'workers' is set to use all the available cpu cores\n",
    "katz_keywords, katz_top_t_vertices = keywords_extraction_from_corpus_directory(corpus_directory, \n",
    "                                                                               solver=\"katz_centrality\", \n",
    "                                                                               max_iter=5000, tol=1.0e-6,\n",
    "                                                         top_p=1, stop_words=stop_list, lemma=True, weight_comb=\"norm_max\",                                                                               \n",
    "                                                         export=True, export_format=\"json\",\n",
    "                                                         export_path=\"textrank_genia_katz.json\",\n",
    "                                                         workers=multiprocessing.cpu_count())\n",
    "\n",
    "end = time.time()\n",
    "\n",
    "print(\"\\n\")\n",
    "print(\"Complete. Wall-clock elapsed time: \", end - start, \"s\")\n",
    "print(\"\\n\")\n",
    "print(\"top 50 katz centrality keywords: \", katz_keywords[:50])\n",
    "print(\"\\n\")\n",
    "print(\"top 50 katz centrality vertices: \", katz_top_t_vertices[:50])"
   ]
  },
  {
   "cell_type": "markdown",
   "metadata": {},
   "source": [
    "Evaluation of the result with reference set:"
   ]
  },
  {
   "cell_type": "code",
   "execution_count": 22,
   "metadata": {},
   "outputs": [
    {
     "name": "stdout",
     "output_type": "stream",
     "text": [
      "load and normalise GENIA gs term list from [genia_gs_terms.txt]\n",
      "initially loaded gs terms size:  35800\n",
      "normalised gs terms loaded.\n"
     ]
    }
   ],
   "source": [
    "from example_utility import load_genia_gs_terms, normalise_term, term_precision, term_recall\n",
    "gs_terms = load_genia_gs_terms('genia_gs_terms.txt')"
   ]
  },
  {
   "cell_type": "code",
   "execution_count": 23,
   "metadata": {},
   "outputs": [
    {
     "name": "stdout",
     "output_type": "stream",
     "text": [
      "\n",
      "Evaluation Result of GENIA dataset with pagerank metrics: \n",
      "\n",
      "\n",
      "overall precision:  0.4158378525513516\n",
      "overall recall:  0.653\n",
      "top_200_precision:  0.675\n",
      "top_500_precision:  0.6392785571142284\n",
      "top_1000_precision:  0.6266397578203835\n",
      "top_2000_precision:  0.5772521389028686\n",
      "top_3000_precision:  0.5955018462571333\n",
      "top_5000_precision:  0.5481272654047523\n",
      "\n",
      "Evaluation Result of GENIA dataset with TeRGraph metrics: \n",
      "\n",
      "\n",
      "overall precision:  0.4158378525513516\n",
      "overall recall:  0.653\n",
      "top_200_precision:  0.465\n",
      "top_500_precision:  0.4497991967871486\n",
      "top_1000_precision:  0.4567404426559356\n",
      "top_2000_precision:  0.4657258064516129\n",
      "top_3000_precision:  0.4744107744107744\n",
      "top_5000_precision:  0.5026358475263585\n",
      "\n",
      "Evaluation Result of GENIA dataset with Degree Centrality metrics: \n",
      "\n",
      "\n",
      "overall precision:  0.4158378525513516\n",
      "overall recall:  0.653\n",
      "top_200_precision:  0.68\n",
      "top_500_precision:  0.6412825651302605\n",
      "top_1000_precision:  0.627648839556004\n",
      "top_2000_precision:  0.5772521389028686\n",
      "top_3000_precision:  0.6088560885608856\n",
      "top_5000_precision:  0.5471925940833166\n",
      "\n",
      "Evaluation Result of GENIA dataset with hits metrics: \n",
      "\n",
      "\n",
      "overall precision:  0.4158378525513516\n",
      "overall recall:  0.653\n",
      "top_200_precision:  0.665\n",
      "top_500_precision:  0.6352705410821643\n",
      "top_1000_precision:  0.6458752515090543\n",
      "top_2000_precision:  0.6597886260694514\n",
      "top_3000_precision:  0.6123407109322603\n",
      "top_5000_precision:  0.58065164923572\n",
      "\n",
      "Evaluation Result of GENIA dataset with katz centrality metrics: \n",
      "\n",
      "\n",
      "overall precision:  0.4158378525513516\n",
      "overall recall:  0.653\n",
      "top_200_precision:  0.44221105527638194\n",
      "top_500_precision:  0.4375\n",
      "top_1000_precision:  0.46378269617706236\n",
      "top_2000_precision:  0.45732931726907633\n",
      "top_3000_precision:  0.41083974573435933\n",
      "top_5000_precision:  0.4134403209628887\n"
     ]
    }
   ],
   "source": [
    "def evaluate_genia_dataset_results(result_terms, gs_terms, solver_algorithm):\n",
    "    print(\"\\nEvaluation Result of GENIA dataset with %s metrics: \" % solver_algorithm)\n",
    "    print(\"\\n\")\n",
    "    all_norm_terms = [normalise_term(weighted_term[0]) for weighted_term in result_terms]\n",
    "    \n",
    "    overall_precision = term_precision(gs_terms, set(all_norm_terms))\n",
    "    print(\"overall precision: \", overall_precision)\n",
    "    overall_recall = term_recall(gs_terms, set(all_norm_terms))\n",
    "    print(\"overall recall: \", overall_recall)\n",
    "    top_200_precision = term_precision(gs_terms, set(all_norm_terms[:200]))\n",
    "    print(\"top_200_precision: \", top_200_precision)\n",
    "    top_500_precision = term_precision(gs_terms, set(all_norm_terms[:500]))\n",
    "    print(\"top_500_precision: \", top_500_precision)\n",
    "    top_1000_precision = term_precision(gs_terms, set(all_norm_terms[:1000]))\n",
    "    print(\"top_1000_precision: \", top_1000_precision)\n",
    "    top_2000_precision = term_precision(gs_terms, set(all_norm_terms[:2000]))\n",
    "    print(\"top_2000_precision: \", top_2000_precision)\n",
    "    top_3000_precision = term_precision(gs_terms, set(all_norm_terms[:3000]))\n",
    "    print(\"top_3000_precision: \", top_3000_precision)\n",
    "    top_5000_precision = term_precision(gs_terms, set(all_norm_terms[:5000]))\n",
    "    print(\"top_5000_precision: \", top_5000_precision)\n",
    "\n",
    "    \n",
    "evaluate_genia_dataset_results(keywords, gs_terms, \"pagerank\")\n",
    "\n",
    "evaluate_genia_dataset_results(TeRGraph_keywords, gs_terms, \"TeRGraph\")\n",
    "\n",
    "evaluate_genia_dataset_results(degree_centr_keywords, gs_terms, \"Degree Centrality\")\n",
    "\n",
    "evaluate_genia_dataset_results(hits_keywords, gs_terms, \"hits\")\n",
    "\n",
    "evaluate_genia_dataset_results(katz_keywords, gs_terms, \"katz centrality\")"
   ]
  },
  {
   "cell_type": "markdown",
   "metadata": {},
   "source": [
    "## weight  MWTs with 'log_max_norm' :"
   ]
  },
  {
   "cell_type": "code",
   "execution_count": 15,
   "metadata": {},
   "outputs": [
    {
     "name": "stdout",
     "output_type": "stream",
     "text": [
      "\n",
      "\n",
      "start term extraction with 'log_norm_max' (mu=3) for MWT terms ...\n",
      "2017-12-31 10:19:34,671 [MainThread  ] - textrank - INFO - computing vertices representations...\n",
      "2017-12-31 10:21:36,056 [MainThread  ] - textrank - INFO - total size of vertices: 16121\n",
      "2017-12-31 10:21:40,482 [MainThread  ] - textrank - DEBUG - top T(t=100) vertices: [('cell', 0.023948110403464038), ('protein', 0.012219775994005803), ('gene', 0.010030478323416008), ('expression', 0.007286230213382803), ('human', 0.006524408401121062), ('factor', 0.00612207339814623), ('activity', 0.005721538282275166), ('site', 0.005637743567407802), ('activation', 0.005599643960173472), ('receptor', 0.005050309207558882)] ...\n",
      "2017-12-31 10:21:40,502 [MainThread  ] - textrank - INFO - collapse adjacent keywords ...\n",
      "2017-12-31 10:23:25,018 [MainThread  ] - textrank - INFO - exporting sorted keywords into [textrank_genia.json]\n",
      "2017-12-31 10:23:25,114 [MainThread  ] - textrank - INFO - complete result export.\n",
      "\n",
      "\n",
      "Complete. Wall-clock elapsed time:  274.8367209434509 s\n",
      "\n",
      "\n",
      "top 30 keywords:  [('cvz-resistant cell', 0.03796), ('monocyte/macrophage cell', 0.03796), ('nef-expressing cell', 0.03796), ('cell antigen-receptor', 0.03796), ('e1a-immortalized cell', 0.03796), ('cd3+ cell', 0.03796), ('e1a-negative cell', 0.03796), ('cell important', 0.03796), ('primary cell', 0.03796), ('cell suicide', 0.03796), ('e1a-positive cell', 0.03796), ('endometrial cell', 0.03796), ('cell dysregulation', 0.03796), ('t-lineage cell', 0.03796), ('hit cell', 0.03796), ('polymorphonuclear cell', 0.03796), ('p-lps-treated cell', 0.03796), ('cell stimulus', 0.03796), ('rodent cell', 0.03796), ('cell pigmentation', 0.03796), ('rescue cell', 0.03796), ('cell differ', 0.03796), ('raji cell', 0.03796), ('monoblastoid cell', 0.03796), ('m-tat/gm-csf cell', 0.03796), ('cell require', 0.03796), ('cell cytoplasm', 0.03796), ('cell homeostasis', 0.03796), ('cell nhl', 0.03796), ('osteoclast-like cell', 0.03796)]\n",
      "\n",
      "\n",
      "Evaluation Result of GENIA dataset with 'log_norm_max' (mu=3): \n",
      "overall precision:  0.4051172707889126\n",
      "overall recall:  0.356\n",
      "top_200_precision:  0.6683417085427136\n",
      "top_500_precision:  0.6498993963782697\n",
      "top_1000_precision:  0.608257804632427\n",
      "top_2000_precision:  0.5737292400603925\n",
      "top_3000_precision:  0.5528346192552834\n",
      "top_5000_precision:  0.5384460547504025\n"
     ]
    }
   ],
   "source": [
    "print(\"\\n\")\n",
    "print(\"start term extraction with 'log_norm_max' (mu=3) for MWT terms ...\")\n",
    "start = time.time()\n",
    "\n",
    "# \"T is set to a third of the number of vertices in the graph\"\n",
    "# 'workers' is set to use all the available cpu cores\n",
    "keywords_log_norm, top_t_vertices_log_norm = keywords_extraction_from_corpus_directory(corpus_directory,\n",
    "                                                         top_p=1, stop_words=stop_list,\n",
    "                                                         lemma=True, weight_comb=\"log_norm_max\", mu=3,\n",
    "                                                         export=True, export_format=\"json\",\n",
    "                                                         export_path=\"textrank_genia.json\",\n",
    "                                                         workers=multiprocessing.cpu_count())\n",
    "\n",
    "end = time.time()\n",
    "\n",
    "print(\"\\n\")\n",
    "print(\"Complete. Wall-clock elapsed time: \", end - start, \"s\")\n",
    "print(\"\\n\")\n",
    "print(\"top 30 keywords: \", keywords_log_norm[:30])\n",
    "# print(\"\\n\")\n",
    "# print(\"top 100 vertices: \", top_t_vertices[:100])\n",
    "all_terms_log_norm = [normalise_term(weighted_term[0]) for weighted_term in keywords_log_norm]\n",
    "\n",
    "print(\"\\n\")\n",
    "print(\"Evaluation Result of GENIA dataset with 'log_norm_max' (mu=3): \")\n",
    "\n",
    "overall_precision = term_precision(gs_terms, set(all_terms_log_norm))\n",
    "print(\"overall precision: \", overall_precision)\n",
    "overall_recall = term_recall(gs_terms, set(all_terms_log_norm))\n",
    "print(\"overall recall: \", overall_recall)\n",
    "top_200_precision = term_precision(gs_terms, set(all_terms_log_norm[:200]))\n",
    "print(\"top_200_precision: \", top_200_precision)\n",
    "top_500_precision = term_precision(gs_terms, set(all_terms_log_norm[:500]))\n",
    "print(\"top_500_precision: \", top_500_precision)\n",
    "top_1000_precision = term_precision(gs_terms, set(all_terms_log_norm[:1000]))\n",
    "print(\"top_1000_precision: \", top_1000_precision)\n",
    "top_2000_precision = term_precision(gs_terms, set(all_terms_log_norm[:2000]))\n",
    "print(\"top_2000_precision: \", top_2000_precision)\n",
    "top_3000_precision = term_precision(gs_terms, set(all_terms_log_norm[:3000]))\n",
    "print(\"top_3000_precision: \", top_3000_precision)\n",
    "top_5000_precision = term_precision(gs_terms, set(all_terms_log_norm[:5000]))\n",
    "print(\"top_5000_precision: \", top_5000_precision)"
   ]
  },
  {
   "cell_type": "markdown",
   "metadata": {},
   "source": [
    "## weight  MWTs with \"gaussian_norm_max\""
   ]
  },
  {
   "cell_type": "code",
   "execution_count": 16,
   "metadata": {},
   "outputs": [
    {
     "name": "stdout",
     "output_type": "stream",
     "text": [
      "\n",
      "\n",
      "start term extraction with 'gaussian_norm_max' (mu=5) for MWT terms ...\n",
      "2017-12-31 10:24:59,658 [MainThread  ] - textrank - INFO - computing vertices representations...\n",
      "2017-12-31 10:27:16,615 [MainThread  ] - textrank - INFO - total size of vertices: 16121\n",
      "2017-12-31 10:27:20,859 [MainThread  ] - textrank - DEBUG - top T(t=100) vertices: [('cell', 0.023948110403464038), ('protein', 0.012219775994005803), ('gene', 0.010030478323416008), ('expression', 0.007286230213382803), ('human', 0.006524408401121062), ('factor', 0.00612207339814623), ('activity', 0.005721538282275166), ('site', 0.005637743567407802), ('activation', 0.005599643960173472), ('receptor', 0.005050309207558882)] ...\n",
      "2017-12-31 10:27:20,886 [MainThread  ] - textrank - INFO - collapse adjacent keywords ...\n",
      "2017-12-31 10:28:57,199 [MainThread  ] - textrank - INFO - exporting sorted keywords into [textrank_genia.json]\n",
      "2017-12-31 10:28:57,303 [MainThread  ] - textrank - INFO - complete result export.\n",
      "\n",
      "\n",
      "Complete. Wall-clock elapsed time:  283.45583748817444 s\n",
      "\n",
      "\n",
      "top 30 keywords:  [('class ii transactivator-independent endothelial cell mhc class ii gene activation induce', 0.02395), ('olfactory neuronal cell reveal virtual complete amino acid sequence identity', 0.02395), ('multipotent eml cell harbor substantial nuclear hormone receptor coactivator activity', 0.02395), ('proteasome inhibitor mg-132 block tnf -and lps-stimulated u-937 cell adhesion', 0.02395), ('normal mouse bone marrow generate hematopoietic growth factor-dependent cell line', 0.02395), ('janus kinase-1-deficient cell line u4a express hla-dr alpha mrna', 0.02393), ('pparalpha activator inhibit cytokine-induced vascular cell adhesion molecule-1 expression', 0.02393), ('class ii major histocompatibility complex mutant cell line clone-13', 0.02393), ('transfected human colonic carcinoma cell line ht29 activate transcription', 0.02393), ('cell', 0.02393), ('bone marrow-derived mip-1 alpha/gos19 inhibits primitive hematopoietic stem cell', 0.02393), ('cvz-resistant cell', 0.02368), ('human t-cell leukemia virus type 1-transformed mt-2 cell', 0.02368), ('monocyte/macrophage cell', 0.02368), ('nef-expressing cell', 0.02368), ('cell antigen-receptor', 0.02368), ('e1a-immortalized cell', 0.02368), ('cd3+ cell', 0.02368), ('e1a-negative cell', 0.02368), ('cell important', 0.02368), ('primary cell', 0.02368), ('cell suicide', 0.02368), ('e1a-positive cell', 0.02368), ('endometrial cell', 0.02368), ('cell dysregulation', 0.02368), ('t-lineage cell', 0.02368), ('hit cell', 0.02368), ('polymorphonuclear cell', 0.02368), ('p-lps-treated cell', 0.02368), ('cell stimulus', 0.02368)]\n",
      "\n",
      "\n",
      "Evaluation Result of GENIA dataset with 'gaussian_norm_max' (mu=5): \n",
      "overall precision:  0.4051172707889126\n",
      "overall recall:  0.356\n",
      "top_200_precision:  0.6231155778894473\n",
      "top_500_precision:  0.6277665995975855\n",
      "top_1000_precision:  0.5981873111782477\n",
      "top_2000_precision:  0.5561147458480121\n",
      "top_3000_precision:  0.4986586183769282\n",
      "top_5000_precision:  0.5106768734891217\n"
     ]
    }
   ],
   "source": [
    "print(\"\\n\")\n",
    "print(\"start term extraction with 'gaussian_norm_max' (mu=5) for MWT terms ...\")\n",
    "start = time.time()\n",
    "\n",
    "# \"T is set to a third of the number of vertices in the graph\"\n",
    "# 'workers' is set to use all the available cpu cores\n",
    "keywords_log_norm, top_t_vertices_log_norm = keywords_extraction_from_corpus_directory(corpus_directory,\n",
    "                                                         top_p=1, stop_words=stop_list,\n",
    "                                                         lemma=True, weight_comb=\"gaussian_norm_max\", mu=5,\n",
    "                                                         export=True, export_format=\"json\",\n",
    "                                                         export_path=\"textrank_genia.json\",\n",
    "                                                         workers=multiprocessing.cpu_count())\n",
    "\n",
    "end = time.time()\n",
    "\n",
    "print(\"\\n\")\n",
    "print(\"Complete. Wall-clock elapsed time: \", end - start, \"s\")\n",
    "print(\"\\n\")\n",
    "print(\"top 30 keywords: \", keywords_log_norm[:30])\n",
    "# print(\"\\n\")\n",
    "# print(\"top 100 vertices: \", top_t_vertices[:100])\n",
    "all_terms_log_norm = [normalise_term(weighted_term[0]) for weighted_term in keywords_log_norm]\n",
    "\n",
    "print(\"\\n\")\n",
    "print(\"Evaluation Result of GENIA dataset with 'gaussian_norm_max' (mu=5): \")\n",
    "\n",
    "overall_precision = term_precision(gs_terms, set(all_terms_log_norm))\n",
    "print(\"overall precision: \", overall_precision)\n",
    "overall_recall = term_recall(gs_terms, set(all_terms_log_norm))\n",
    "print(\"overall recall: \", overall_recall)\n",
    "top_200_precision = term_precision(gs_terms, set(all_terms_log_norm[:200]))\n",
    "print(\"top_200_precision: \", top_200_precision)\n",
    "top_500_precision = term_precision(gs_terms, set(all_terms_log_norm[:500]))\n",
    "print(\"top_500_precision: \", top_500_precision)\n",
    "top_1000_precision = term_precision(gs_terms, set(all_terms_log_norm[:1000]))\n",
    "print(\"top_1000_precision: \", top_1000_precision)\n",
    "top_2000_precision = term_precision(gs_terms, set(all_terms_log_norm[:2000]))\n",
    "print(\"top_2000_precision: \", top_2000_precision)\n",
    "top_3000_precision = term_precision(gs_terms, set(all_terms_log_norm[:3000]))\n",
    "print(\"top_3000_precision: \", top_3000_precision)\n",
    "top_5000_precision = term_precision(gs_terms, set(all_terms_log_norm[:5000]))\n",
    "print(\"top_5000_precision: \", top_5000_precision)"
   ]
  },
  {
   "cell_type": "markdown",
   "metadata": {},
   "source": [
    "# Term extraction from pre-tagged corpus\n",
    "\n",
    "Following example shows how to pre-process the corpus with [spaCy](https://spacy.io/).\n",
    "\n",
    "To run the following demo, you need to :\n",
    "\n",
    "    1) install spaCy ('pip install spacy');\n",
    "    \n",
    "    2) download the corresponding language model (e.g., 'python -m spacy download en');"
   ]
  },
  {
   "cell_type": "code",
   "execution_count": 17,
   "metadata": {},
   "outputs": [
    {
     "name": "stdout",
     "output_type": "stream",
     "text": [
      "term extraction from spaCy pre-processed corpus [GENIAcorpus302\\text\\files] ...\n",
      "2017-12-31 10:35:00,028 [MainThread  ] - textrank - INFO - computing vertices representations...\n",
      "2017-12-31 10:36:33,040 [MainThread  ] - textrank - INFO - total size of vertices: 11302\n",
      "2017-12-31 10:36:36,560 [MainThread  ] - textrank - DEBUG - top T(t=11302) vertices: [('cell', 0.02259906937549665), ('protein', 0.009352316939077296), ('gene', 0.007757374131964984), ('expression', 0.0070838554691529405), ('human', 0.006509913016572303), ('induce', 0.005632356590088859), ('factor', 0.005613458154663062), ('receptor', 0.005058091765301573), ('activity', 0.005052917635916724), ('site', 0.004854466911063564)] ...\n",
      "2017-12-31 10:36:36,590 [MainThread  ] - textrank - INFO - collapse adjacent keywords ...\n",
      "2017-12-31 10:39:20,757 [MainThread  ] - textrank - INFO - exporting sorted keywords into [textrank_genia_spacy.json]\n",
      "2017-12-31 10:39:20,895 [MainThread  ] - textrank - INFO - complete result export.\n",
      "\n",
      "\n",
      "Complete. Wall-clock elapsed time:  522.8503828048706 s\n",
      "\n",
      "\n",
      "top 50 keywords:  [('cell', 0.0226), ('meg cell', 0.0113), ('cell important', 0.0113), ('primary cell', 0.0113), ('cell suicide', 0.0113), ('endometrial cell', 0.0113), ('cell dysregulation', 0.0113), ('hit cell', 0.0113), ('cell enhancer', 0.0113), ('reveal cell', 0.0113), ('polymorphonuclear cell', 0.0113), ('cell stimulus', 0.0113), ('cell pigmentation', 0.0113), ('rescue cell', 0.0113), ('cell differ', 0.0113), ('raji cell', 0.0113), ('single cell', 0.0113), ('monoblastoid cell', 0.0113), ('specific cell', 0.0113), ('scf cell', 0.0113), ('cell cytoplasm', 0.0113), ('cell homeostasis', 0.0113), ('form cell', 0.0113), ('cell nhl', 0.0113), ('cell interaction', 0.0113), ('cell leukemia(atl', 0.0113), ('myc cell', 0.0113), ('cd45ra+ cell', 0.0113), ('cell dysfunction', 0.0113), ('cell rt', 0.0113), ('p19 cell', 0.0113), ('cell fusion', 0.0113), ('apl cell', 0.0113), ('vascular cell', 0.0113), ('leukemic cell', 0.0113), ('cell nucleus', 0.0113), ('el4 cell', 0.0113), ('cell play', 0.0113), ('lymphocyte cell', 0.0113), ('cell death', 0.0113), ('hl60 cell', 0.0113), ('lgl cell', 0.0113), ('cell component', 0.0113), ('nontolerant cell', 0.0113), ('cell receptor(tcr', 0.0113), ('mammalian cell', 0.0113), ('s49 cell', 0.0113), ('cell progression', 0.0113), ('cell activity', 0.0113), ('cell anergy', 0.0113)]\n",
      "\n",
      "\n",
      "top 100 vertices:  [('cell', 0.02259906937549665), ('protein', 0.009352316939077296), ('gene', 0.007757374131964984), ('expression', 0.0070838554691529405), ('human', 0.006509913016572303), ('induce', 0.005632356590088859), ('factor', 0.005613458154663062), ('receptor', 0.005058091765301573), ('activity', 0.005052917635916724), ('site', 0.004854466911063564), ('bind', 0.0048387880363347496), ('line', 0.004771962008970769), ('activation', 0.004592101893755754), ('increase', 0.004544050033779926), ('show', 0.004329604189613286), ('patient', 0.0041514391592677785), ('transcription', 0.004078337346051853), ('promoter', 0.003979797013578254), ('effect', 0.0037629879096561735), ('inhibit', 0.003561995440396876), ('activate', 0.0035158081339410376), ('nf', 0.0034761010871253092), ('region', 0.0034663535462908686), ('sequence', 0.003402680842574969), ('alpha', 0.003391319762553001), ('element', 0.0031539978353928317), ('express', 0.0029420824851103702), ('dna', 0.0028908574474227977), ('complex', 0.0027100739667771418), ('specific', 0.0025729080614031344), ('level', 0.002541823979004137), ('result', 0.002483874418258789), ('acid', 0.0024731865319240613), ('domain', 0.002426905037279887), ('response', 0.002418844669410814), ('lymphocyte', 0.0023026635995264636), ('mediate', 0.0022868613990206592), ('associate', 0.0022585755391583786), ('motif', 0.002240433869451012), ('analysis', 0.002230634657234609), ('inhibitor', 0.002182379394422543), ('nuclear', 0.0021667003690500103), ('mouse', 0.0021653696891360775), ('kappa', 0.0020956164616614745), ('pathway', 0.0020137710802887155), ('assay', 0.0020015913212624264), ('type', 0.001999030835948611), ('kinase', 0.0019393999043118702), ('normal', 0.0019326641626960352), ('demonstrate', 0.0019290089651643643), ('mrna', 0.0019261776656546168), ('beta', 0.0018943676900068868), ('treatment', 0.0018741912405025258), ('study', 0.0018578044057258264), ('induction', 0.0018283393799522357), ('virus', 0.001795673212408548), ('role', 0.0017787464633346618), ('reveal', 0.00176375780343981), ('antibody', 0.001757254921926598), ('disease', 0.0016793087009445813), ('peptide', 0.0016511870935255965), ('mechanism', 0.0015901865490635303), ('control', 0.0015339862126792132), ('block', 0.001492881126879345), ('phosphorylation', 0.0014642686664080404), ('antigen', 0.0014637128975936219), ('signal', 0.0014616690777806546), ('ligand', 0.0014476998253976146), ('function', 0.0014460106740880885), ('binding', 0.001440166657197822), ('clone', 0.001439622979738856), ('mutant', 0.0014231718096030233), ('concentration', 0.0014143791497376254), ('stimulate', 0.0014105395655038156), ('enhance', 0.0014003691174949953), ('regulate', 0.001389716309704663), ('enhancer', 0.0013848853592383717), ('form', 0.0013764558446648298), ('glucocorticoid', 0.0013738540511794625), ('cellular', 0.0013552127620888661), ('stimulation', 0.0013324805937509935), ('high', 0.0013307167421311005), ('family', 0.0013277599488208767), ('translocation', 0.0013189666688100407), ('mutation', 0.0013165149486636769), ('lead', 0.0012875998969929029), ('tumor', 0.001269639368209397), ('monocyte', 0.0012419176247864699), ('decrease', 0.0012383968013233986), ('addition', 0.0012135504246241105), ('differentiation', 0.0011973919547578345), ('inhibition', 0.0011862870093527645), ('cytokine', 0.0011859473736224176), ('infection', 0.0011725890803493426), ('repeat', 0.0011722344540227641), ('interaction', 0.001170798057618034), ('tissue', 0.001155621505478948), ('group', 0.001124398967685244), ('ii', 0.0011229064853763844), ('present', 0.0011183034849933566)]\n"
     ]
    }
   ],
   "source": [
    "from jgtextrank import keywords_extraction_from_tagged_corpus\n",
    "from example_utility import pre_processing_corpus_with_spacy\n",
    "\n",
    "corpus_directory = os.path.join('GENIAcorpus302', 'text', 'files')\n",
    "# pre-processing raw corpus with spaCy library\n",
    "pre_processed_corpus = pre_processing_corpus_with_spacy(corpus_directory, encoding=\"utf-8\", lemma=True)\n",
    "\n",
    "print(\"term extraction from spaCy pre-processed corpus [%s] ...\" % corpus_directory)\n",
    "\n",
    "# PoS tagging can be erroneous with domain-specific corpus. Custom stop list can be applied to improve precision\n",
    "# stop_list = stop_list + [\"regulate\", \"show\", \"activate\", \"express\", \"increase\", \"increased\", \"target\", \"demonstrate\", \"mimic\", \"exert\", \"acute\"]\n",
    "\n",
    "start = time.time()\n",
    "\n",
    "\n",
    "keywords_spacy, top_t_vertices_spacy = keywords_extraction_from_tagged_corpus(pre_processed_corpus, window=2,\n",
    "                                                                  top_p = 1, stop_words=stop_list,\n",
    "                                                                  weight_comb=\"norm_max\",\n",
    "                                                                  export=True, export_format=\"json\",\n",
    "                                                                  export_path=\"textrank_genia_spacy.json\",\n",
    "                                                                  workers=multiprocessing.cpu_count())\n",
    "\n",
    "end = time.time()\n",
    "\n",
    "print(\"\\n\")\n",
    "print(\"Complete. Wall-clock elapsed time: \", end - start, \"s\")\n",
    "print(\"\\n\")\n",
    "print(\"top 50 keywords: \", keywords_spacy[:50])\n",
    "print(\"\\n\")\n",
    "print(\"top 100 vertices: \", top_t_vertices_spacy[:100])\n"
   ]
  },
  {
   "cell_type": "markdown",
   "metadata": {},
   "source": [
    "Evaluation of the result with reference set:"
   ]
  },
  {
   "cell_type": "code",
   "execution_count": 18,
   "metadata": {},
   "outputs": [
    {
     "name": "stdout",
     "output_type": "stream",
     "text": [
      "Evaluation Result with spaCy pre-processed GENIA dataset: \n",
      "\n",
      "\n",
      "overall_precision_spacy:  0.34395678911310124\n",
      "overall recall_spacy:  0.484\n",
      "top_200_precision_spacy:  0.515\n",
      "top_500_precision_spacy:  0.5370741482965932\n",
      "top_1000_precision_spacy:  0.4759519038076152\n",
      "top_2000_precision_spacy:  0.437875751503006\n",
      "top_3000_precision_spacy:  0.42518370073480294\n",
      "top_5000_precision_spacy:  0.40665730900340885\n"
     ]
    }
   ],
   "source": [
    "# results are normalised (punctuation removal and lower casing) for evaluation\n",
    "all_terms_spacy = [normalise_term(weighted_term[0]) for weighted_term in keywords_spacy]\n",
    "\n",
    "print(\"Evaluation Result with spaCy pre-processed GENIA dataset: \")\n",
    "print(\"\\n\")\n",
    "\n",
    "overall_precision_spacy = term_precision(gs_terms, set(all_terms_spacy))\n",
    "print(\"overall_precision_spacy: \", overall_precision_spacy)\n",
    "overall_recall_spacy = term_recall(gs_terms, set(all_terms_spacy))\n",
    "print(\"overall recall_spacy: \", overall_recall_spacy)\n",
    "top_200_precision_spacy = term_precision(gs_terms, set(all_terms_spacy[:200]))\n",
    "print(\"top_200_precision_spacy: \", top_200_precision_spacy)\n",
    "top_500_precision_spacy = term_precision(gs_terms, set(all_terms_spacy[:500]))\n",
    "print(\"top_500_precision_spacy: \", top_500_precision_spacy)\n",
    "top_1000_precision_spacy = term_precision(gs_terms, set(all_terms_spacy[:1000]))\n",
    "print(\"top_1000_precision_spacy: \", top_1000_precision_spacy)\n",
    "top_2000_precision_spacy = term_precision(gs_terms, set(all_terms_spacy[:2000]))\n",
    "print(\"top_2000_precision_spacy: \", top_2000_precision_spacy)\n",
    "top_3000_precision_spacy = term_precision(gs_terms, set(all_terms_spacy[:3000]))\n",
    "print(\"top_3000_precision_spacy: \", top_3000_precision_spacy)\n",
    "top_5000_precision_spacy = term_precision(gs_terms, set(all_terms_spacy[:5000]))\n",
    "print(\"top_5000_precision_spacy: \", top_5000_precision_spacy)"
   ]
  },
  {
   "cell_type": "code",
   "execution_count": null,
   "metadata": {},
   "outputs": [],
   "source": []
  }
 ],
 "metadata": {
  "kernelspec": {
   "display_name": "Python 3",
   "language": "python",
   "name": "python3"
  },
  "language_info": {
   "codemirror_mode": {
    "name": "ipython",
    "version": 3
   },
   "file_extension": ".py",
   "mimetype": "text/x-python",
   "name": "python",
   "nbconvert_exporter": "python",
   "pygments_lexer": "ipython3",
   "version": "3.6.2"
  }
 },
 "nbformat": 4,
 "nbformat_minor": 2
}
